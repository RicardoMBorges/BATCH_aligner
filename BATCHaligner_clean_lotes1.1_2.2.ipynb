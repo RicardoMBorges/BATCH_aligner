{
 "cells": [
  {
   "cell_type": "markdown",
   "id": "d629b06e-9314-4c03-b71b-05113b04a95f",
   "metadata": {},
   "source": [
    "## BATCH aligner"
   ]
  },
  {
   "cell_type": "markdown",
   "id": "d0a1e154-77be-4cce-9b41-7f59b27cebe8",
   "metadata": {},
   "source": [
    "#### Introduction\n",
    "\n",
    "In metabolomics and natural product research, it is crucial to ensure that features detected across multiple batches of mass spectrometry (MS) data are accurately aligned and comparable. This notebook provides a comprehensive workflow for aligning MS features across different batches, focusing on interbatch comparison and annotation of compounds. The method is designed specifically for features that include MS/MS data, which allows for a more precise and reliable alignment process.\n",
    "\n",
    "#### Objectives\n",
    "\n",
    "##### The primary goals of this notebook are:\n",
    "\n",
    "* Feature Alignment: Align MS features from multiple batches based on retention time (RT) and mass-to-charge ratio (m/z) thresholds.\n",
    "* Cosine Similarity Calculation: Filter aligned features by computing the cosine similarity between their MS/MS spectra to ensure they are indeed similar.\n",
    "* Visualization: Plot and visualize the aligned features to facilitate further analysis and validation.\n",
    "\n",
    "#### Methodology\n",
    "\n",
    "##### The notebook is structured to perform the following key steps:\n",
    "\n",
    "1. Data Import and Setup: Read MS feature data from .csv files corresponding to different batches and set up the necessary environment for processing.\n",
    "\n",
    "Data Requirements:\n",
    "\n",
    "    1. Process each batch using MZMine accordingly.\n",
    "    2. Export the aligned feature list for applying the exported data to:\n",
    "        (a) GNPS-FBMN (xxxx_quant.csv + xxxx.mgf)\n",
    "        (b) MetaboAnalyst (xxxx_MetaboAnalyst.csv)\n",
    "    3. Name the exported files as follows: xxxx_batch#.mgf, xxxx_batch#.csv, xxxx_batch#_MetaboAnalyst.csv\n",
    "        xxxx is the \"project name\" (e.g., \"PHerb1\"), and # refers to the batch number.\n",
    "\n",
    "\n",
    "2. Feature Alignment: Use the align_features function to merge features from different batches based on predefined RT and m/z thresholds.\n",
    "3. Cosine Similarity Filtering: Apply the calculate_cosine_similarity function to compare MS/MS spectra of aligned features, retaining only those with high similarity.\n",
    "4. Visualization: Utilize plotting functions to visualize the spectra of aligned features, both for specific scan numbers and for randomly selected features.\n",
    "\n",
    "#### Notes\n",
    "\n",
    "* Scope: This method focuses exclusively on features with MS/MS data, as those without MS/MS data are outside the scope of this alignment approach.\n",
    "* Application: The alignment and visualization techniques provided here are tailored for applications in natural products and metabolomics research, where accurate interbatch comparison is essential."
   ]
  },
  {
   "cell_type": "markdown",
   "id": "ae87f950-7faf-4b04-a9f4-7b02be25a46e",
   "metadata": {},
   "source": [
    "---\n",
    "#### Import the necessary libraries for data manipulation, computation, and visualization.\n"
   ]
  },
  {
   "cell_type": "code",
   "execution_count": 1,
   "id": "91e47ffa-ebec-41f6-9474-47a5148695af",
   "metadata": {},
   "outputs": [],
   "source": [
    "from alignment_functions import * #parse_mgf_files, extract_values_and_create_dfs, align_features, calculate_cosine_similarity, filter_aligned_features, plot_ms_spectra, plot_random_ms_spectra"
   ]
  },
  {
   "cell_type": "markdown",
   "id": "fdc2e098-068f-468a-be85-447970185554",
   "metadata": {},
   "source": [
    "---"
   ]
  },
  {
   "cell_type": "code",
   "execution_count": 8,
   "id": "4f047d0b-76d5-4bb9-853b-20361bfbe679",
   "metadata": {},
   "outputs": [],
   "source": [
    "# Directory containing .mgf files and related MetaboAnalyst.csv files\n",
    "directory_path = r'C:\\Users\\PC Lab\\Edison_Lab@UGA Dropbox\\Ricardo Borges\\Projeto_herbarium\\Andrew Lab\\Projeto herbário\\MSMS - Amostras\\Projeto_alinhamento\\Processamento_romulo\\batches'\n",
    "\n",
    "# Define the project\n",
    "project_prefix = \"PHerb1_\"\n",
    "\n",
    "# Align features across batches with selected mz_threshold and rt_threshold values\n",
    "mz_threshold = 0.02\n",
    "rt_threshold = 0.4\n",
    "cosine_threshold = 0.95"
   ]
  },
  {
   "cell_type": "markdown",
   "id": "65231bfe-affb-49ba-b705-7d1a75235f6f",
   "metadata": {},
   "source": [
    "---\n",
    "#### Parse the .mgf Files\n",
    "\n",
    "This sets up the directory path for the MGF and MetaboAnalyst.csv files and defines a function to parse the MGF files. Follow these steps:\n",
    "\n",
    "The parse_mgf_files function manually reads each MGF file, extracts the spectra data, and stores it in a dictionary. The purpose is to load and verify the spectral data from the MGF files for further analysis."
   ]
  },
  {
   "cell_type": "code",
   "execution_count": 9,
   "id": "901c95b1-dfc5-4bb9-b2fa-d519781ba3ad",
   "metadata": {},
   "outputs": [
    {
     "name": "stdout",
     "output_type": "stream",
     "text": [
      "Processing MGF file: C:\\Users\\PC Lab\\Edison_Lab@UGA Dropbox\\Ricardo Borges\\Projeto_herbarium\\Andrew Lab\\Projeto herbário\\MSMS - Amostras\\Projeto_alinhamento\\Processamento_romulo\\batches\\PHerb1_1-1-romulo.mgf\n",
      "Processing MGF file: C:\\Users\\PC Lab\\Edison_Lab@UGA Dropbox\\Ricardo Borges\\Projeto_herbarium\\Andrew Lab\\Projeto herbário\\MSMS - Amostras\\Projeto_alinhamento\\Processamento_romulo\\batches\\PHerb1_1-2-romulo.mgf\n",
      "Processing MGF file: C:\\Users\\PC Lab\\Edison_Lab@UGA Dropbox\\Ricardo Borges\\Projeto_herbarium\\Andrew Lab\\Projeto herbário\\MSMS - Amostras\\Projeto_alinhamento\\Processamento_romulo\\batches\\PHerb1_2-1-romulo.mgf\n",
      "Processing MGF file: C:\\Users\\PC Lab\\Edison_Lab@UGA Dropbox\\Ricardo Borges\\Projeto_herbarium\\Andrew Lab\\Projeto herbário\\MSMS - Amostras\\Projeto_alinhamento\\Processamento_romulo\\batches\\PHerb1_2-2-romulo.mgf\n",
      "Batch: PHerb1_1-1-romulo, Number of spectra: 908\n",
      "Batch: PHerb1_1-2-romulo, Number of spectra: 595\n",
      "Batch: PHerb1_2-1-romulo, Number of spectra: 374\n",
      "Batch: PHerb1_2-2-romulo, Number of spectra: 369\n"
     ]
    }
   ],
   "source": [
    "# Parse .mgf files to get spectra\n",
    "spectra = parse_mgf_files(directory_path)\n",
    "\n",
    "# Verify that the spectra have been loaded correctly\n",
    "for batch_name, batch_spectra in spectra.items():\n",
    "    print(f\"Batch: {batch_name}, Number of spectra: {len(batch_spectra)}\")"
   ]
  },
  {
   "cell_type": "markdown",
   "id": "c4257a53-44d1-4593-898c-4d83e1be88bd",
   "metadata": {},
   "source": [
    "---\n",
    "#### Extract Values and Create DataFrames from .csv Files\n",
    "\n",
    "This step reads the MetaboAnalyst.csv files, extracts the relevant data, and creates a DataFrame for each file.\n",
    "\n",
    "    1. Process each file to extract scan numbers, mz values, and rt values.\n",
    "    2. Handle missing data by replacing NaN values with 0.\n",
    "    3. Convert data types appropriately for analysis.\n",
    "    4. Add batch information to each DataFrame.\n",
    "\n",
    "* The function extract_values_and_create_dfs reads _MetaboAnalyst.csv files from the specified directory, extracting key information such as scan_number, mz_value, rt_value, and the batch identifier.\n",
    "* The first row of each batch, which contains classification information, is excluded from the alignment process but saved for future use.\n",
    "\n",
    "The processed DataFrames are stored in a dictionary for further analysis."
   ]
  },
  {
   "cell_type": "code",
   "execution_count": 10,
   "id": "a4efd0be-5883-41b9-b2ec-3bc6bad74956",
   "metadata": {},
   "outputs": [
    {
     "name": "stdout",
     "output_type": "stream",
     "text": [
      "df_PHerb1_1-1-romulo:\n"
     ]
    },
    {
     "data": {
      "text/html": [
       "<div>\n",
       "<style scoped>\n",
       "    .dataframe tbody tr th:only-of-type {\n",
       "        vertical-align: middle;\n",
       "    }\n",
       "\n",
       "    .dataframe tbody tr th {\n",
       "        vertical-align: top;\n",
       "    }\n",
       "\n",
       "    .dataframe thead th {\n",
       "        text-align: right;\n",
       "    }\n",
       "</style>\n",
       "<table border=\"1\" class=\"dataframe\">\n",
       "  <thead>\n",
       "    <tr style=\"text-align: right;\">\n",
       "      <th></th>\n",
       "      <th>scan_number</th>\n",
       "      <th>mz_value</th>\n",
       "      <th>rt_value</th>\n",
       "      <th>batch</th>\n",
       "      <th>feature_batch</th>\n",
       "      <th>Filename</th>\n",
       "      <th>6.mzML</th>\n",
       "      <th>16.mzML</th>\n",
       "      <th>12.mzML</th>\n",
       "      <th>13.mzML</th>\n",
       "      <th>...</th>\n",
       "      <th>33.mzML</th>\n",
       "      <th>31.mzML</th>\n",
       "      <th>53.mzML</th>\n",
       "      <th>41.mzML</th>\n",
       "      <th>45.mzML</th>\n",
       "      <th>48.mzML</th>\n",
       "      <th>MPCQExt.mzML</th>\n",
       "      <th>CQExt_20231024173747.mzML</th>\n",
       "      <th>CQExt.mzML</th>\n",
       "      <th>CQExt_20231024150135.mzML</th>\n",
       "    </tr>\n",
       "  </thead>\n",
       "  <tbody>\n",
       "    <tr>\n",
       "      <th>1</th>\n",
       "      <td>1</td>\n",
       "      <td>151.0355</td>\n",
       "      <td>0.21</td>\n",
       "      <td>PHerb1_1-1-romulo</td>\n",
       "      <td>1_PHerb1_1-1-romulo</td>\n",
       "      <td>1/151.0355mz/0.21min</td>\n",
       "      <td>1559816.5</td>\n",
       "      <td>2542374.5</td>\n",
       "      <td>765244.625</td>\n",
       "      <td>2182983.75</td>\n",
       "      <td>...</td>\n",
       "      <td>980111.6875</td>\n",
       "      <td>0</td>\n",
       "      <td>260038.859375</td>\n",
       "      <td>307575.3125</td>\n",
       "      <td>1095140.0</td>\n",
       "      <td>0</td>\n",
       "      <td>310584.71875</td>\n",
       "      <td>419492.875</td>\n",
       "      <td>0</td>\n",
       "      <td>433144.96875</td>\n",
       "    </tr>\n",
       "    <tr>\n",
       "      <th>2</th>\n",
       "      <td>2</td>\n",
       "      <td>83.5361</td>\n",
       "      <td>0.21</td>\n",
       "      <td>PHerb1_1-1-romulo</td>\n",
       "      <td>2_PHerb1_1-1-romulo</td>\n",
       "      <td>2/83.5361mz/0.21min</td>\n",
       "      <td>0</td>\n",
       "      <td>665364.5625</td>\n",
       "      <td>0</td>\n",
       "      <td>438936.5</td>\n",
       "      <td>...</td>\n",
       "      <td>0</td>\n",
       "      <td>0</td>\n",
       "      <td>0</td>\n",
       "      <td>0</td>\n",
       "      <td>0</td>\n",
       "      <td>0</td>\n",
       "      <td>0</td>\n",
       "      <td>0</td>\n",
       "      <td>0</td>\n",
       "      <td>0</td>\n",
       "    </tr>\n",
       "    <tr>\n",
       "      <th>3</th>\n",
       "      <td>3</td>\n",
       "      <td>153.0331</td>\n",
       "      <td>0.21</td>\n",
       "      <td>PHerb1_1-1-romulo</td>\n",
       "      <td>3_PHerb1_1-1-romulo</td>\n",
       "      <td>3/153.0331mz/0.21min</td>\n",
       "      <td>0</td>\n",
       "      <td>289347.4375</td>\n",
       "      <td>0</td>\n",
       "      <td>0</td>\n",
       "      <td>...</td>\n",
       "      <td>0</td>\n",
       "      <td>0</td>\n",
       "      <td>0</td>\n",
       "      <td>0</td>\n",
       "      <td>0</td>\n",
       "      <td>0</td>\n",
       "      <td>0</td>\n",
       "      <td>0</td>\n",
       "      <td>0</td>\n",
       "      <td>0</td>\n",
       "    </tr>\n",
       "    <tr>\n",
       "      <th>4</th>\n",
       "      <td>4</td>\n",
       "      <td>241.9999</td>\n",
       "      <td>0.21</td>\n",
       "      <td>PHerb1_1-1-romulo</td>\n",
       "      <td>4_PHerb1_1-1-romulo</td>\n",
       "      <td>4/241.9999mz/0.21min</td>\n",
       "      <td>644490.8125</td>\n",
       "      <td>1089360.125</td>\n",
       "      <td>0</td>\n",
       "      <td>1040891.9375</td>\n",
       "      <td>...</td>\n",
       "      <td>0</td>\n",
       "      <td>503821.78125</td>\n",
       "      <td>0</td>\n",
       "      <td>0</td>\n",
       "      <td>0</td>\n",
       "      <td>0</td>\n",
       "      <td>0</td>\n",
       "      <td>0</td>\n",
       "      <td>0</td>\n",
       "      <td>0</td>\n",
       "    </tr>\n",
       "    <tr>\n",
       "      <th>5</th>\n",
       "      <td>5</td>\n",
       "      <td>130.0174</td>\n",
       "      <td>0.21</td>\n",
       "      <td>PHerb1_1-1-romulo</td>\n",
       "      <td>5_PHerb1_1-1-romulo</td>\n",
       "      <td>5/130.0174mz/0.21min</td>\n",
       "      <td>0</td>\n",
       "      <td>343931.6875</td>\n",
       "      <td>0</td>\n",
       "      <td>0</td>\n",
       "      <td>...</td>\n",
       "      <td>0</td>\n",
       "      <td>0</td>\n",
       "      <td>0</td>\n",
       "      <td>0</td>\n",
       "      <td>0</td>\n",
       "      <td>0</td>\n",
       "      <td>0</td>\n",
       "      <td>0</td>\n",
       "      <td>0</td>\n",
       "      <td>0</td>\n",
       "    </tr>\n",
       "    <tr>\n",
       "      <th>...</th>\n",
       "      <td>...</td>\n",
       "      <td>...</td>\n",
       "      <td>...</td>\n",
       "      <td>...</td>\n",
       "      <td>...</td>\n",
       "      <td>...</td>\n",
       "      <td>...</td>\n",
       "      <td>...</td>\n",
       "      <td>...</td>\n",
       "      <td>...</td>\n",
       "      <td>...</td>\n",
       "      <td>...</td>\n",
       "      <td>...</td>\n",
       "      <td>...</td>\n",
       "      <td>...</td>\n",
       "      <td>...</td>\n",
       "      <td>...</td>\n",
       "      <td>...</td>\n",
       "      <td>...</td>\n",
       "      <td>...</td>\n",
       "      <td>...</td>\n",
       "    </tr>\n",
       "    <tr>\n",
       "      <th>1163</th>\n",
       "      <td>1167</td>\n",
       "      <td>413.3772</td>\n",
       "      <td>7.40</td>\n",
       "      <td>PHerb1_1-1-romulo</td>\n",
       "      <td>1167_PHerb1_1-1-romulo</td>\n",
       "      <td>1167/413.3772mz/7.40min</td>\n",
       "      <td>0</td>\n",
       "      <td>0</td>\n",
       "      <td>0</td>\n",
       "      <td>75069.578125</td>\n",
       "      <td>...</td>\n",
       "      <td>0</td>\n",
       "      <td>0</td>\n",
       "      <td>0</td>\n",
       "      <td>0</td>\n",
       "      <td>0</td>\n",
       "      <td>0</td>\n",
       "      <td>0</td>\n",
       "      <td>0</td>\n",
       "      <td>0</td>\n",
       "      <td>0</td>\n",
       "    </tr>\n",
       "    <tr>\n",
       "      <th>1164</th>\n",
       "      <td>1168</td>\n",
       "      <td>413.3774</td>\n",
       "      <td>7.41</td>\n",
       "      <td>PHerb1_1-1-romulo</td>\n",
       "      <td>1168_PHerb1_1-1-romulo</td>\n",
       "      <td>1168/413.3774mz/7.41min</td>\n",
       "      <td>96374.15625</td>\n",
       "      <td>0</td>\n",
       "      <td>0</td>\n",
       "      <td>41207.1328125</td>\n",
       "      <td>...</td>\n",
       "      <td>0</td>\n",
       "      <td>0</td>\n",
       "      <td>0</td>\n",
       "      <td>0</td>\n",
       "      <td>0</td>\n",
       "      <td>0</td>\n",
       "      <td>0</td>\n",
       "      <td>0</td>\n",
       "      <td>0</td>\n",
       "      <td>0</td>\n",
       "    </tr>\n",
       "    <tr>\n",
       "      <th>1165</th>\n",
       "      <td>1169</td>\n",
       "      <td>413.3773</td>\n",
       "      <td>7.42</td>\n",
       "      <td>PHerb1_1-1-romulo</td>\n",
       "      <td>1169_PHerb1_1-1-romulo</td>\n",
       "      <td>1169/413.3773mz/7.42min</td>\n",
       "      <td>89831.6875</td>\n",
       "      <td>0</td>\n",
       "      <td>0</td>\n",
       "      <td>299318.125</td>\n",
       "      <td>...</td>\n",
       "      <td>0</td>\n",
       "      <td>0</td>\n",
       "      <td>0</td>\n",
       "      <td>0</td>\n",
       "      <td>0</td>\n",
       "      <td>0</td>\n",
       "      <td>0</td>\n",
       "      <td>0</td>\n",
       "      <td>0</td>\n",
       "      <td>0</td>\n",
       "    </tr>\n",
       "    <tr>\n",
       "      <th>1166</th>\n",
       "      <td>1170</td>\n",
       "      <td>413.3774</td>\n",
       "      <td>7.43</td>\n",
       "      <td>PHerb1_1-1-romulo</td>\n",
       "      <td>1170_PHerb1_1-1-romulo</td>\n",
       "      <td>1170/413.3774mz/7.43min</td>\n",
       "      <td>76735.546875</td>\n",
       "      <td>0</td>\n",
       "      <td>0</td>\n",
       "      <td>83304.6484375</td>\n",
       "      <td>...</td>\n",
       "      <td>0</td>\n",
       "      <td>0</td>\n",
       "      <td>0</td>\n",
       "      <td>0</td>\n",
       "      <td>0</td>\n",
       "      <td>0</td>\n",
       "      <td>0</td>\n",
       "      <td>0</td>\n",
       "      <td>0</td>\n",
       "      <td>0</td>\n",
       "    </tr>\n",
       "    <tr>\n",
       "      <th>1167</th>\n",
       "      <td>1171</td>\n",
       "      <td>413.3774</td>\n",
       "      <td>7.43</td>\n",
       "      <td>PHerb1_1-1-romulo</td>\n",
       "      <td>1171_PHerb1_1-1-romulo</td>\n",
       "      <td>1171/413.3774mz/7.43min</td>\n",
       "      <td>145172.375</td>\n",
       "      <td>0</td>\n",
       "      <td>0</td>\n",
       "      <td>97784.3203125</td>\n",
       "      <td>...</td>\n",
       "      <td>0</td>\n",
       "      <td>0</td>\n",
       "      <td>0</td>\n",
       "      <td>0</td>\n",
       "      <td>0</td>\n",
       "      <td>0</td>\n",
       "      <td>0</td>\n",
       "      <td>0</td>\n",
       "      <td>0</td>\n",
       "      <td>0</td>\n",
       "    </tr>\n",
       "  </tbody>\n",
       "</table>\n",
       "<p>1167 rows × 31 columns</p>\n",
       "</div>"
      ],
      "text/plain": [
       "      scan_number  mz_value  rt_value              batch  \\\n",
       "1               1  151.0355      0.21  PHerb1_1-1-romulo   \n",
       "2               2   83.5361      0.21  PHerb1_1-1-romulo   \n",
       "3               3  153.0331      0.21  PHerb1_1-1-romulo   \n",
       "4               4  241.9999      0.21  PHerb1_1-1-romulo   \n",
       "5               5  130.0174      0.21  PHerb1_1-1-romulo   \n",
       "...           ...       ...       ...                ...   \n",
       "1163         1167  413.3772      7.40  PHerb1_1-1-romulo   \n",
       "1164         1168  413.3774      7.41  PHerb1_1-1-romulo   \n",
       "1165         1169  413.3773      7.42  PHerb1_1-1-romulo   \n",
       "1166         1170  413.3774      7.43  PHerb1_1-1-romulo   \n",
       "1167         1171  413.3774      7.43  PHerb1_1-1-romulo   \n",
       "\n",
       "               feature_batch                 Filename        6.mzML  \\\n",
       "1        1_PHerb1_1-1-romulo     1/151.0355mz/0.21min     1559816.5   \n",
       "2        2_PHerb1_1-1-romulo      2/83.5361mz/0.21min             0   \n",
       "3        3_PHerb1_1-1-romulo     3/153.0331mz/0.21min             0   \n",
       "4        4_PHerb1_1-1-romulo     4/241.9999mz/0.21min   644490.8125   \n",
       "5        5_PHerb1_1-1-romulo     5/130.0174mz/0.21min             0   \n",
       "...                      ...                      ...           ...   \n",
       "1163  1167_PHerb1_1-1-romulo  1167/413.3772mz/7.40min             0   \n",
       "1164  1168_PHerb1_1-1-romulo  1168/413.3774mz/7.41min   96374.15625   \n",
       "1165  1169_PHerb1_1-1-romulo  1169/413.3773mz/7.42min    89831.6875   \n",
       "1166  1170_PHerb1_1-1-romulo  1170/413.3774mz/7.43min  76735.546875   \n",
       "1167  1171_PHerb1_1-1-romulo  1171/413.3774mz/7.43min    145172.375   \n",
       "\n",
       "          16.mzML     12.mzML        13.mzML  ...      33.mzML       31.mzML  \\\n",
       "1       2542374.5  765244.625     2182983.75  ...  980111.6875             0   \n",
       "2     665364.5625           0       438936.5  ...            0             0   \n",
       "3     289347.4375           0              0  ...            0             0   \n",
       "4     1089360.125           0   1040891.9375  ...            0  503821.78125   \n",
       "5     343931.6875           0              0  ...            0             0   \n",
       "...           ...         ...            ...  ...          ...           ...   \n",
       "1163            0           0   75069.578125  ...            0             0   \n",
       "1164            0           0  41207.1328125  ...            0             0   \n",
       "1165            0           0     299318.125  ...            0             0   \n",
       "1166            0           0  83304.6484375  ...            0             0   \n",
       "1167            0           0  97784.3203125  ...            0             0   \n",
       "\n",
       "            53.mzML      41.mzML    45.mzML 48.mzML  MPCQExt.mzML  \\\n",
       "1     260038.859375  307575.3125  1095140.0       0  310584.71875   \n",
       "2                 0            0          0       0             0   \n",
       "3                 0            0          0       0             0   \n",
       "4                 0            0          0       0             0   \n",
       "5                 0            0          0       0             0   \n",
       "...             ...          ...        ...     ...           ...   \n",
       "1163              0            0          0       0             0   \n",
       "1164              0            0          0       0             0   \n",
       "1165              0            0          0       0             0   \n",
       "1166              0            0          0       0             0   \n",
       "1167              0            0          0       0             0   \n",
       "\n",
       "     CQExt_20231024173747.mzML CQExt.mzML CQExt_20231024150135.mzML  \n",
       "1                   419492.875          0              433144.96875  \n",
       "2                            0          0                         0  \n",
       "3                            0          0                         0  \n",
       "4                            0          0                         0  \n",
       "5                            0          0                         0  \n",
       "...                        ...        ...                       ...  \n",
       "1163                         0          0                         0  \n",
       "1164                         0          0                         0  \n",
       "1165                         0          0                         0  \n",
       "1166                         0          0                         0  \n",
       "1167                         0          0                         0  \n",
       "\n",
       "[1167 rows x 31 columns]"
      ]
     },
     "metadata": {},
     "output_type": "display_data"
    },
    {
     "name": "stdout",
     "output_type": "stream",
     "text": [
      "df_PHerb1_1-2-romulo:\n"
     ]
    },
    {
     "data": {
      "text/html": [
       "<div>\n",
       "<style scoped>\n",
       "    .dataframe tbody tr th:only-of-type {\n",
       "        vertical-align: middle;\n",
       "    }\n",
       "\n",
       "    .dataframe tbody tr th {\n",
       "        vertical-align: top;\n",
       "    }\n",
       "\n",
       "    .dataframe thead th {\n",
       "        text-align: right;\n",
       "    }\n",
       "</style>\n",
       "<table border=\"1\" class=\"dataframe\">\n",
       "  <thead>\n",
       "    <tr style=\"text-align: right;\">\n",
       "      <th></th>\n",
       "      <th>scan_number</th>\n",
       "      <th>mz_value</th>\n",
       "      <th>rt_value</th>\n",
       "      <th>batch</th>\n",
       "      <th>feature_batch</th>\n",
       "      <th>Filename</th>\n",
       "      <th>5.mzML</th>\n",
       "      <th>1.mzML</th>\n",
       "      <th>4.mzML</th>\n",
       "      <th>8.mzML</th>\n",
       "      <th>...</th>\n",
       "      <th>63.mzML</th>\n",
       "      <th>59.mzML</th>\n",
       "      <th>60.mzML</th>\n",
       "      <th>MPCQExt_20231024174844.mzML</th>\n",
       "      <th>64.mzML</th>\n",
       "      <th>MPCQExt_20231025023336.mzML</th>\n",
       "      <th>MPCQExt_20231024230550.mzML</th>\n",
       "      <th>CQExt_20231025022239.mzML</th>\n",
       "      <th>CQExt_20231024225453.mzML</th>\n",
       "      <th>CQExt_20231024202144.mzML</th>\n",
       "    </tr>\n",
       "  </thead>\n",
       "  <tbody>\n",
       "    <tr>\n",
       "      <th>1</th>\n",
       "      <td>1</td>\n",
       "      <td>195.0886</td>\n",
       "      <td>0.06</td>\n",
       "      <td>PHerb1_1-2-romulo</td>\n",
       "      <td>1_PHerb1_1-2-romulo</td>\n",
       "      <td>1/195.0886mz/0.06min</td>\n",
       "      <td>0</td>\n",
       "      <td>0</td>\n",
       "      <td>0</td>\n",
       "      <td>0</td>\n",
       "      <td>...</td>\n",
       "      <td>0</td>\n",
       "      <td>0</td>\n",
       "      <td>0</td>\n",
       "      <td>0</td>\n",
       "      <td>0</td>\n",
       "      <td>0</td>\n",
       "      <td>81378.5859375</td>\n",
       "      <td>0</td>\n",
       "      <td>0</td>\n",
       "      <td>0</td>\n",
       "    </tr>\n",
       "    <tr>\n",
       "      <th>2</th>\n",
       "      <td>2</td>\n",
       "      <td>195.0888</td>\n",
       "      <td>0.10</td>\n",
       "      <td>PHerb1_1-2-romulo</td>\n",
       "      <td>2_PHerb1_1-2-romulo</td>\n",
       "      <td>2/195.0888mz/0.10min</td>\n",
       "      <td>0</td>\n",
       "      <td>0</td>\n",
       "      <td>0</td>\n",
       "      <td>0</td>\n",
       "      <td>...</td>\n",
       "      <td>0</td>\n",
       "      <td>0</td>\n",
       "      <td>0</td>\n",
       "      <td>0</td>\n",
       "      <td>0</td>\n",
       "      <td>0</td>\n",
       "      <td>150160.46875</td>\n",
       "      <td>0</td>\n",
       "      <td>0</td>\n",
       "      <td>0</td>\n",
       "    </tr>\n",
       "    <tr>\n",
       "      <th>3</th>\n",
       "      <td>3</td>\n",
       "      <td>195.0886</td>\n",
       "      <td>0.18</td>\n",
       "      <td>PHerb1_1-2-romulo</td>\n",
       "      <td>3_PHerb1_1-2-romulo</td>\n",
       "      <td>3/195.0886mz/0.18min</td>\n",
       "      <td>0</td>\n",
       "      <td>0</td>\n",
       "      <td>0</td>\n",
       "      <td>0</td>\n",
       "      <td>...</td>\n",
       "      <td>0</td>\n",
       "      <td>0</td>\n",
       "      <td>0</td>\n",
       "      <td>0</td>\n",
       "      <td>0</td>\n",
       "      <td>0</td>\n",
       "      <td>175124.15625</td>\n",
       "      <td>0</td>\n",
       "      <td>0</td>\n",
       "      <td>0</td>\n",
       "    </tr>\n",
       "    <tr>\n",
       "      <th>4</th>\n",
       "      <td>4</td>\n",
       "      <td>265.0162</td>\n",
       "      <td>0.21</td>\n",
       "      <td>PHerb1_1-2-romulo</td>\n",
       "      <td>4_PHerb1_1-2-romulo</td>\n",
       "      <td>4/265.0162mz/0.21min</td>\n",
       "      <td>0</td>\n",
       "      <td>0</td>\n",
       "      <td>0</td>\n",
       "      <td>0</td>\n",
       "      <td>...</td>\n",
       "      <td>0</td>\n",
       "      <td>0</td>\n",
       "      <td>0</td>\n",
       "      <td>0</td>\n",
       "      <td>0</td>\n",
       "      <td>0</td>\n",
       "      <td>0</td>\n",
       "      <td>0</td>\n",
       "      <td>0</td>\n",
       "      <td>0</td>\n",
       "    </tr>\n",
       "    <tr>\n",
       "      <th>5</th>\n",
       "      <td>5</td>\n",
       "      <td>82.0141</td>\n",
       "      <td>0.21</td>\n",
       "      <td>PHerb1_1-2-romulo</td>\n",
       "      <td>5_PHerb1_1-2-romulo</td>\n",
       "      <td>5/82.0141mz/0.21min</td>\n",
       "      <td>0</td>\n",
       "      <td>0</td>\n",
       "      <td>0</td>\n",
       "      <td>0</td>\n",
       "      <td>...</td>\n",
       "      <td>0</td>\n",
       "      <td>0</td>\n",
       "      <td>0</td>\n",
       "      <td>0</td>\n",
       "      <td>0</td>\n",
       "      <td>0</td>\n",
       "      <td>0</td>\n",
       "      <td>0</td>\n",
       "      <td>0</td>\n",
       "      <td>0</td>\n",
       "    </tr>\n",
       "    <tr>\n",
       "      <th>...</th>\n",
       "      <td>...</td>\n",
       "      <td>...</td>\n",
       "      <td>...</td>\n",
       "      <td>...</td>\n",
       "      <td>...</td>\n",
       "      <td>...</td>\n",
       "      <td>...</td>\n",
       "      <td>...</td>\n",
       "      <td>...</td>\n",
       "      <td>...</td>\n",
       "      <td>...</td>\n",
       "      <td>...</td>\n",
       "      <td>...</td>\n",
       "      <td>...</td>\n",
       "      <td>...</td>\n",
       "      <td>...</td>\n",
       "      <td>...</td>\n",
       "      <td>...</td>\n",
       "      <td>...</td>\n",
       "      <td>...</td>\n",
       "      <td>...</td>\n",
       "    </tr>\n",
       "    <tr>\n",
       "      <th>742</th>\n",
       "      <td>742</td>\n",
       "      <td>411.3639</td>\n",
       "      <td>7.24</td>\n",
       "      <td>PHerb1_1-2-romulo</td>\n",
       "      <td>742_PHerb1_1-2-romulo</td>\n",
       "      <td>742/411.3639mz/7.24min</td>\n",
       "      <td>0</td>\n",
       "      <td>0</td>\n",
       "      <td>0</td>\n",
       "      <td>56352.2421875</td>\n",
       "      <td>...</td>\n",
       "      <td>0</td>\n",
       "      <td>0</td>\n",
       "      <td>0</td>\n",
       "      <td>0</td>\n",
       "      <td>0</td>\n",
       "      <td>0</td>\n",
       "      <td>0</td>\n",
       "      <td>0</td>\n",
       "      <td>0</td>\n",
       "      <td>0</td>\n",
       "    </tr>\n",
       "    <tr>\n",
       "      <th>743</th>\n",
       "      <td>743</td>\n",
       "      <td>411.3641</td>\n",
       "      <td>7.24</td>\n",
       "      <td>PHerb1_1-2-romulo</td>\n",
       "      <td>743_PHerb1_1-2-romulo</td>\n",
       "      <td>743/411.3641mz/7.24min</td>\n",
       "      <td>0</td>\n",
       "      <td>0</td>\n",
       "      <td>0</td>\n",
       "      <td>143955.578125</td>\n",
       "      <td>...</td>\n",
       "      <td>0</td>\n",
       "      <td>0</td>\n",
       "      <td>0</td>\n",
       "      <td>0</td>\n",
       "      <td>0</td>\n",
       "      <td>0</td>\n",
       "      <td>0</td>\n",
       "      <td>0</td>\n",
       "      <td>0</td>\n",
       "      <td>0</td>\n",
       "    </tr>\n",
       "    <tr>\n",
       "      <th>744</th>\n",
       "      <td>744</td>\n",
       "      <td>413.3774</td>\n",
       "      <td>7.42</td>\n",
       "      <td>PHerb1_1-2-romulo</td>\n",
       "      <td>744_PHerb1_1-2-romulo</td>\n",
       "      <td>744/413.3774mz/7.42min</td>\n",
       "      <td>124312.8828125</td>\n",
       "      <td>0</td>\n",
       "      <td>0</td>\n",
       "      <td>194407.6875</td>\n",
       "      <td>...</td>\n",
       "      <td>0</td>\n",
       "      <td>0</td>\n",
       "      <td>0</td>\n",
       "      <td>0</td>\n",
       "      <td>115147.828125</td>\n",
       "      <td>0</td>\n",
       "      <td>0</td>\n",
       "      <td>0</td>\n",
       "      <td>0</td>\n",
       "      <td>0</td>\n",
       "    </tr>\n",
       "    <tr>\n",
       "      <th>745</th>\n",
       "      <td>745</td>\n",
       "      <td>413.3774</td>\n",
       "      <td>7.42</td>\n",
       "      <td>PHerb1_1-2-romulo</td>\n",
       "      <td>745_PHerb1_1-2-romulo</td>\n",
       "      <td>745/413.3774mz/7.42min</td>\n",
       "      <td>0</td>\n",
       "      <td>0</td>\n",
       "      <td>0</td>\n",
       "      <td>218057.40625</td>\n",
       "      <td>...</td>\n",
       "      <td>0</td>\n",
       "      <td>0</td>\n",
       "      <td>0</td>\n",
       "      <td>0</td>\n",
       "      <td>86970.8828125</td>\n",
       "      <td>0</td>\n",
       "      <td>0</td>\n",
       "      <td>0</td>\n",
       "      <td>0</td>\n",
       "      <td>0</td>\n",
       "    </tr>\n",
       "    <tr>\n",
       "      <th>746</th>\n",
       "      <td>746</td>\n",
       "      <td>413.3774</td>\n",
       "      <td>7.44</td>\n",
       "      <td>PHerb1_1-2-romulo</td>\n",
       "      <td>746_PHerb1_1-2-romulo</td>\n",
       "      <td>746/413.3774mz/7.44min</td>\n",
       "      <td>0</td>\n",
       "      <td>0</td>\n",
       "      <td>0</td>\n",
       "      <td>74494.6953125</td>\n",
       "      <td>...</td>\n",
       "      <td>0</td>\n",
       "      <td>0</td>\n",
       "      <td>0</td>\n",
       "      <td>0</td>\n",
       "      <td>0</td>\n",
       "      <td>0</td>\n",
       "      <td>0</td>\n",
       "      <td>0</td>\n",
       "      <td>0</td>\n",
       "      <td>0</td>\n",
       "    </tr>\n",
       "  </tbody>\n",
       "</table>\n",
       "<p>746 rows × 54 columns</p>\n",
       "</div>"
      ],
      "text/plain": [
       "     scan_number  mz_value  rt_value              batch  \\\n",
       "1              1  195.0886      0.06  PHerb1_1-2-romulo   \n",
       "2              2  195.0888      0.10  PHerb1_1-2-romulo   \n",
       "3              3  195.0886      0.18  PHerb1_1-2-romulo   \n",
       "4              4  265.0162      0.21  PHerb1_1-2-romulo   \n",
       "5              5   82.0141      0.21  PHerb1_1-2-romulo   \n",
       "..           ...       ...       ...                ...   \n",
       "742          742  411.3639      7.24  PHerb1_1-2-romulo   \n",
       "743          743  411.3641      7.24  PHerb1_1-2-romulo   \n",
       "744          744  413.3774      7.42  PHerb1_1-2-romulo   \n",
       "745          745  413.3774      7.42  PHerb1_1-2-romulo   \n",
       "746          746  413.3774      7.44  PHerb1_1-2-romulo   \n",
       "\n",
       "             feature_batch                Filename          5.mzML 1.mzML  \\\n",
       "1      1_PHerb1_1-2-romulo    1/195.0886mz/0.06min               0      0   \n",
       "2      2_PHerb1_1-2-romulo    2/195.0888mz/0.10min               0      0   \n",
       "3      3_PHerb1_1-2-romulo    3/195.0886mz/0.18min               0      0   \n",
       "4      4_PHerb1_1-2-romulo    4/265.0162mz/0.21min               0      0   \n",
       "5      5_PHerb1_1-2-romulo     5/82.0141mz/0.21min               0      0   \n",
       "..                     ...                     ...             ...    ...   \n",
       "742  742_PHerb1_1-2-romulo  742/411.3639mz/7.24min               0      0   \n",
       "743  743_PHerb1_1-2-romulo  743/411.3641mz/7.24min               0      0   \n",
       "744  744_PHerb1_1-2-romulo  744/413.3774mz/7.42min  124312.8828125      0   \n",
       "745  745_PHerb1_1-2-romulo  745/413.3774mz/7.42min               0      0   \n",
       "746  746_PHerb1_1-2-romulo  746/413.3774mz/7.44min               0      0   \n",
       "\n",
       "    4.mzML         8.mzML  ... 63.mzML 59.mzML 60.mzML  \\\n",
       "1        0              0  ...       0       0       0   \n",
       "2        0              0  ...       0       0       0   \n",
       "3        0              0  ...       0       0       0   \n",
       "4        0              0  ...       0       0       0   \n",
       "5        0              0  ...       0       0       0   \n",
       "..     ...            ...  ...     ...     ...     ...   \n",
       "742      0  56352.2421875  ...       0       0       0   \n",
       "743      0  143955.578125  ...       0       0       0   \n",
       "744      0    194407.6875  ...       0       0       0   \n",
       "745      0   218057.40625  ...       0       0       0   \n",
       "746      0  74494.6953125  ...       0       0       0   \n",
       "\n",
       "    MPCQExt_20231024174844.mzML        64.mzML MPCQExt_20231025023336.mzML  \\\n",
       "1                             0              0                           0   \n",
       "2                             0              0                           0   \n",
       "3                             0              0                           0   \n",
       "4                             0              0                           0   \n",
       "5                             0              0                           0   \n",
       "..                          ...            ...                         ...   \n",
       "742                           0              0                           0   \n",
       "743                           0              0                           0   \n",
       "744                           0  115147.828125                           0   \n",
       "745                           0  86970.8828125                           0   \n",
       "746                           0              0                           0   \n",
       "\n",
       "    MPCQExt_20231024230550.mzML CQExt_20231025022239.mzML  \\\n",
       "1                 81378.5859375                         0   \n",
       "2                  150160.46875                         0   \n",
       "3                  175124.15625                         0   \n",
       "4                             0                         0   \n",
       "5                             0                         0   \n",
       "..                          ...                       ...   \n",
       "742                           0                         0   \n",
       "743                           0                         0   \n",
       "744                           0                         0   \n",
       "745                           0                         0   \n",
       "746                           0                         0   \n",
       "\n",
       "    CQExt_20231024225453.mzML CQExt_20231024202144.mzML  \n",
       "1                           0                         0  \n",
       "2                           0                         0  \n",
       "3                           0                         0  \n",
       "4                           0                         0  \n",
       "5                           0                         0  \n",
       "..                        ...                       ...  \n",
       "742                         0                         0  \n",
       "743                         0                         0  \n",
       "744                         0                         0  \n",
       "745                         0                         0  \n",
       "746                         0                         0  \n",
       "\n",
       "[746 rows x 54 columns]"
      ]
     },
     "metadata": {},
     "output_type": "display_data"
    },
    {
     "name": "stdout",
     "output_type": "stream",
     "text": [
      "df_PHerb1_2-1-romulo:\n"
     ]
    },
    {
     "data": {
      "text/html": [
       "<div>\n",
       "<style scoped>\n",
       "    .dataframe tbody tr th:only-of-type {\n",
       "        vertical-align: middle;\n",
       "    }\n",
       "\n",
       "    .dataframe tbody tr th {\n",
       "        vertical-align: top;\n",
       "    }\n",
       "\n",
       "    .dataframe thead th {\n",
       "        text-align: right;\n",
       "    }\n",
       "</style>\n",
       "<table border=\"1\" class=\"dataframe\">\n",
       "  <thead>\n",
       "    <tr style=\"text-align: right;\">\n",
       "      <th></th>\n",
       "      <th>scan_number</th>\n",
       "      <th>mz_value</th>\n",
       "      <th>rt_value</th>\n",
       "      <th>batch</th>\n",
       "      <th>feature_batch</th>\n",
       "      <th>Filename</th>\n",
       "      <th>71.mzML</th>\n",
       "      <th>80.mzML</th>\n",
       "      <th>74.mzML</th>\n",
       "      <th>68.mzML</th>\n",
       "      <th>...</th>\n",
       "      <th>123.mzML</th>\n",
       "      <th>118.mzML</th>\n",
       "      <th>117.mzML</th>\n",
       "      <th>124.mzML</th>\n",
       "      <th>MPCQExt_20231025030633 - Copia.mzML</th>\n",
       "      <th>128.mzML</th>\n",
       "      <th>MPCQExt_20231025062315.mzML</th>\n",
       "      <th>CQExt_20231025025536.mzML</th>\n",
       "      <th>CQExt_20231025061218.mzML</th>\n",
       "      <th>CQExt_20231025085618.mzML</th>\n",
       "    </tr>\n",
       "  </thead>\n",
       "  <tbody>\n",
       "    <tr>\n",
       "      <th>1</th>\n",
       "      <td>1</td>\n",
       "      <td>118.0866</td>\n",
       "      <td>0.12</td>\n",
       "      <td>PHerb1_2-1-romulo</td>\n",
       "      <td>1_PHerb1_2-1-romulo</td>\n",
       "      <td>1/118.0866mz/0.12min</td>\n",
       "      <td>193351.09375</td>\n",
       "      <td>0</td>\n",
       "      <td>0</td>\n",
       "      <td>0</td>\n",
       "      <td>...</td>\n",
       "      <td>0</td>\n",
       "      <td>352903.6875</td>\n",
       "      <td>4.9945396E7</td>\n",
       "      <td>0</td>\n",
       "      <td>0</td>\n",
       "      <td>0</td>\n",
       "      <td>0</td>\n",
       "      <td>0</td>\n",
       "      <td>0</td>\n",
       "      <td>0</td>\n",
       "    </tr>\n",
       "    <tr>\n",
       "      <th>2</th>\n",
       "      <td>2</td>\n",
       "      <td>195.0878</td>\n",
       "      <td>0.17</td>\n",
       "      <td>PHerb1_2-1-romulo</td>\n",
       "      <td>2_PHerb1_2-1-romulo</td>\n",
       "      <td>2/195.0878mz/0.17min</td>\n",
       "      <td>0</td>\n",
       "      <td>0</td>\n",
       "      <td>0</td>\n",
       "      <td>0</td>\n",
       "      <td>...</td>\n",
       "      <td>0</td>\n",
       "      <td>0</td>\n",
       "      <td>0</td>\n",
       "      <td>0</td>\n",
       "      <td>408071.40625</td>\n",
       "      <td>0</td>\n",
       "      <td>431535.8125</td>\n",
       "      <td>0</td>\n",
       "      <td>0</td>\n",
       "      <td>0</td>\n",
       "    </tr>\n",
       "    <tr>\n",
       "      <th>3</th>\n",
       "      <td>3</td>\n",
       "      <td>128.0196</td>\n",
       "      <td>0.21</td>\n",
       "      <td>PHerb1_2-1-romulo</td>\n",
       "      <td>3_PHerb1_2-1-romulo</td>\n",
       "      <td>3/128.0196mz/0.21min</td>\n",
       "      <td>0</td>\n",
       "      <td>1541039.5</td>\n",
       "      <td>1558578.0</td>\n",
       "      <td>3596150.25</td>\n",
       "      <td>...</td>\n",
       "      <td>0</td>\n",
       "      <td>1649520.875</td>\n",
       "      <td>429256.40625</td>\n",
       "      <td>0</td>\n",
       "      <td>217848.9375</td>\n",
       "      <td>0</td>\n",
       "      <td>218535.609375</td>\n",
       "      <td>445843.84375</td>\n",
       "      <td>488072.125</td>\n",
       "      <td>482491.625</td>\n",
       "    </tr>\n",
       "    <tr>\n",
       "      <th>4</th>\n",
       "      <td>4</td>\n",
       "      <td>151.0355</td>\n",
       "      <td>0.21</td>\n",
       "      <td>PHerb1_2-1-romulo</td>\n",
       "      <td>4_PHerb1_2-1-romulo</td>\n",
       "      <td>4/151.0355mz/0.21min</td>\n",
       "      <td>0</td>\n",
       "      <td>1159861.875</td>\n",
       "      <td>0</td>\n",
       "      <td>2486579.25</td>\n",
       "      <td>...</td>\n",
       "      <td>0</td>\n",
       "      <td>1218211.0</td>\n",
       "      <td>368899.5</td>\n",
       "      <td>0</td>\n",
       "      <td>0</td>\n",
       "      <td>0</td>\n",
       "      <td>176627.5625</td>\n",
       "      <td>412499.875</td>\n",
       "      <td>430977.0625</td>\n",
       "      <td>389464.90625</td>\n",
       "    </tr>\n",
       "    <tr>\n",
       "      <th>5</th>\n",
       "      <td>5</td>\n",
       "      <td>110.0090</td>\n",
       "      <td>0.21</td>\n",
       "      <td>PHerb1_2-1-romulo</td>\n",
       "      <td>5_PHerb1_2-1-romulo</td>\n",
       "      <td>5/110.0090mz/0.21min</td>\n",
       "      <td>0</td>\n",
       "      <td>1033674.0625</td>\n",
       "      <td>0</td>\n",
       "      <td>2023148.25</td>\n",
       "      <td>...</td>\n",
       "      <td>0</td>\n",
       "      <td>1074343.75</td>\n",
       "      <td>352389.1875</td>\n",
       "      <td>0</td>\n",
       "      <td>0</td>\n",
       "      <td>0</td>\n",
       "      <td>140316.875</td>\n",
       "      <td>367024.375</td>\n",
       "      <td>335143.28125</td>\n",
       "      <td>331602.03125</td>\n",
       "    </tr>\n",
       "    <tr>\n",
       "      <th>...</th>\n",
       "      <td>...</td>\n",
       "      <td>...</td>\n",
       "      <td>...</td>\n",
       "      <td>...</td>\n",
       "      <td>...</td>\n",
       "      <td>...</td>\n",
       "      <td>...</td>\n",
       "      <td>...</td>\n",
       "      <td>...</td>\n",
       "      <td>...</td>\n",
       "      <td>...</td>\n",
       "      <td>...</td>\n",
       "      <td>...</td>\n",
       "      <td>...</td>\n",
       "      <td>...</td>\n",
       "      <td>...</td>\n",
       "      <td>...</td>\n",
       "      <td>...</td>\n",
       "      <td>...</td>\n",
       "      <td>...</td>\n",
       "      <td>...</td>\n",
       "    </tr>\n",
       "    <tr>\n",
       "      <th>471</th>\n",
       "      <td>476</td>\n",
       "      <td>107.0607</td>\n",
       "      <td>7.41</td>\n",
       "      <td>PHerb1_2-1-romulo</td>\n",
       "      <td>476_PHerb1_2-1-romulo</td>\n",
       "      <td>476/107.0607mz/7.41min</td>\n",
       "      <td>0</td>\n",
       "      <td>0</td>\n",
       "      <td>0</td>\n",
       "      <td>236530.34375</td>\n",
       "      <td>...</td>\n",
       "      <td>0</td>\n",
       "      <td>0</td>\n",
       "      <td>0</td>\n",
       "      <td>0</td>\n",
       "      <td>0</td>\n",
       "      <td>0</td>\n",
       "      <td>0</td>\n",
       "      <td>0</td>\n",
       "      <td>0</td>\n",
       "      <td>0</td>\n",
       "    </tr>\n",
       "    <tr>\n",
       "      <th>472</th>\n",
       "      <td>477</td>\n",
       "      <td>149.0825</td>\n",
       "      <td>7.51</td>\n",
       "      <td>PHerb1_2-1-romulo</td>\n",
       "      <td>477_PHerb1_2-1-romulo</td>\n",
       "      <td>477/149.0825mz/7.51min</td>\n",
       "      <td>0</td>\n",
       "      <td>0</td>\n",
       "      <td>0</td>\n",
       "      <td>0</td>\n",
       "      <td>...</td>\n",
       "      <td>0</td>\n",
       "      <td>0</td>\n",
       "      <td>0</td>\n",
       "      <td>0</td>\n",
       "      <td>0</td>\n",
       "      <td>0</td>\n",
       "      <td>0</td>\n",
       "      <td>0</td>\n",
       "      <td>0</td>\n",
       "      <td>0</td>\n",
       "    </tr>\n",
       "    <tr>\n",
       "      <th>473</th>\n",
       "      <td>478</td>\n",
       "      <td>174.0905</td>\n",
       "      <td>7.55</td>\n",
       "      <td>PHerb1_2-1-romulo</td>\n",
       "      <td>478_PHerb1_2-1-romulo</td>\n",
       "      <td>478/174.0905mz/7.55min</td>\n",
       "      <td>0</td>\n",
       "      <td>0</td>\n",
       "      <td>0</td>\n",
       "      <td>0</td>\n",
       "      <td>...</td>\n",
       "      <td>0</td>\n",
       "      <td>0</td>\n",
       "      <td>0</td>\n",
       "      <td>0</td>\n",
       "      <td>0</td>\n",
       "      <td>0</td>\n",
       "      <td>0</td>\n",
       "      <td>0</td>\n",
       "      <td>0</td>\n",
       "      <td>0</td>\n",
       "    </tr>\n",
       "    <tr>\n",
       "      <th>474</th>\n",
       "      <td>479</td>\n",
       "      <td>124.0874</td>\n",
       "      <td>7.56</td>\n",
       "      <td>PHerb1_2-1-romulo</td>\n",
       "      <td>479_PHerb1_2-1-romulo</td>\n",
       "      <td>479/124.0874mz/7.56min</td>\n",
       "      <td>0</td>\n",
       "      <td>0</td>\n",
       "      <td>0</td>\n",
       "      <td>0</td>\n",
       "      <td>...</td>\n",
       "      <td>0</td>\n",
       "      <td>0</td>\n",
       "      <td>0</td>\n",
       "      <td>0</td>\n",
       "      <td>0</td>\n",
       "      <td>0</td>\n",
       "      <td>0</td>\n",
       "      <td>0</td>\n",
       "      <td>0</td>\n",
       "      <td>0</td>\n",
       "    </tr>\n",
       "    <tr>\n",
       "      <th>475</th>\n",
       "      <td>480</td>\n",
       "      <td>124.0874</td>\n",
       "      <td>7.75</td>\n",
       "      <td>PHerb1_2-1-romulo</td>\n",
       "      <td>480_PHerb1_2-1-romulo</td>\n",
       "      <td>480/124.0874mz/7.75min</td>\n",
       "      <td>0</td>\n",
       "      <td>0</td>\n",
       "      <td>0</td>\n",
       "      <td>0</td>\n",
       "      <td>...</td>\n",
       "      <td>0</td>\n",
       "      <td>0</td>\n",
       "      <td>0</td>\n",
       "      <td>0</td>\n",
       "      <td>0</td>\n",
       "      <td>0</td>\n",
       "      <td>0</td>\n",
       "      <td>0</td>\n",
       "      <td>0</td>\n",
       "      <td>0</td>\n",
       "    </tr>\n",
       "  </tbody>\n",
       "</table>\n",
       "<p>475 rows × 47 columns</p>\n",
       "</div>"
      ],
      "text/plain": [
       "     scan_number  mz_value  rt_value              batch  \\\n",
       "1              1  118.0866      0.12  PHerb1_2-1-romulo   \n",
       "2              2  195.0878      0.17  PHerb1_2-1-romulo   \n",
       "3              3  128.0196      0.21  PHerb1_2-1-romulo   \n",
       "4              4  151.0355      0.21  PHerb1_2-1-romulo   \n",
       "5              5  110.0090      0.21  PHerb1_2-1-romulo   \n",
       "..           ...       ...       ...                ...   \n",
       "471          476  107.0607      7.41  PHerb1_2-1-romulo   \n",
       "472          477  149.0825      7.51  PHerb1_2-1-romulo   \n",
       "473          478  174.0905      7.55  PHerb1_2-1-romulo   \n",
       "474          479  124.0874      7.56  PHerb1_2-1-romulo   \n",
       "475          480  124.0874      7.75  PHerb1_2-1-romulo   \n",
       "\n",
       "             feature_batch                Filename       71.mzML  \\\n",
       "1      1_PHerb1_2-1-romulo    1/118.0866mz/0.12min  193351.09375   \n",
       "2      2_PHerb1_2-1-romulo    2/195.0878mz/0.17min             0   \n",
       "3      3_PHerb1_2-1-romulo    3/128.0196mz/0.21min             0   \n",
       "4      4_PHerb1_2-1-romulo    4/151.0355mz/0.21min             0   \n",
       "5      5_PHerb1_2-1-romulo    5/110.0090mz/0.21min             0   \n",
       "..                     ...                     ...           ...   \n",
       "471  476_PHerb1_2-1-romulo  476/107.0607mz/7.41min             0   \n",
       "472  477_PHerb1_2-1-romulo  477/149.0825mz/7.51min             0   \n",
       "473  478_PHerb1_2-1-romulo  478/174.0905mz/7.55min             0   \n",
       "474  479_PHerb1_2-1-romulo  479/124.0874mz/7.56min             0   \n",
       "475  480_PHerb1_2-1-romulo  480/124.0874mz/7.75min             0   \n",
       "\n",
       "          80.mzML    74.mzML       68.mzML  ... 123.mzML     118.mzML  \\\n",
       "1               0          0             0  ...        0  352903.6875   \n",
       "2               0          0             0  ...        0            0   \n",
       "3       1541039.5  1558578.0    3596150.25  ...        0  1649520.875   \n",
       "4     1159861.875          0    2486579.25  ...        0    1218211.0   \n",
       "5    1033674.0625          0    2023148.25  ...        0   1074343.75   \n",
       "..            ...        ...           ...  ...      ...          ...   \n",
       "471             0          0  236530.34375  ...        0            0   \n",
       "472             0          0             0  ...        0            0   \n",
       "473             0          0             0  ...        0            0   \n",
       "474             0          0             0  ...        0            0   \n",
       "475             0          0             0  ...        0            0   \n",
       "\n",
       "         117.mzML 124.mzML MPCQExt_20231025030633 - Copia.mzML 128.mzML  \\\n",
       "1     4.9945396E7        0                                   0        0   \n",
       "2               0        0                        408071.40625        0   \n",
       "3    429256.40625        0                         217848.9375        0   \n",
       "4        368899.5        0                                   0        0   \n",
       "5     352389.1875        0                                   0        0   \n",
       "..            ...      ...                                 ...      ...   \n",
       "471             0        0                                   0        0   \n",
       "472             0        0                                   0        0   \n",
       "473             0        0                                   0        0   \n",
       "474             0        0                                   0        0   \n",
       "475             0        0                                   0        0   \n",
       "\n",
       "    MPCQExt_20231025062315.mzML CQExt_20231025025536.mzML  \\\n",
       "1                             0                         0   \n",
       "2                   431535.8125                         0   \n",
       "3                 218535.609375              445843.84375   \n",
       "4                   176627.5625                412499.875   \n",
       "5                    140316.875                367024.375   \n",
       "..                          ...                       ...   \n",
       "471                           0                         0   \n",
       "472                           0                         0   \n",
       "473                           0                         0   \n",
       "474                           0                         0   \n",
       "475                           0                         0   \n",
       "\n",
       "    CQExt_20231025061218.mzML CQExt_20231025085618.mzML  \n",
       "1                           0                         0  \n",
       "2                           0                         0  \n",
       "3                  488072.125                482491.625  \n",
       "4                 430977.0625              389464.90625  \n",
       "5                335143.28125              331602.03125  \n",
       "..                        ...                       ...  \n",
       "471                         0                         0  \n",
       "472                         0                         0  \n",
       "473                         0                         0  \n",
       "474                         0                         0  \n",
       "475                         0                         0  \n",
       "\n",
       "[475 rows x 47 columns]"
      ]
     },
     "metadata": {},
     "output_type": "display_data"
    },
    {
     "name": "stdout",
     "output_type": "stream",
     "text": [
      "df_PHerb1_2-2-romulo:\n"
     ]
    },
    {
     "data": {
      "text/html": [
       "<div>\n",
       "<style scoped>\n",
       "    .dataframe tbody tr th:only-of-type {\n",
       "        vertical-align: middle;\n",
       "    }\n",
       "\n",
       "    .dataframe tbody tr th {\n",
       "        vertical-align: top;\n",
       "    }\n",
       "\n",
       "    .dataframe thead th {\n",
       "        text-align: right;\n",
       "    }\n",
       "</style>\n",
       "<table border=\"1\" class=\"dataframe\">\n",
       "  <thead>\n",
       "    <tr style=\"text-align: right;\">\n",
       "      <th></th>\n",
       "      <th>scan_number</th>\n",
       "      <th>mz_value</th>\n",
       "      <th>rt_value</th>\n",
       "      <th>batch</th>\n",
       "      <th>feature_batch</th>\n",
       "      <th>Filename</th>\n",
       "      <th>73.mzML</th>\n",
       "      <th>85.mzML</th>\n",
       "      <th>78.mzML</th>\n",
       "      <th>75.mzML</th>\n",
       "      <th>...</th>\n",
       "      <th>125.mzML</th>\n",
       "      <th>MPCQExt_20231025090714.mzML</th>\n",
       "      <th>127.mzML</th>\n",
       "      <th>122.mzML</th>\n",
       "      <th>109.mzML</th>\n",
       "      <th>CQExt_20231027161607.mzML</th>\n",
       "      <th>MPCQExt_20231025030633.mzML</th>\n",
       "      <th>CQExt_20231027134303.mzML</th>\n",
       "      <th>CQExt_20231027105901.mzML</th>\n",
       "      <th>MPCQExt_20231027110958.mzML</th>\n",
       "    </tr>\n",
       "  </thead>\n",
       "  <tbody>\n",
       "    <tr>\n",
       "      <th>1</th>\n",
       "      <td>1</td>\n",
       "      <td>118.0865</td>\n",
       "      <td>0.02</td>\n",
       "      <td>PHerb1_2-2-romulo</td>\n",
       "      <td>1_PHerb1_2-2-romulo</td>\n",
       "      <td>1/118.0865mz/0.02min</td>\n",
       "      <td>0</td>\n",
       "      <td>0</td>\n",
       "      <td>186196.921875</td>\n",
       "      <td>0</td>\n",
       "      <td>...</td>\n",
       "      <td>0</td>\n",
       "      <td>0</td>\n",
       "      <td>0</td>\n",
       "      <td>0</td>\n",
       "      <td>0</td>\n",
       "      <td>0</td>\n",
       "      <td>0</td>\n",
       "      <td>0</td>\n",
       "      <td>0</td>\n",
       "      <td>0</td>\n",
       "    </tr>\n",
       "    <tr>\n",
       "      <th>2</th>\n",
       "      <td>2</td>\n",
       "      <td>118.0864</td>\n",
       "      <td>0.12</td>\n",
       "      <td>PHerb1_2-2-romulo</td>\n",
       "      <td>2_PHerb1_2-2-romulo</td>\n",
       "      <td>2/118.0864mz/0.12min</td>\n",
       "      <td>0</td>\n",
       "      <td>0</td>\n",
       "      <td>0</td>\n",
       "      <td>0</td>\n",
       "      <td>...</td>\n",
       "      <td>0</td>\n",
       "      <td>0</td>\n",
       "      <td>0</td>\n",
       "      <td>0</td>\n",
       "      <td>244316.09375</td>\n",
       "      <td>0</td>\n",
       "      <td>0</td>\n",
       "      <td>0</td>\n",
       "      <td>0</td>\n",
       "      <td>0</td>\n",
       "    </tr>\n",
       "    <tr>\n",
       "      <th>3</th>\n",
       "      <td>3</td>\n",
       "      <td>195.0877</td>\n",
       "      <td>0.18</td>\n",
       "      <td>PHerb1_2-2-romulo</td>\n",
       "      <td>3_PHerb1_2-2-romulo</td>\n",
       "      <td>3/195.0877mz/0.18min</td>\n",
       "      <td>0</td>\n",
       "      <td>0</td>\n",
       "      <td>0</td>\n",
       "      <td>0</td>\n",
       "      <td>...</td>\n",
       "      <td>0</td>\n",
       "      <td>0</td>\n",
       "      <td>0</td>\n",
       "      <td>0</td>\n",
       "      <td>0</td>\n",
       "      <td>0</td>\n",
       "      <td>408071.40625</td>\n",
       "      <td>0</td>\n",
       "      <td>0</td>\n",
       "      <td>0</td>\n",
       "    </tr>\n",
       "    <tr>\n",
       "      <th>4</th>\n",
       "      <td>4</td>\n",
       "      <td>118.0867</td>\n",
       "      <td>0.19</td>\n",
       "      <td>PHerb1_2-2-romulo</td>\n",
       "      <td>4_PHerb1_2-2-romulo</td>\n",
       "      <td>4/118.0867mz/0.19min</td>\n",
       "      <td>0</td>\n",
       "      <td>0</td>\n",
       "      <td>0</td>\n",
       "      <td>0</td>\n",
       "      <td>...</td>\n",
       "      <td>0</td>\n",
       "      <td>0</td>\n",
       "      <td>0</td>\n",
       "      <td>0</td>\n",
       "      <td>0</td>\n",
       "      <td>0</td>\n",
       "      <td>0</td>\n",
       "      <td>78828.8671875</td>\n",
       "      <td>0</td>\n",
       "      <td>0</td>\n",
       "    </tr>\n",
       "    <tr>\n",
       "      <th>5</th>\n",
       "      <td>5</td>\n",
       "      <td>128.0197</td>\n",
       "      <td>0.20</td>\n",
       "      <td>PHerb1_2-2-romulo</td>\n",
       "      <td>5_PHerb1_2-2-romulo</td>\n",
       "      <td>5/128.0197mz/0.20min</td>\n",
       "      <td>0</td>\n",
       "      <td>0</td>\n",
       "      <td>0</td>\n",
       "      <td>0</td>\n",
       "      <td>...</td>\n",
       "      <td>0</td>\n",
       "      <td>0</td>\n",
       "      <td>0</td>\n",
       "      <td>0</td>\n",
       "      <td>0</td>\n",
       "      <td>0</td>\n",
       "      <td>0</td>\n",
       "      <td>0</td>\n",
       "      <td>383171.28125</td>\n",
       "      <td>0</td>\n",
       "    </tr>\n",
       "    <tr>\n",
       "      <th>...</th>\n",
       "      <td>...</td>\n",
       "      <td>...</td>\n",
       "      <td>...</td>\n",
       "      <td>...</td>\n",
       "      <td>...</td>\n",
       "      <td>...</td>\n",
       "      <td>...</td>\n",
       "      <td>...</td>\n",
       "      <td>...</td>\n",
       "      <td>...</td>\n",
       "      <td>...</td>\n",
       "      <td>...</td>\n",
       "      <td>...</td>\n",
       "      <td>...</td>\n",
       "      <td>...</td>\n",
       "      <td>...</td>\n",
       "      <td>...</td>\n",
       "      <td>...</td>\n",
       "      <td>...</td>\n",
       "      <td>...</td>\n",
       "      <td>...</td>\n",
       "    </tr>\n",
       "    <tr>\n",
       "      <th>708</th>\n",
       "      <td>771</td>\n",
       "      <td>124.0874</td>\n",
       "      <td>7.63</td>\n",
       "      <td>PHerb1_2-2-romulo</td>\n",
       "      <td>771_PHerb1_2-2-romulo</td>\n",
       "      <td>771/124.0874mz/7.63min</td>\n",
       "      <td>0</td>\n",
       "      <td>0</td>\n",
       "      <td>0</td>\n",
       "      <td>0</td>\n",
       "      <td>...</td>\n",
       "      <td>0</td>\n",
       "      <td>0</td>\n",
       "      <td>0</td>\n",
       "      <td>0</td>\n",
       "      <td>0</td>\n",
       "      <td>0</td>\n",
       "      <td>0</td>\n",
       "      <td>0</td>\n",
       "      <td>0</td>\n",
       "      <td>339212.28125</td>\n",
       "    </tr>\n",
       "    <tr>\n",
       "      <th>709</th>\n",
       "      <td>773</td>\n",
       "      <td>107.0608</td>\n",
       "      <td>7.70</td>\n",
       "      <td>PHerb1_2-2-romulo</td>\n",
       "      <td>773_PHerb1_2-2-romulo</td>\n",
       "      <td>773/107.0608mz/7.70min</td>\n",
       "      <td>0</td>\n",
       "      <td>0</td>\n",
       "      <td>0</td>\n",
       "      <td>0</td>\n",
       "      <td>...</td>\n",
       "      <td>0</td>\n",
       "      <td>0</td>\n",
       "      <td>0</td>\n",
       "      <td>0</td>\n",
       "      <td>0</td>\n",
       "      <td>0</td>\n",
       "      <td>0</td>\n",
       "      <td>0</td>\n",
       "      <td>0</td>\n",
       "      <td>807292.625</td>\n",
       "    </tr>\n",
       "    <tr>\n",
       "      <th>710</th>\n",
       "      <td>775</td>\n",
       "      <td>124.0874</td>\n",
       "      <td>7.77</td>\n",
       "      <td>PHerb1_2-2-romulo</td>\n",
       "      <td>775_PHerb1_2-2-romulo</td>\n",
       "      <td>775/124.0874mz/7.77min</td>\n",
       "      <td>0</td>\n",
       "      <td>0</td>\n",
       "      <td>0</td>\n",
       "      <td>0</td>\n",
       "      <td>...</td>\n",
       "      <td>0</td>\n",
       "      <td>0</td>\n",
       "      <td>0</td>\n",
       "      <td>0</td>\n",
       "      <td>0</td>\n",
       "      <td>0</td>\n",
       "      <td>0</td>\n",
       "      <td>0</td>\n",
       "      <td>380692.34375</td>\n",
       "      <td>0</td>\n",
       "    </tr>\n",
       "    <tr>\n",
       "      <th>711</th>\n",
       "      <td>776</td>\n",
       "      <td>124.0874</td>\n",
       "      <td>7.87</td>\n",
       "      <td>PHerb1_2-2-romulo</td>\n",
       "      <td>776_PHerb1_2-2-romulo</td>\n",
       "      <td>776/124.0874mz/7.87min</td>\n",
       "      <td>0</td>\n",
       "      <td>0</td>\n",
       "      <td>0</td>\n",
       "      <td>0</td>\n",
       "      <td>...</td>\n",
       "      <td>0</td>\n",
       "      <td>0</td>\n",
       "      <td>0</td>\n",
       "      <td>0</td>\n",
       "      <td>0</td>\n",
       "      <td>0</td>\n",
       "      <td>0</td>\n",
       "      <td>0</td>\n",
       "      <td>489055.21875</td>\n",
       "      <td>0</td>\n",
       "    </tr>\n",
       "    <tr>\n",
       "      <th>712</th>\n",
       "      <td>777</td>\n",
       "      <td>124.0874</td>\n",
       "      <td>7.91</td>\n",
       "      <td>PHerb1_2-2-romulo</td>\n",
       "      <td>777_PHerb1_2-2-romulo</td>\n",
       "      <td>777/124.0874mz/7.91min</td>\n",
       "      <td>0</td>\n",
       "      <td>0</td>\n",
       "      <td>0</td>\n",
       "      <td>0</td>\n",
       "      <td>...</td>\n",
       "      <td>0</td>\n",
       "      <td>0</td>\n",
       "      <td>0</td>\n",
       "      <td>0</td>\n",
       "      <td>0</td>\n",
       "      <td>0</td>\n",
       "      <td>0</td>\n",
       "      <td>0</td>\n",
       "      <td>720954.1875</td>\n",
       "      <td>0</td>\n",
       "    </tr>\n",
       "  </tbody>\n",
       "</table>\n",
       "<p>712 rows × 40 columns</p>\n",
       "</div>"
      ],
      "text/plain": [
       "     scan_number  mz_value  rt_value              batch  \\\n",
       "1              1  118.0865      0.02  PHerb1_2-2-romulo   \n",
       "2              2  118.0864      0.12  PHerb1_2-2-romulo   \n",
       "3              3  195.0877      0.18  PHerb1_2-2-romulo   \n",
       "4              4  118.0867      0.19  PHerb1_2-2-romulo   \n",
       "5              5  128.0197      0.20  PHerb1_2-2-romulo   \n",
       "..           ...       ...       ...                ...   \n",
       "708          771  124.0874      7.63  PHerb1_2-2-romulo   \n",
       "709          773  107.0608      7.70  PHerb1_2-2-romulo   \n",
       "710          775  124.0874      7.77  PHerb1_2-2-romulo   \n",
       "711          776  124.0874      7.87  PHerb1_2-2-romulo   \n",
       "712          777  124.0874      7.91  PHerb1_2-2-romulo   \n",
       "\n",
       "             feature_batch                Filename 73.mzML 85.mzML  \\\n",
       "1      1_PHerb1_2-2-romulo    1/118.0865mz/0.02min       0       0   \n",
       "2      2_PHerb1_2-2-romulo    2/118.0864mz/0.12min       0       0   \n",
       "3      3_PHerb1_2-2-romulo    3/195.0877mz/0.18min       0       0   \n",
       "4      4_PHerb1_2-2-romulo    4/118.0867mz/0.19min       0       0   \n",
       "5      5_PHerb1_2-2-romulo    5/128.0197mz/0.20min       0       0   \n",
       "..                     ...                     ...     ...     ...   \n",
       "708  771_PHerb1_2-2-romulo  771/124.0874mz/7.63min       0       0   \n",
       "709  773_PHerb1_2-2-romulo  773/107.0608mz/7.70min       0       0   \n",
       "710  775_PHerb1_2-2-romulo  775/124.0874mz/7.77min       0       0   \n",
       "711  776_PHerb1_2-2-romulo  776/124.0874mz/7.87min       0       0   \n",
       "712  777_PHerb1_2-2-romulo  777/124.0874mz/7.91min       0       0   \n",
       "\n",
       "           78.mzML 75.mzML  ... 125.mzML MPCQExt_20231025090714.mzML 127.mzML  \\\n",
       "1    186196.921875       0  ...        0                           0        0   \n",
       "2                0       0  ...        0                           0        0   \n",
       "3                0       0  ...        0                           0        0   \n",
       "4                0       0  ...        0                           0        0   \n",
       "5                0       0  ...        0                           0        0   \n",
       "..             ...     ...  ...      ...                         ...      ...   \n",
       "708              0       0  ...        0                           0        0   \n",
       "709              0       0  ...        0                           0        0   \n",
       "710              0       0  ...        0                           0        0   \n",
       "711              0       0  ...        0                           0        0   \n",
       "712              0       0  ...        0                           0        0   \n",
       "\n",
       "    122.mzML      109.mzML CQExt_20231027161607.mzML  \\\n",
       "1          0             0                         0   \n",
       "2          0  244316.09375                         0   \n",
       "3          0             0                         0   \n",
       "4          0             0                         0   \n",
       "5          0             0                         0   \n",
       "..       ...           ...                       ...   \n",
       "708        0             0                         0   \n",
       "709        0             0                         0   \n",
       "710        0             0                         0   \n",
       "711        0             0                         0   \n",
       "712        0             0                         0   \n",
       "\n",
       "    MPCQExt_20231025030633.mzML CQExt_20231027134303.mzML  \\\n",
       "1                             0                         0   \n",
       "2                             0                         0   \n",
       "3                  408071.40625                         0   \n",
       "4                             0             78828.8671875   \n",
       "5                             0                         0   \n",
       "..                          ...                       ...   \n",
       "708                           0                         0   \n",
       "709                           0                         0   \n",
       "710                           0                         0   \n",
       "711                           0                         0   \n",
       "712                           0                         0   \n",
       "\n",
       "    CQExt_20231027105901.mzML MPCQExt_20231027110958.mzML  \n",
       "1                           0                           0  \n",
       "2                           0                           0  \n",
       "3                           0                           0  \n",
       "4                           0                           0  \n",
       "5                383171.28125                           0  \n",
       "..                        ...                         ...  \n",
       "708                         0                339212.28125  \n",
       "709                         0                  807292.625  \n",
       "710              380692.34375                           0  \n",
       "711              489055.21875                           0  \n",
       "712               720954.1875                           0  \n",
       "\n",
       "[712 rows x 40 columns]"
      ]
     },
     "metadata": {},
     "output_type": "display_data"
    },
    {
     "name": "stdout",
     "output_type": "stream",
     "text": [
      "First rows for classification:\n"
     ]
    }
   ],
   "source": [
    "# Find all _MetaboAnalyst.csv files in the directory\n",
    "file_paths = [os.path.join(directory_path, file) for file in os.listdir(directory_path) if file.endswith('_MetaboAnalyst.csv')]\n",
    "\n",
    "# Create separate DataFrames for each file and save first rows\n",
    "dfs, first_rows = extract_values_and_create_dfs(file_paths)\n",
    "\n",
    "# Display the first few rows of each DataFrame and the first rows\n",
    "for name, df in dfs.items():\n",
    "    print(f\"{name}:\")\n",
    "    display(df)\n",
    "\n",
    "print(\"First rows for classification:\")\n",
    "#for name, row in first_rows.items():\n",
    "    #print(f\"{name}: {row}\")"
   ]
  },
  {
   "cell_type": "markdown",
   "id": "0dd0510d-2118-4ff1-b233-7f7e2c603a23",
   "metadata": {},
   "source": [
    "---\n",
    "### Align Features according to Retention Time and M/Z values\n",
    "\n",
    "* The align_features function aligns features across batches by comparing mz_value and rt_value with specified thresholds (mz_threshold and rt_threshold).\n",
    "* Features are matched and grouped together if their m/z and RT values fall within the defined thresholds.\n",
    "* Intensities of matched features are combined, and an aligned_features column is created to indicate which features from different batches have been aligned.\n"
   ]
  },
  {
   "cell_type": "code",
   "execution_count": 11,
   "id": "9707f1a7-97a2-4dc7-88fa-496b3b2388a0",
   "metadata": {},
   "outputs": [
    {
     "data": {
      "text/html": [
       "<div>\n",
       "<style scoped>\n",
       "    .dataframe tbody tr th:only-of-type {\n",
       "        vertical-align: middle;\n",
       "    }\n",
       "\n",
       "    .dataframe tbody tr th {\n",
       "        vertical-align: top;\n",
       "    }\n",
       "\n",
       "    .dataframe thead th {\n",
       "        text-align: right;\n",
       "    }\n",
       "</style>\n",
       "<table border=\"1\" class=\"dataframe\">\n",
       "  <thead>\n",
       "    <tr style=\"text-align: right;\">\n",
       "      <th></th>\n",
       "      <th>scan_number</th>\n",
       "      <th>mz_value</th>\n",
       "      <th>rt_value</th>\n",
       "      <th>feature_batch</th>\n",
       "      <th>aligned_features</th>\n",
       "      <th>df_PHerb1_1-1-romulo_feature_batch</th>\n",
       "      <th>df_PHerb1_1-1-romulo_Filename</th>\n",
       "      <th>df_PHerb1_1-1-romulo_6.mzML</th>\n",
       "      <th>df_PHerb1_1-1-romulo_16.mzML</th>\n",
       "      <th>df_PHerb1_1-1-romulo_12.mzML</th>\n",
       "      <th>...</th>\n",
       "      <th>df_PHerb1_2-2-romulo_125.mzML</th>\n",
       "      <th>df_PHerb1_2-2-romulo_MPCQExt_20231025090714.mzML</th>\n",
       "      <th>df_PHerb1_2-2-romulo_127.mzML</th>\n",
       "      <th>df_PHerb1_2-2-romulo_122.mzML</th>\n",
       "      <th>df_PHerb1_2-2-romulo_109.mzML</th>\n",
       "      <th>df_PHerb1_2-2-romulo_CQExt_20231027161607.mzML</th>\n",
       "      <th>df_PHerb1_2-2-romulo_MPCQExt_20231025030633.mzML</th>\n",
       "      <th>df_PHerb1_2-2-romulo_CQExt_20231027134303.mzML</th>\n",
       "      <th>df_PHerb1_2-2-romulo_CQExt_20231027105901.mzML</th>\n",
       "      <th>df_PHerb1_2-2-romulo_MPCQExt_20231027110958.mzML</th>\n",
       "    </tr>\n",
       "  </thead>\n",
       "  <tbody>\n",
       "    <tr>\n",
       "      <th>0</th>\n",
       "      <td>2</td>\n",
       "      <td>83.5361</td>\n",
       "      <td>0.21</td>\n",
       "      <td>2_PHerb1_1-1-romulo</td>\n",
       "      <td>2_PHerb1_1-1-romulo; 11_PHerb1_1-2-romulo; 7_PHerb1_2-1-romulo; 18_PHerb1_2-2-romulo; 37_PHerb1_2-2-romulo</td>\n",
       "      <td>2_PHerb1_1-1-romulo</td>\n",
       "      <td>2/83.5361mz/0.21min</td>\n",
       "      <td>0</td>\n",
       "      <td>665364.5625</td>\n",
       "      <td>0</td>\n",
       "      <td>...</td>\n",
       "      <td>0</td>\n",
       "      <td>0</td>\n",
       "      <td>0</td>\n",
       "      <td>0</td>\n",
       "      <td>0</td>\n",
       "      <td>0</td>\n",
       "      <td>0</td>\n",
       "      <td>0</td>\n",
       "      <td>0</td>\n",
       "      <td>0</td>\n",
       "    </tr>\n",
       "    <tr>\n",
       "      <th>1</th>\n",
       "      <td>3</td>\n",
       "      <td>153.0331</td>\n",
       "      <td>0.21</td>\n",
       "      <td>3_PHerb1_1-1-romulo</td>\n",
       "      <td>3_PHerb1_1-1-romulo; 231_PHerb1_1-1-romulo; 236_PHerb1_1-1-romulo; 239_PHerb1_1-1-romulo; 151_PHerb1_1-2-romulo; 153_PHerb1_1-2-romulo; 89_PHerb1_2-1-romulo; 140_PHerb1_2-2-romulo</td>\n",
       "      <td>239_PHerb1_1-1-romulo</td>\n",
       "      <td>239/153.0186mz/0.46min</td>\n",
       "      <td>0</td>\n",
       "      <td>0</td>\n",
       "      <td>0</td>\n",
       "      <td>...</td>\n",
       "      <td>0</td>\n",
       "      <td>0</td>\n",
       "      <td>0</td>\n",
       "      <td>0</td>\n",
       "      <td>0</td>\n",
       "      <td>0</td>\n",
       "      <td>0</td>\n",
       "      <td>0</td>\n",
       "      <td>0</td>\n",
       "      <td>2333383.5</td>\n",
       "    </tr>\n",
       "    <tr>\n",
       "      <th>2</th>\n",
       "      <td>4</td>\n",
       "      <td>241.9999</td>\n",
       "      <td>0.21</td>\n",
       "      <td>4_PHerb1_1-1-romulo</td>\n",
       "      <td>4_PHerb1_1-1-romulo; 9_PHerb1_1-2-romulo; 9_PHerb1_2-1-romulo; 46_PHerb1_2-2-romulo</td>\n",
       "      <td>4_PHerb1_1-1-romulo</td>\n",
       "      <td>4/241.9999mz/0.21min</td>\n",
       "      <td>644490.8125</td>\n",
       "      <td>1089360.125</td>\n",
       "      <td>0</td>\n",
       "      <td>...</td>\n",
       "      <td>0</td>\n",
       "      <td>0</td>\n",
       "      <td>0</td>\n",
       "      <td>0</td>\n",
       "      <td>0</td>\n",
       "      <td>0</td>\n",
       "      <td>0</td>\n",
       "      <td>0</td>\n",
       "      <td>0</td>\n",
       "      <td>0</td>\n",
       "    </tr>\n",
       "    <tr>\n",
       "      <th>3</th>\n",
       "      <td>5</td>\n",
       "      <td>130.0174</td>\n",
       "      <td>0.21</td>\n",
       "      <td>5_PHerb1_1-1-romulo</td>\n",
       "      <td>5_PHerb1_1-1-romulo; 12_PHerb1_1-2-romulo; 15_PHerb1_2-2-romulo</td>\n",
       "      <td>5_PHerb1_1-1-romulo</td>\n",
       "      <td>5/130.0174mz/0.21min</td>\n",
       "      <td>0</td>\n",
       "      <td>343931.6875</td>\n",
       "      <td>0</td>\n",
       "      <td>...</td>\n",
       "      <td>0</td>\n",
       "      <td>0</td>\n",
       "      <td>0</td>\n",
       "      <td>0</td>\n",
       "      <td>0</td>\n",
       "      <td>0</td>\n",
       "      <td>0</td>\n",
       "      <td>0</td>\n",
       "      <td>0</td>\n",
       "      <td>0</td>\n",
       "    </tr>\n",
       "    <tr>\n",
       "      <th>4</th>\n",
       "      <td>6</td>\n",
       "      <td>146.0300</td>\n",
       "      <td>0.21</td>\n",
       "      <td>6_PHerb1_1-1-romulo</td>\n",
       "      <td>6_PHerb1_1-1-romulo; 14_PHerb1_1-2-romulo; 13_PHerb1_2-1-romulo; 16_PHerb1_2-2-romulo</td>\n",
       "      <td>6_PHerb1_1-1-romulo</td>\n",
       "      <td>6/146.0300mz/0.21min</td>\n",
       "      <td>0</td>\n",
       "      <td>421269.03125</td>\n",
       "      <td>0</td>\n",
       "      <td>...</td>\n",
       "      <td>0</td>\n",
       "      <td>0</td>\n",
       "      <td>0</td>\n",
       "      <td>0</td>\n",
       "      <td>0</td>\n",
       "      <td>0</td>\n",
       "      <td>0</td>\n",
       "      <td>0</td>\n",
       "      <td>0</td>\n",
       "      <td>0</td>\n",
       "    </tr>\n",
       "    <tr>\n",
       "      <th>...</th>\n",
       "      <td>...</td>\n",
       "      <td>...</td>\n",
       "      <td>...</td>\n",
       "      <td>...</td>\n",
       "      <td>...</td>\n",
       "      <td>...</td>\n",
       "      <td>...</td>\n",
       "      <td>...</td>\n",
       "      <td>...</td>\n",
       "      <td>...</td>\n",
       "      <td>...</td>\n",
       "      <td>...</td>\n",
       "      <td>...</td>\n",
       "      <td>...</td>\n",
       "      <td>...</td>\n",
       "      <td>...</td>\n",
       "      <td>...</td>\n",
       "      <td>...</td>\n",
       "      <td>...</td>\n",
       "      <td>...</td>\n",
       "      <td>...</td>\n",
       "    </tr>\n",
       "    <tr>\n",
       "      <th>965</th>\n",
       "      <td>773</td>\n",
       "      <td>107.0608</td>\n",
       "      <td>7.70</td>\n",
       "      <td>773_PHerb1_2-2-romulo</td>\n",
       "      <td>773_PHerb1_2-2-romulo; 476_PHerb1_2-1-romulo; 767_PHerb1_2-2-romulo</td>\n",
       "      <td>NaN</td>\n",
       "      <td>NaN</td>\n",
       "      <td>NaN</td>\n",
       "      <td>NaN</td>\n",
       "      <td>NaN</td>\n",
       "      <td>...</td>\n",
       "      <td>0</td>\n",
       "      <td>0</td>\n",
       "      <td>0</td>\n",
       "      <td>0</td>\n",
       "      <td>0</td>\n",
       "      <td>0</td>\n",
       "      <td>0</td>\n",
       "      <td>442521.28125</td>\n",
       "      <td>0</td>\n",
       "      <td>0</td>\n",
       "    </tr>\n",
       "    <tr>\n",
       "      <th>966</th>\n",
       "      <td>1</td>\n",
       "      <td>151.0355</td>\n",
       "      <td>0.21</td>\n",
       "      <td>df_PHerb1_1-1-romulo</td>\n",
       "      <td>df_PHerb1_1-1-romulo</td>\n",
       "      <td>1_PHerb1_1-1-romulo</td>\n",
       "      <td>1/151.0355mz/0.21min</td>\n",
       "      <td>1559816.5</td>\n",
       "      <td>2542374.5</td>\n",
       "      <td>765244.625</td>\n",
       "      <td>...</td>\n",
       "      <td>NaN</td>\n",
       "      <td>NaN</td>\n",
       "      <td>NaN</td>\n",
       "      <td>NaN</td>\n",
       "      <td>NaN</td>\n",
       "      <td>NaN</td>\n",
       "      <td>NaN</td>\n",
       "      <td>NaN</td>\n",
       "      <td>NaN</td>\n",
       "      <td>NaN</td>\n",
       "    </tr>\n",
       "    <tr>\n",
       "      <th>967</th>\n",
       "      <td>1</td>\n",
       "      <td>195.0886</td>\n",
       "      <td>0.06</td>\n",
       "      <td>df_PHerb1_1-2-romulo</td>\n",
       "      <td>df_PHerb1_1-2-romulo</td>\n",
       "      <td>NaN</td>\n",
       "      <td>NaN</td>\n",
       "      <td>NaN</td>\n",
       "      <td>NaN</td>\n",
       "      <td>NaN</td>\n",
       "      <td>...</td>\n",
       "      <td>NaN</td>\n",
       "      <td>NaN</td>\n",
       "      <td>NaN</td>\n",
       "      <td>NaN</td>\n",
       "      <td>NaN</td>\n",
       "      <td>NaN</td>\n",
       "      <td>NaN</td>\n",
       "      <td>NaN</td>\n",
       "      <td>NaN</td>\n",
       "      <td>NaN</td>\n",
       "    </tr>\n",
       "    <tr>\n",
       "      <th>968</th>\n",
       "      <td>1</td>\n",
       "      <td>118.0866</td>\n",
       "      <td>0.12</td>\n",
       "      <td>df_PHerb1_2-1-romulo</td>\n",
       "      <td>df_PHerb1_2-1-romulo</td>\n",
       "      <td>NaN</td>\n",
       "      <td>NaN</td>\n",
       "      <td>NaN</td>\n",
       "      <td>NaN</td>\n",
       "      <td>NaN</td>\n",
       "      <td>...</td>\n",
       "      <td>NaN</td>\n",
       "      <td>NaN</td>\n",
       "      <td>NaN</td>\n",
       "      <td>NaN</td>\n",
       "      <td>NaN</td>\n",
       "      <td>NaN</td>\n",
       "      <td>NaN</td>\n",
       "      <td>NaN</td>\n",
       "      <td>NaN</td>\n",
       "      <td>NaN</td>\n",
       "    </tr>\n",
       "    <tr>\n",
       "      <th>969</th>\n",
       "      <td>1</td>\n",
       "      <td>118.0865</td>\n",
       "      <td>0.02</td>\n",
       "      <td>df_PHerb1_2-2-romulo</td>\n",
       "      <td>df_PHerb1_2-2-romulo</td>\n",
       "      <td>NaN</td>\n",
       "      <td>NaN</td>\n",
       "      <td>NaN</td>\n",
       "      <td>NaN</td>\n",
       "      <td>NaN</td>\n",
       "      <td>...</td>\n",
       "      <td>0</td>\n",
       "      <td>0</td>\n",
       "      <td>0</td>\n",
       "      <td>0</td>\n",
       "      <td>0</td>\n",
       "      <td>0</td>\n",
       "      <td>0</td>\n",
       "      <td>0</td>\n",
       "      <td>0</td>\n",
       "      <td>0</td>\n",
       "    </tr>\n",
       "  </tbody>\n",
       "</table>\n",
       "<p>970 rows × 161 columns</p>\n",
       "</div>"
      ],
      "text/plain": [
       "     scan_number  mz_value  rt_value          feature_batch  \\\n",
       "0              2   83.5361      0.21    2_PHerb1_1-1-romulo   \n",
       "1              3  153.0331      0.21    3_PHerb1_1-1-romulo   \n",
       "2              4  241.9999      0.21    4_PHerb1_1-1-romulo   \n",
       "3              5  130.0174      0.21    5_PHerb1_1-1-romulo   \n",
       "4              6  146.0300      0.21    6_PHerb1_1-1-romulo   \n",
       "..           ...       ...       ...                    ...   \n",
       "965          773  107.0608      7.70  773_PHerb1_2-2-romulo   \n",
       "966            1  151.0355      0.21   df_PHerb1_1-1-romulo   \n",
       "967            1  195.0886      0.06   df_PHerb1_1-2-romulo   \n",
       "968            1  118.0866      0.12   df_PHerb1_2-1-romulo   \n",
       "969            1  118.0865      0.02   df_PHerb1_2-2-romulo   \n",
       "\n",
       "                                                                                                                                                                        aligned_features  \\\n",
       "0                                                                             2_PHerb1_1-1-romulo; 11_PHerb1_1-2-romulo; 7_PHerb1_2-1-romulo; 18_PHerb1_2-2-romulo; 37_PHerb1_2-2-romulo   \n",
       "1    3_PHerb1_1-1-romulo; 231_PHerb1_1-1-romulo; 236_PHerb1_1-1-romulo; 239_PHerb1_1-1-romulo; 151_PHerb1_1-2-romulo; 153_PHerb1_1-2-romulo; 89_PHerb1_2-1-romulo; 140_PHerb1_2-2-romulo   \n",
       "2                                                                                                    4_PHerb1_1-1-romulo; 9_PHerb1_1-2-romulo; 9_PHerb1_2-1-romulo; 46_PHerb1_2-2-romulo   \n",
       "3                                                                                                                        5_PHerb1_1-1-romulo; 12_PHerb1_1-2-romulo; 15_PHerb1_2-2-romulo   \n",
       "4                                                                                                  6_PHerb1_1-1-romulo; 14_PHerb1_1-2-romulo; 13_PHerb1_2-1-romulo; 16_PHerb1_2-2-romulo   \n",
       "..                                                                                                                                                                                   ...   \n",
       "965                                                                                                                  773_PHerb1_2-2-romulo; 476_PHerb1_2-1-romulo; 767_PHerb1_2-2-romulo   \n",
       "966                                                                                                                                                                 df_PHerb1_1-1-romulo   \n",
       "967                                                                                                                                                                 df_PHerb1_1-2-romulo   \n",
       "968                                                                                                                                                                 df_PHerb1_2-1-romulo   \n",
       "969                                                                                                                                                                 df_PHerb1_2-2-romulo   \n",
       "\n",
       "    df_PHerb1_1-1-romulo_feature_batch df_PHerb1_1-1-romulo_Filename  \\\n",
       "0                  2_PHerb1_1-1-romulo           2/83.5361mz/0.21min   \n",
       "1                239_PHerb1_1-1-romulo        239/153.0186mz/0.46min   \n",
       "2                  4_PHerb1_1-1-romulo          4/241.9999mz/0.21min   \n",
       "3                  5_PHerb1_1-1-romulo          5/130.0174mz/0.21min   \n",
       "4                  6_PHerb1_1-1-romulo          6/146.0300mz/0.21min   \n",
       "..                                 ...                           ...   \n",
       "965                                NaN                           NaN   \n",
       "966                1_PHerb1_1-1-romulo          1/151.0355mz/0.21min   \n",
       "967                                NaN                           NaN   \n",
       "968                                NaN                           NaN   \n",
       "969                                NaN                           NaN   \n",
       "\n",
       "    df_PHerb1_1-1-romulo_6.mzML df_PHerb1_1-1-romulo_16.mzML  \\\n",
       "0                             0                  665364.5625   \n",
       "1                             0                            0   \n",
       "2                   644490.8125                  1089360.125   \n",
       "3                             0                  343931.6875   \n",
       "4                             0                 421269.03125   \n",
       "..                          ...                          ...   \n",
       "965                         NaN                          NaN   \n",
       "966                   1559816.5                    2542374.5   \n",
       "967                         NaN                          NaN   \n",
       "968                         NaN                          NaN   \n",
       "969                         NaN                          NaN   \n",
       "\n",
       "    df_PHerb1_1-1-romulo_12.mzML  ... df_PHerb1_2-2-romulo_125.mzML  \\\n",
       "0                              0  ...                             0   \n",
       "1                              0  ...                             0   \n",
       "2                              0  ...                             0   \n",
       "3                              0  ...                             0   \n",
       "4                              0  ...                             0   \n",
       "..                           ...  ...                           ...   \n",
       "965                          NaN  ...                             0   \n",
       "966                   765244.625  ...                           NaN   \n",
       "967                          NaN  ...                           NaN   \n",
       "968                          NaN  ...                           NaN   \n",
       "969                          NaN  ...                             0   \n",
       "\n",
       "    df_PHerb1_2-2-romulo_MPCQExt_20231025090714.mzML  \\\n",
       "0                                                  0   \n",
       "1                                                  0   \n",
       "2                                                  0   \n",
       "3                                                  0   \n",
       "4                                                  0   \n",
       "..                                               ...   \n",
       "965                                                0   \n",
       "966                                              NaN   \n",
       "967                                              NaN   \n",
       "968                                              NaN   \n",
       "969                                                0   \n",
       "\n",
       "    df_PHerb1_2-2-romulo_127.mzML df_PHerb1_2-2-romulo_122.mzML  \\\n",
       "0                               0                             0   \n",
       "1                               0                             0   \n",
       "2                               0                             0   \n",
       "3                               0                             0   \n",
       "4                               0                             0   \n",
       "..                            ...                           ...   \n",
       "965                             0                             0   \n",
       "966                           NaN                           NaN   \n",
       "967                           NaN                           NaN   \n",
       "968                           NaN                           NaN   \n",
       "969                             0                             0   \n",
       "\n",
       "    df_PHerb1_2-2-romulo_109.mzML  \\\n",
       "0                               0   \n",
       "1                               0   \n",
       "2                               0   \n",
       "3                               0   \n",
       "4                               0   \n",
       "..                            ...   \n",
       "965                             0   \n",
       "966                           NaN   \n",
       "967                           NaN   \n",
       "968                           NaN   \n",
       "969                             0   \n",
       "\n",
       "    df_PHerb1_2-2-romulo_CQExt_20231027161607.mzML  \\\n",
       "0                                                0   \n",
       "1                                                0   \n",
       "2                                                0   \n",
       "3                                                0   \n",
       "4                                                0   \n",
       "..                                             ...   \n",
       "965                                              0   \n",
       "966                                            NaN   \n",
       "967                                            NaN   \n",
       "968                                            NaN   \n",
       "969                                              0   \n",
       "\n",
       "    df_PHerb1_2-2-romulo_MPCQExt_20231025030633.mzML  \\\n",
       "0                                                  0   \n",
       "1                                                  0   \n",
       "2                                                  0   \n",
       "3                                                  0   \n",
       "4                                                  0   \n",
       "..                                               ...   \n",
       "965                                                0   \n",
       "966                                              NaN   \n",
       "967                                              NaN   \n",
       "968                                              NaN   \n",
       "969                                                0   \n",
       "\n",
       "    df_PHerb1_2-2-romulo_CQExt_20231027134303.mzML  \\\n",
       "0                                                0   \n",
       "1                                                0   \n",
       "2                                                0   \n",
       "3                                                0   \n",
       "4                                                0   \n",
       "..                                             ...   \n",
       "965                                   442521.28125   \n",
       "966                                            NaN   \n",
       "967                                            NaN   \n",
       "968                                            NaN   \n",
       "969                                              0   \n",
       "\n",
       "    df_PHerb1_2-2-romulo_CQExt_20231027105901.mzML  \\\n",
       "0                                                0   \n",
       "1                                                0   \n",
       "2                                                0   \n",
       "3                                                0   \n",
       "4                                                0   \n",
       "..                                             ...   \n",
       "965                                              0   \n",
       "966                                            NaN   \n",
       "967                                            NaN   \n",
       "968                                            NaN   \n",
       "969                                              0   \n",
       "\n",
       "    df_PHerb1_2-2-romulo_MPCQExt_20231027110958.mzML  \n",
       "0                                                  0  \n",
       "1                                          2333383.5  \n",
       "2                                                  0  \n",
       "3                                                  0  \n",
       "4                                                  0  \n",
       "..                                               ...  \n",
       "965                                                0  \n",
       "966                                              NaN  \n",
       "967                                              NaN  \n",
       "968                                              NaN  \n",
       "969                                                0  \n",
       "\n",
       "[970 rows x 161 columns]"
      ]
     },
     "metadata": {},
     "output_type": "display_data"
    }
   ],
   "source": [
    "# Align features across batches\n",
    "aligned_rt_mz_df = align_features(dfs, mz_threshold=mz_threshold, rt_threshold=rt_threshold)\n",
    "\n",
    "# Create the subdirectory if it doesn't exist\n",
    "if not os.path.exists(os.path.join(directory_path, 'alignment_info_df')):\n",
    "    os.makedirs(os.path.join(directory_path, 'alignment_info_df'))\n",
    "\n",
    "# Save the modified DataFrame to the new subdirectory\n",
    "output_file_path = os.path.join(os.path.join(directory_path, 'alignment_info_df'), 'aligned_rt_mz_df.csv')\n",
    "aligned_rt_mz_df.to_csv(output_file_path, index=False)\n",
    "\n",
    "# Display the aligned features DataFrame\n",
    "pd.set_option(\"max_colwidth\", None)\n",
    "display(aligned_rt_mz_df)\n",
    "#display(aligned_features_df[[\"scan_number\", \"mz_value\", \"rt_value\", \"feature_batch\", \"aligned_features\"]])"
   ]
  },
  {
   "cell_type": "markdown",
   "id": "361499d0-3ae1-4310-98d3-b2e9ac6cf8a1",
   "metadata": {},
   "source": [
    "---\n",
    "### Note:\n",
    "\n",
    "* This method is specifically designed for interbatch comparison and annotation of compounds in Natural Products and Metabolomics.\n",
    "* Only features with MS/MS data are included in the alignment, as features without MS/MS data fall outside the scope of this method.\n",
    "---"
   ]
  },
  {
   "cell_type": "markdown",
   "id": "a66e5d44-3e92-4050-945d-5cdc593805fb",
   "metadata": {},
   "source": [
    "#### Calculating Cosine Similarity and Filtering ALigned \n",
    "\n",
    "* The calculate_cosine_similarity function computes the cosine similarity between two spectra.\n",
    "* Filter Aligned Features:\n",
    "    * The filter_aligned_features function filters aligned features based on cosine similarity.\n",
    "    * It iterates over the aligned_rt_mz_df, checks the cosine similarity for each pair of aligned spectra, and retains only those with similarity above the threshold."
   ]
  },
  {
   "cell_type": "code",
   "execution_count": 12,
   "id": "4c285eb8-9cdc-40ee-94f2-6b63c81d77a5",
   "metadata": {
    "scrolled": true
   },
   "outputs": [
    {
     "data": {
      "text/html": [
       "<div>\n",
       "<style scoped>\n",
       "    .dataframe tbody tr th:only-of-type {\n",
       "        vertical-align: middle;\n",
       "    }\n",
       "\n",
       "    .dataframe tbody tr th {\n",
       "        vertical-align: top;\n",
       "    }\n",
       "\n",
       "    .dataframe thead th {\n",
       "        text-align: right;\n",
       "    }\n",
       "</style>\n",
       "<table border=\"1\" class=\"dataframe\">\n",
       "  <thead>\n",
       "    <tr style=\"text-align: right;\">\n",
       "      <th></th>\n",
       "      <th>scan_number</th>\n",
       "      <th>mz_value</th>\n",
       "      <th>rt_value</th>\n",
       "      <th>feature_batch</th>\n",
       "      <th>aligned_features</th>\n",
       "      <th>df_PHerb1_1-1-romulo_feature_batch</th>\n",
       "      <th>df_PHerb1_1-1-romulo_Filename</th>\n",
       "      <th>df_PHerb1_1-1-romulo_6.mzML</th>\n",
       "      <th>df_PHerb1_1-1-romulo_16.mzML</th>\n",
       "      <th>df_PHerb1_1-1-romulo_12.mzML</th>\n",
       "      <th>...</th>\n",
       "      <th>df_PHerb1_2-2-romulo_125.mzML</th>\n",
       "      <th>df_PHerb1_2-2-romulo_MPCQExt_20231025090714.mzML</th>\n",
       "      <th>df_PHerb1_2-2-romulo_127.mzML</th>\n",
       "      <th>df_PHerb1_2-2-romulo_122.mzML</th>\n",
       "      <th>df_PHerb1_2-2-romulo_109.mzML</th>\n",
       "      <th>df_PHerb1_2-2-romulo_CQExt_20231027161607.mzML</th>\n",
       "      <th>df_PHerb1_2-2-romulo_MPCQExt_20231025030633.mzML</th>\n",
       "      <th>df_PHerb1_2-2-romulo_CQExt_20231027134303.mzML</th>\n",
       "      <th>df_PHerb1_2-2-romulo_CQExt_20231027105901.mzML</th>\n",
       "      <th>df_PHerb1_2-2-romulo_MPCQExt_20231027110958.mzML</th>\n",
       "    </tr>\n",
       "  </thead>\n",
       "  <tbody>\n",
       "    <tr>\n",
       "      <th>0</th>\n",
       "      <td>2</td>\n",
       "      <td>83.5361</td>\n",
       "      <td>0.21</td>\n",
       "      <td>2_PHerb1_1-1-romulo</td>\n",
       "      <td>2_PHerb1_1-1-romulo; 11_PHerb1_1-2-romulo; 7_PHerb1_2-1-romulo; 18_PHerb1_2-2-romulo; 37_PHerb1_2-2-romulo</td>\n",
       "      <td>2_PHerb1_1-1-romulo</td>\n",
       "      <td>2/83.5361mz/0.21min</td>\n",
       "      <td>0</td>\n",
       "      <td>665364.5625</td>\n",
       "      <td>0</td>\n",
       "      <td>...</td>\n",
       "      <td>0</td>\n",
       "      <td>0</td>\n",
       "      <td>0</td>\n",
       "      <td>0</td>\n",
       "      <td>0</td>\n",
       "      <td>0</td>\n",
       "      <td>0</td>\n",
       "      <td>0</td>\n",
       "      <td>0</td>\n",
       "      <td>0</td>\n",
       "    </tr>\n",
       "    <tr>\n",
       "      <th>1</th>\n",
       "      <td>3</td>\n",
       "      <td>153.0331</td>\n",
       "      <td>0.21</td>\n",
       "      <td>3_PHerb1_1-1-romulo</td>\n",
       "      <td>3_PHerb1_1-1-romulo; 231_PHerb1_1-1-romulo; 236_PHerb1_1-1-romulo; 239_PHerb1_1-1-romulo; 151_PHerb1_1-2-romulo; 153_PHerb1_1-2-romulo; 89_PHerb1_2-1-romulo; 140_PHerb1_2-2-romulo</td>\n",
       "      <td>239_PHerb1_1-1-romulo</td>\n",
       "      <td>239/153.0186mz/0.46min</td>\n",
       "      <td>0</td>\n",
       "      <td>0</td>\n",
       "      <td>0</td>\n",
       "      <td>...</td>\n",
       "      <td>0</td>\n",
       "      <td>0</td>\n",
       "      <td>0</td>\n",
       "      <td>0</td>\n",
       "      <td>0</td>\n",
       "      <td>0</td>\n",
       "      <td>0</td>\n",
       "      <td>0</td>\n",
       "      <td>0</td>\n",
       "      <td>2333383.5</td>\n",
       "    </tr>\n",
       "    <tr>\n",
       "      <th>2</th>\n",
       "      <td>4</td>\n",
       "      <td>241.9999</td>\n",
       "      <td>0.21</td>\n",
       "      <td>4_PHerb1_1-1-romulo</td>\n",
       "      <td>4_PHerb1_1-1-romulo; 9_PHerb1_1-2-romulo; 9_PHerb1_2-1-romulo; 46_PHerb1_2-2-romulo</td>\n",
       "      <td>4_PHerb1_1-1-romulo</td>\n",
       "      <td>4/241.9999mz/0.21min</td>\n",
       "      <td>644490.8125</td>\n",
       "      <td>1089360.125</td>\n",
       "      <td>0</td>\n",
       "      <td>...</td>\n",
       "      <td>0</td>\n",
       "      <td>0</td>\n",
       "      <td>0</td>\n",
       "      <td>0</td>\n",
       "      <td>0</td>\n",
       "      <td>0</td>\n",
       "      <td>0</td>\n",
       "      <td>0</td>\n",
       "      <td>0</td>\n",
       "      <td>0</td>\n",
       "    </tr>\n",
       "    <tr>\n",
       "      <th>3</th>\n",
       "      <td>5</td>\n",
       "      <td>130.0174</td>\n",
       "      <td>0.21</td>\n",
       "      <td>5_PHerb1_1-1-romulo</td>\n",
       "      <td>5_PHerb1_1-1-romulo; 12_PHerb1_1-2-romulo; 15_PHerb1_2-2-romulo</td>\n",
       "      <td>5_PHerb1_1-1-romulo</td>\n",
       "      <td>5/130.0174mz/0.21min</td>\n",
       "      <td>0</td>\n",
       "      <td>343931.6875</td>\n",
       "      <td>0</td>\n",
       "      <td>...</td>\n",
       "      <td>0</td>\n",
       "      <td>0</td>\n",
       "      <td>0</td>\n",
       "      <td>0</td>\n",
       "      <td>0</td>\n",
       "      <td>0</td>\n",
       "      <td>0</td>\n",
       "      <td>0</td>\n",
       "      <td>0</td>\n",
       "      <td>0</td>\n",
       "    </tr>\n",
       "    <tr>\n",
       "      <th>4</th>\n",
       "      <td>6</td>\n",
       "      <td>146.0300</td>\n",
       "      <td>0.21</td>\n",
       "      <td>6_PHerb1_1-1-romulo</td>\n",
       "      <td>6_PHerb1_1-1-romulo; 14_PHerb1_1-2-romulo; 13_PHerb1_2-1-romulo; 16_PHerb1_2-2-romulo</td>\n",
       "      <td>6_PHerb1_1-1-romulo</td>\n",
       "      <td>6/146.0300mz/0.21min</td>\n",
       "      <td>0</td>\n",
       "      <td>421269.03125</td>\n",
       "      <td>0</td>\n",
       "      <td>...</td>\n",
       "      <td>0</td>\n",
       "      <td>0</td>\n",
       "      <td>0</td>\n",
       "      <td>0</td>\n",
       "      <td>0</td>\n",
       "      <td>0</td>\n",
       "      <td>0</td>\n",
       "      <td>0</td>\n",
       "      <td>0</td>\n",
       "      <td>0</td>\n",
       "    </tr>\n",
       "    <tr>\n",
       "      <th>...</th>\n",
       "      <td>...</td>\n",
       "      <td>...</td>\n",
       "      <td>...</td>\n",
       "      <td>...</td>\n",
       "      <td>...</td>\n",
       "      <td>...</td>\n",
       "      <td>...</td>\n",
       "      <td>...</td>\n",
       "      <td>...</td>\n",
       "      <td>...</td>\n",
       "      <td>...</td>\n",
       "      <td>...</td>\n",
       "      <td>...</td>\n",
       "      <td>...</td>\n",
       "      <td>...</td>\n",
       "      <td>...</td>\n",
       "      <td>...</td>\n",
       "      <td>...</td>\n",
       "      <td>...</td>\n",
       "      <td>...</td>\n",
       "      <td>...</td>\n",
       "    </tr>\n",
       "    <tr>\n",
       "      <th>914</th>\n",
       "      <td>425</td>\n",
       "      <td>251.1640</td>\n",
       "      <td>2.68</td>\n",
       "      <td>425_PHerb1_2-2-romulo</td>\n",
       "      <td>425_PHerb1_2-2-romulo; 426_PHerb1_2-2-romulo</td>\n",
       "      <td>NaN</td>\n",
       "      <td>NaN</td>\n",
       "      <td>NaN</td>\n",
       "      <td>NaN</td>\n",
       "      <td>NaN</td>\n",
       "      <td>...</td>\n",
       "      <td>0</td>\n",
       "      <td>0</td>\n",
       "      <td>0</td>\n",
       "      <td>0</td>\n",
       "      <td>0</td>\n",
       "      <td>0</td>\n",
       "      <td>0</td>\n",
       "      <td>0</td>\n",
       "      <td>0</td>\n",
       "      <td>0</td>\n",
       "    </tr>\n",
       "    <tr>\n",
       "      <th>923</th>\n",
       "      <td>504</td>\n",
       "      <td>209.1546</td>\n",
       "      <td>3.53</td>\n",
       "      <td>504_PHerb1_2-2-romulo</td>\n",
       "      <td>504_PHerb1_2-2-romulo; 506_PHerb1_2-2-romulo; 520_PHerb1_2-2-romulo</td>\n",
       "      <td>NaN</td>\n",
       "      <td>NaN</td>\n",
       "      <td>NaN</td>\n",
       "      <td>NaN</td>\n",
       "      <td>NaN</td>\n",
       "      <td>...</td>\n",
       "      <td>0</td>\n",
       "      <td>0</td>\n",
       "      <td>0</td>\n",
       "      <td>0</td>\n",
       "      <td>686184.125</td>\n",
       "      <td>0</td>\n",
       "      <td>0</td>\n",
       "      <td>0</td>\n",
       "      <td>0</td>\n",
       "      <td>0</td>\n",
       "    </tr>\n",
       "    <tr>\n",
       "      <th>925</th>\n",
       "      <td>508</td>\n",
       "      <td>353.2306</td>\n",
       "      <td>3.59</td>\n",
       "      <td>508_PHerb1_2-2-romulo</td>\n",
       "      <td>508_PHerb1_2-2-romulo; 775_PHerb1_1-1-romulo; 784_PHerb1_1-1-romulo; 803_PHerb1_1-1-romulo</td>\n",
       "      <td>803_PHerb1_1-1-romulo</td>\n",
       "      <td>803/353.2320mz/3.40min</td>\n",
       "      <td>0</td>\n",
       "      <td>0</td>\n",
       "      <td>0</td>\n",
       "      <td>...</td>\n",
       "      <td>0</td>\n",
       "      <td>0</td>\n",
       "      <td>0</td>\n",
       "      <td>0</td>\n",
       "      <td>1730002.875</td>\n",
       "      <td>0</td>\n",
       "      <td>0</td>\n",
       "      <td>0</td>\n",
       "      <td>0</td>\n",
       "      <td>0</td>\n",
       "    </tr>\n",
       "    <tr>\n",
       "      <th>932</th>\n",
       "      <td>584</td>\n",
       "      <td>279.1587</td>\n",
       "      <td>4.74</td>\n",
       "      <td>584_PHerb1_2-2-romulo</td>\n",
       "      <td>584_PHerb1_2-2-romulo; 588_PHerb1_2-2-romulo</td>\n",
       "      <td>NaN</td>\n",
       "      <td>NaN</td>\n",
       "      <td>NaN</td>\n",
       "      <td>NaN</td>\n",
       "      <td>NaN</td>\n",
       "      <td>...</td>\n",
       "      <td>0</td>\n",
       "      <td>0</td>\n",
       "      <td>0</td>\n",
       "      <td>0</td>\n",
       "      <td>2976240.25</td>\n",
       "      <td>0</td>\n",
       "      <td>0</td>\n",
       "      <td>0</td>\n",
       "      <td>0</td>\n",
       "      <td>0</td>\n",
       "    </tr>\n",
       "    <tr>\n",
       "      <th>965</th>\n",
       "      <td>773</td>\n",
       "      <td>107.0608</td>\n",
       "      <td>7.70</td>\n",
       "      <td>773_PHerb1_2-2-romulo</td>\n",
       "      <td>773_PHerb1_2-2-romulo; 476_PHerb1_2-1-romulo; 767_PHerb1_2-2-romulo</td>\n",
       "      <td>NaN</td>\n",
       "      <td>NaN</td>\n",
       "      <td>NaN</td>\n",
       "      <td>NaN</td>\n",
       "      <td>NaN</td>\n",
       "      <td>...</td>\n",
       "      <td>0</td>\n",
       "      <td>0</td>\n",
       "      <td>0</td>\n",
       "      <td>0</td>\n",
       "      <td>0</td>\n",
       "      <td>0</td>\n",
       "      <td>0</td>\n",
       "      <td>442521.28125</td>\n",
       "      <td>0</td>\n",
       "      <td>0</td>\n",
       "    </tr>\n",
       "  </tbody>\n",
       "</table>\n",
       "<p>632 rows × 161 columns</p>\n",
       "</div>"
      ],
      "text/plain": [
       "     scan_number  mz_value  rt_value          feature_batch  \\\n",
       "0              2   83.5361      0.21    2_PHerb1_1-1-romulo   \n",
       "1              3  153.0331      0.21    3_PHerb1_1-1-romulo   \n",
       "2              4  241.9999      0.21    4_PHerb1_1-1-romulo   \n",
       "3              5  130.0174      0.21    5_PHerb1_1-1-romulo   \n",
       "4              6  146.0300      0.21    6_PHerb1_1-1-romulo   \n",
       "..           ...       ...       ...                    ...   \n",
       "914          425  251.1640      2.68  425_PHerb1_2-2-romulo   \n",
       "923          504  209.1546      3.53  504_PHerb1_2-2-romulo   \n",
       "925          508  353.2306      3.59  508_PHerb1_2-2-romulo   \n",
       "932          584  279.1587      4.74  584_PHerb1_2-2-romulo   \n",
       "965          773  107.0608      7.70  773_PHerb1_2-2-romulo   \n",
       "\n",
       "                                                                                                                                                                        aligned_features  \\\n",
       "0                                                                             2_PHerb1_1-1-romulo; 11_PHerb1_1-2-romulo; 7_PHerb1_2-1-romulo; 18_PHerb1_2-2-romulo; 37_PHerb1_2-2-romulo   \n",
       "1    3_PHerb1_1-1-romulo; 231_PHerb1_1-1-romulo; 236_PHerb1_1-1-romulo; 239_PHerb1_1-1-romulo; 151_PHerb1_1-2-romulo; 153_PHerb1_1-2-romulo; 89_PHerb1_2-1-romulo; 140_PHerb1_2-2-romulo   \n",
       "2                                                                                                    4_PHerb1_1-1-romulo; 9_PHerb1_1-2-romulo; 9_PHerb1_2-1-romulo; 46_PHerb1_2-2-romulo   \n",
       "3                                                                                                                        5_PHerb1_1-1-romulo; 12_PHerb1_1-2-romulo; 15_PHerb1_2-2-romulo   \n",
       "4                                                                                                  6_PHerb1_1-1-romulo; 14_PHerb1_1-2-romulo; 13_PHerb1_2-1-romulo; 16_PHerb1_2-2-romulo   \n",
       "..                                                                                                                                                                                   ...   \n",
       "914                                                                                                                                         425_PHerb1_2-2-romulo; 426_PHerb1_2-2-romulo   \n",
       "923                                                                                                                  504_PHerb1_2-2-romulo; 506_PHerb1_2-2-romulo; 520_PHerb1_2-2-romulo   \n",
       "925                                                                                           508_PHerb1_2-2-romulo; 775_PHerb1_1-1-romulo; 784_PHerb1_1-1-romulo; 803_PHerb1_1-1-romulo   \n",
       "932                                                                                                                                         584_PHerb1_2-2-romulo; 588_PHerb1_2-2-romulo   \n",
       "965                                                                                                                  773_PHerb1_2-2-romulo; 476_PHerb1_2-1-romulo; 767_PHerb1_2-2-romulo   \n",
       "\n",
       "    df_PHerb1_1-1-romulo_feature_batch df_PHerb1_1-1-romulo_Filename  \\\n",
       "0                  2_PHerb1_1-1-romulo           2/83.5361mz/0.21min   \n",
       "1                239_PHerb1_1-1-romulo        239/153.0186mz/0.46min   \n",
       "2                  4_PHerb1_1-1-romulo          4/241.9999mz/0.21min   \n",
       "3                  5_PHerb1_1-1-romulo          5/130.0174mz/0.21min   \n",
       "4                  6_PHerb1_1-1-romulo          6/146.0300mz/0.21min   \n",
       "..                                 ...                           ...   \n",
       "914                                NaN                           NaN   \n",
       "923                                NaN                           NaN   \n",
       "925              803_PHerb1_1-1-romulo        803/353.2320mz/3.40min   \n",
       "932                                NaN                           NaN   \n",
       "965                                NaN                           NaN   \n",
       "\n",
       "    df_PHerb1_1-1-romulo_6.mzML df_PHerb1_1-1-romulo_16.mzML  \\\n",
       "0                             0                  665364.5625   \n",
       "1                             0                            0   \n",
       "2                   644490.8125                  1089360.125   \n",
       "3                             0                  343931.6875   \n",
       "4                             0                 421269.03125   \n",
       "..                          ...                          ...   \n",
       "914                         NaN                          NaN   \n",
       "923                         NaN                          NaN   \n",
       "925                           0                            0   \n",
       "932                         NaN                          NaN   \n",
       "965                         NaN                          NaN   \n",
       "\n",
       "    df_PHerb1_1-1-romulo_12.mzML  ... df_PHerb1_2-2-romulo_125.mzML  \\\n",
       "0                              0  ...                             0   \n",
       "1                              0  ...                             0   \n",
       "2                              0  ...                             0   \n",
       "3                              0  ...                             0   \n",
       "4                              0  ...                             0   \n",
       "..                           ...  ...                           ...   \n",
       "914                          NaN  ...                             0   \n",
       "923                          NaN  ...                             0   \n",
       "925                            0  ...                             0   \n",
       "932                          NaN  ...                             0   \n",
       "965                          NaN  ...                             0   \n",
       "\n",
       "    df_PHerb1_2-2-romulo_MPCQExt_20231025090714.mzML  \\\n",
       "0                                                  0   \n",
       "1                                                  0   \n",
       "2                                                  0   \n",
       "3                                                  0   \n",
       "4                                                  0   \n",
       "..                                               ...   \n",
       "914                                                0   \n",
       "923                                                0   \n",
       "925                                                0   \n",
       "932                                                0   \n",
       "965                                                0   \n",
       "\n",
       "    df_PHerb1_2-2-romulo_127.mzML df_PHerb1_2-2-romulo_122.mzML  \\\n",
       "0                               0                             0   \n",
       "1                               0                             0   \n",
       "2                               0                             0   \n",
       "3                               0                             0   \n",
       "4                               0                             0   \n",
       "..                            ...                           ...   \n",
       "914                             0                             0   \n",
       "923                             0                             0   \n",
       "925                             0                             0   \n",
       "932                             0                             0   \n",
       "965                             0                             0   \n",
       "\n",
       "    df_PHerb1_2-2-romulo_109.mzML  \\\n",
       "0                               0   \n",
       "1                               0   \n",
       "2                               0   \n",
       "3                               0   \n",
       "4                               0   \n",
       "..                            ...   \n",
       "914                             0   \n",
       "923                    686184.125   \n",
       "925                   1730002.875   \n",
       "932                    2976240.25   \n",
       "965                             0   \n",
       "\n",
       "    df_PHerb1_2-2-romulo_CQExt_20231027161607.mzML  \\\n",
       "0                                                0   \n",
       "1                                                0   \n",
       "2                                                0   \n",
       "3                                                0   \n",
       "4                                                0   \n",
       "..                                             ...   \n",
       "914                                              0   \n",
       "923                                              0   \n",
       "925                                              0   \n",
       "932                                              0   \n",
       "965                                              0   \n",
       "\n",
       "    df_PHerb1_2-2-romulo_MPCQExt_20231025030633.mzML  \\\n",
       "0                                                  0   \n",
       "1                                                  0   \n",
       "2                                                  0   \n",
       "3                                                  0   \n",
       "4                                                  0   \n",
       "..                                               ...   \n",
       "914                                                0   \n",
       "923                                                0   \n",
       "925                                                0   \n",
       "932                                                0   \n",
       "965                                                0   \n",
       "\n",
       "    df_PHerb1_2-2-romulo_CQExt_20231027134303.mzML  \\\n",
       "0                                                0   \n",
       "1                                                0   \n",
       "2                                                0   \n",
       "3                                                0   \n",
       "4                                                0   \n",
       "..                                             ...   \n",
       "914                                              0   \n",
       "923                                              0   \n",
       "925                                              0   \n",
       "932                                              0   \n",
       "965                                   442521.28125   \n",
       "\n",
       "    df_PHerb1_2-2-romulo_CQExt_20231027105901.mzML  \\\n",
       "0                                                0   \n",
       "1                                                0   \n",
       "2                                                0   \n",
       "3                                                0   \n",
       "4                                                0   \n",
       "..                                             ...   \n",
       "914                                              0   \n",
       "923                                              0   \n",
       "925                                              0   \n",
       "932                                              0   \n",
       "965                                              0   \n",
       "\n",
       "    df_PHerb1_2-2-romulo_MPCQExt_20231027110958.mzML  \n",
       "0                                                  0  \n",
       "1                                          2333383.5  \n",
       "2                                                  0  \n",
       "3                                                  0  \n",
       "4                                                  0  \n",
       "..                                               ...  \n",
       "914                                                0  \n",
       "923                                                0  \n",
       "925                                                0  \n",
       "932                                                0  \n",
       "965                                                0  \n",
       "\n",
       "[632 rows x 161 columns]"
      ]
     },
     "metadata": {},
     "output_type": "display_data"
    }
   ],
   "source": [
    "# Filter the aligned features DataFrame\n",
    "MSfiltered_aligned_features_df = filter_aligned_features(aligned_rt_mz_df, spectra, project_prefix, cosine_threshold=cosine_threshold)\n",
    "\n",
    "# Display the filtered DataFrame\n",
    "pd.set_option(\"max_colwidth\", None)\n",
    "display(MSfiltered_aligned_features_df)\n",
    "\n",
    "# Save the filtered DataFrame to the new subdirectory\n",
    "output_file_path = os.path.join(os.path.join(directory_path, 'alignment_info_df'), 'MSfiltered_aligned_features_df.csv')\n",
    "MSfiltered_aligned_features_df.to_csv(output_file_path, index=False)"
   ]
  },
  {
   "cell_type": "markdown",
   "id": "0c53edb0-9d4f-432b-bb06-1cf45b37f51f",
   "metadata": {},
   "source": [
    "---\n",
    "#### Visual Check of the aligned Spectra"
   ]
  },
  {
   "cell_type": "code",
   "execution_count": 15,
   "id": "6f739c8e-6381-42c6-a26c-4e44172a9d56",
   "metadata": {},
   "outputs": [
    {
     "data": {
      "application/vnd.plotly.v1+json": {
       "config": {
        "plotlyServerURL": "https://plot.ly"
       },
       "data": [
        {
         "line": {
          "color": "blue"
         },
         "mode": "lines",
         "name": "1-1-romulo (scan 2)",
         "showlegend": false,
         "type": "scatter",
         "x": [
          50.5522,
          50.5522
         ],
         "y": [
          0,
          380000
         ]
        },
        {
         "line": {
          "color": "blue"
         },
         "mode": "lines",
         "name": "1-1-romulo (scan 2)",
         "showlegend": false,
         "type": "scatter",
         "x": [
          58.9985,
          58.9985
         ],
         "y": [
          0,
          700000
         ]
        },
        {
         "line": {
          "color": "blue"
         },
         "mode": "lines",
         "name": "1-1-romulo (scan 2)",
         "showlegend": false,
         "type": "scatter",
         "x": [
          59.5215,
          59.5215
         ],
         "y": [
          0,
          3500000
         ]
        },
        {
         "line": {
          "color": "blue"
         },
         "mode": "lines",
         "name": "1-1-romulo (scan 2)",
         "showlegend": false,
         "type": "scatter",
         "x": [
          60.0221,
          60.0221
         ],
         "y": [
          0,
          1900000
         ]
        },
        {
         "line": {
          "color": "blue"
         },
         "mode": "lines",
         "name": "1-1-romulo (scan 2)",
         "showlegend": false,
         "type": "scatter",
         "x": [
          60.5204,
          60.5204
         ],
         "y": [
          0,
          2100000
         ]
        },
        {
         "line": {
          "color": "blue"
         },
         "mode": "lines",
         "name": "1-1-romulo (scan 2)",
         "showlegend": false,
         "type": "scatter",
         "x": [
          68.5271,
          68.5271
         ],
         "y": [
          0,
          1800000
         ]
        },
        {
         "line": {
          "color": "blue"
         },
         "mode": "lines",
         "name": "1-1-romulo (scan 2)",
         "showlegend": false,
         "type": "scatter",
         "x": [
          69.027,
          69.027
         ],
         "y": [
          0,
          790000
         ]
        },
        {
         "line": {
          "color": "blue"
         },
         "mode": "lines",
         "name": "1-1-romulo (scan 2)",
         "showlegend": false,
         "type": "scatter",
         "x": [
          69.5257,
          69.5257
         ],
         "y": [
          0,
          810000
         ]
        },
        {
         "line": {
          "color": "blue"
         },
         "mode": "lines",
         "name": "1-1-romulo (scan 2)",
         "showlegend": false,
         "type": "scatter",
         "x": [
          71.0259,
          71.0259
         ],
         "y": [
          0,
          770000
         ]
        },
        {
         "line": {
          "color": "blue"
         },
         "mode": "lines",
         "name": "1-1-romulo (scan 2)",
         "showlegend": false,
         "type": "scatter",
         "x": [
          71.0293,
          71.0293
         ],
         "y": [
          0,
          9300000
         ]
        },
        {
         "line": {
          "color": "blue"
         },
         "mode": "lines",
         "name": "1-1-romulo (scan 2)",
         "showlegend": false,
         "type": "scatter",
         "x": [
          71.5303,
          71.5303
         ],
         "y": [
          0,
          5600000
         ]
        },
        {
         "line": {
          "color": "blue"
         },
         "mode": "lines",
         "name": "1-1-romulo (scan 2)",
         "showlegend": false,
         "type": "scatter",
         "x": [
          72.0282,
          72.0282
         ],
         "y": [
          0,
          6400000
         ]
        },
        {
         "line": {
          "color": "blue"
         },
         "mode": "lines",
         "name": "1-1-romulo (scan 2)",
         "showlegend": false,
         "type": "scatter",
         "x": [
          80.0344,
          80.0344
         ],
         "y": [
          0,
          4700000
         ]
        },
        {
         "line": {
          "color": "blue"
         },
         "mode": "lines",
         "name": "1-1-romulo (scan 2)",
         "showlegend": false,
         "type": "scatter",
         "x": [
          80.5352,
          80.5352
         ],
         "y": [
          0,
          2700000
         ]
        },
        {
         "line": {
          "color": "blue"
         },
         "mode": "lines",
         "name": "1-1-romulo (scan 2)",
         "showlegend": false,
         "type": "scatter",
         "x": [
          81.0337,
          81.0337
         ],
         "y": [
          0,
          2700000
         ]
        },
        {
         "line": {
          "color": "blue"
         },
         "mode": "lines",
         "name": "1-1-romulo (scan 2)",
         "showlegend": false,
         "type": "scatter",
         "x": [
          82.8116,
          82.8116
         ],
         "y": [
          0,
          420000
         ]
        },
        {
         "line": {
          "color": "blue"
         },
         "mode": "lines",
         "name": "1-1-romulo (scan 2)",
         "showlegend": false,
         "type": "scatter",
         "x": [
          84.0117,
          84.0117
         ],
         "y": [
          0,
          620000
         ]
        },
        {
         "line": {
          "color": "blue"
         },
         "mode": "lines",
         "name": "1-1-romulo (scan 2)",
         "showlegend": false,
         "type": "scatter",
         "x": [
          87.3708,
          87.3708
         ],
         "y": [
          0,
          450000
         ]
        },
        {
         "line": {
          "color": "blue"
         },
         "mode": "lines",
         "name": "1-1-romulo (scan 2)",
         "showlegend": false,
         "type": "scatter",
         "x": [
          90.6558,
          90.6558
         ],
         "y": [
          0,
          510000
         ]
        },
        {
         "line": {
          "color": "blue"
         },
         "mode": "lines",
         "name": "1-1-romulo (scan 2)",
         "showlegend": false,
         "type": "scatter",
         "x": [
          96.6954,
          96.6954
         ],
         "y": [
          0,
          450000
         ]
        },
        {
         "line": {
          "color": "blue"
         },
         "mode": "lines",
         "name": "1-1-romulo (scan 2)",
         "showlegend": false,
         "type": "scatter",
         "x": [
          97.0227,
          97.0227
         ],
         "y": [
          0,
          420000
         ]
        },
        {
         "line": {
          "color": "blue"
         },
         "mode": "lines",
         "name": "1-1-romulo (scan 2)",
         "showlegend": false,
         "type": "scatter",
         "x": [
          100.0247,
          100.0247
         ],
         "y": [
          0,
          850000
         ]
        },
        {
         "line": {
          "color": "blue"
         },
         "mode": "lines",
         "name": "1-1-romulo (scan 2)",
         "type": "scatter",
         "x": [
          null
         ],
         "y": [
          null
         ]
        },
        {
         "line": {
          "color": "green"
         },
         "mode": "lines",
         "name": "1-2-romulo (scan 11)",
         "showlegend": false,
         "type": "scatter",
         "x": [
          50.5165,
          50.5165
         ],
         "y": [
          0,
          760000
         ]
        },
        {
         "line": {
          "color": "green"
         },
         "mode": "lines",
         "name": "1-2-romulo (scan 11)",
         "showlegend": false,
         "type": "scatter",
         "x": [
          50.7392,
          50.7392
         ],
         "y": [
          0,
          450000
         ]
        },
        {
         "line": {
          "color": "green"
         },
         "mode": "lines",
         "name": "1-2-romulo (scan 11)",
         "showlegend": false,
         "type": "scatter",
         "x": [
          51.017,
          51.017
         ],
         "y": [
          0,
          1200000
         ]
        },
        {
         "line": {
          "color": "green"
         },
         "mode": "lines",
         "name": "1-2-romulo (scan 11)",
         "showlegend": false,
         "type": "scatter",
         "x": [
          51.5152,
          51.5152
         ],
         "y": [
          0,
          420000
         ]
        },
        {
         "line": {
          "color": "green"
         },
         "mode": "lines",
         "name": "1-2-romulo (scan 11)",
         "showlegend": false,
         "type": "scatter",
         "x": [
          54.8838,
          54.8838
         ],
         "y": [
          0,
          450000
         ]
        },
        {
         "line": {
          "color": "green"
         },
         "mode": "lines",
         "name": "1-2-romulo (scan 11)",
         "showlegend": false,
         "type": "scatter",
         "x": [
          56.4241,
          56.4241
         ],
         "y": [
          0,
          730000
         ]
        },
        {
         "line": {
          "color": "green"
         },
         "mode": "lines",
         "name": "1-2-romulo (scan 11)",
         "showlegend": false,
         "type": "scatter",
         "x": [
          58.9984,
          58.9984
         ],
         "y": [
          0,
          2100000
         ]
        },
        {
         "line": {
          "color": "green"
         },
         "mode": "lines",
         "name": "1-2-romulo (scan 11)",
         "showlegend": false,
         "type": "scatter",
         "x": [
          59.5216,
          59.5216
         ],
         "y": [
          0,
          9200000
         ]
        },
        {
         "line": {
          "color": "green"
         },
         "mode": "lines",
         "name": "1-2-romulo (scan 11)",
         "showlegend": false,
         "type": "scatter",
         "x": [
          60.0219,
          60.0219
         ],
         "y": [
          0,
          3800000
         ]
        },
        {
         "line": {
          "color": "green"
         },
         "mode": "lines",
         "name": "1-2-romulo (scan 11)",
         "showlegend": false,
         "type": "scatter",
         "x": [
          60.5204,
          60.5204
         ],
         "y": [
          0,
          4100000
         ]
        },
        {
         "line": {
          "color": "green"
         },
         "mode": "lines",
         "name": "1-2-romulo (scan 11)",
         "showlegend": false,
         "type": "scatter",
         "x": [
          60.9961,
          60.9961
         ],
         "y": [
          0,
          640000
         ]
        },
        {
         "line": {
          "color": "green"
         },
         "mode": "lines",
         "name": "1-2-romulo (scan 11)",
         "showlegend": false,
         "type": "scatter",
         "x": [
          61.0183,
          61.0183
         ],
         "y": [
          0,
          480000
         ]
        },
        {
         "line": {
          "color": "green"
         },
         "mode": "lines",
         "name": "1-2-romulo (scan 11)",
         "showlegend": false,
         "type": "scatter",
         "x": [
          61.0219,
          61.0219
         ],
         "y": [
          0,
          570000
         ]
        },
        {
         "line": {
          "color": "green"
         },
         "mode": "lines",
         "name": "1-2-romulo (scan 11)",
         "showlegend": false,
         "type": "scatter",
         "x": [
          62.0246,
          62.0246
         ],
         "y": [
          0,
          630000
         ]
        },
        {
         "line": {
          "color": "green"
         },
         "mode": "lines",
         "name": "1-2-romulo (scan 11)",
         "showlegend": false,
         "type": "scatter",
         "x": [
          62.5247,
          62.5247
         ],
         "y": [
          0,
          800000
         ]
        },
        {
         "line": {
          "color": "green"
         },
         "mode": "lines",
         "name": "1-2-romulo (scan 11)",
         "showlegend": false,
         "type": "scatter",
         "x": [
          68.5273,
          68.5273
         ],
         "y": [
          0,
          4600000
         ]
        },
        {
         "line": {
          "color": "green"
         },
         "mode": "lines",
         "name": "1-2-romulo (scan 11)",
         "showlegend": false,
         "type": "scatter",
         "x": [
          69.0275,
          69.0275
         ],
         "y": [
          0,
          1200000
         ]
        },
        {
         "line": {
          "color": "green"
         },
         "mode": "lines",
         "name": "1-2-romulo (scan 11)",
         "showlegend": false,
         "type": "scatter",
         "x": [
          69.5257,
          69.5257
         ],
         "y": [
          0,
          2900000
         ]
        },
        {
         "line": {
          "color": "green"
         },
         "mode": "lines",
         "name": "1-2-romulo (scan 11)",
         "showlegend": false,
         "type": "scatter",
         "x": [
          71.0293,
          71.0293
         ],
         "y": [
          0,
          24000000
         ]
        },
        {
         "line": {
          "color": "green"
         },
         "mode": "lines",
         "name": "1-2-romulo (scan 11)",
         "showlegend": false,
         "type": "scatter",
         "x": [
          71.5304,
          71.5304
         ],
         "y": [
          0,
          13000000
         ]
        },
        {
         "line": {
          "color": "green"
         },
         "mode": "lines",
         "name": "1-2-romulo (scan 11)",
         "showlegend": false,
         "type": "scatter",
         "x": [
          72.0282,
          72.0282
         ],
         "y": [
          0,
          16000000
         ]
        },
        {
         "line": {
          "color": "green"
         },
         "mode": "lines",
         "name": "1-2-romulo (scan 11)",
         "showlegend": false,
         "type": "scatter",
         "x": [
          72.0322,
          72.0322
         ],
         "y": [
          0,
          950000
         ]
        },
        {
         "line": {
          "color": "green"
         },
         "mode": "lines",
         "name": "1-2-romulo (scan 11)",
         "showlegend": false,
         "type": "scatter",
         "x": [
          72.53,
          72.53
         ],
         "y": [
          0,
          680000
         ]
        },
        {
         "line": {
          "color": "green"
         },
         "mode": "lines",
         "name": "1-2-romulo (scan 11)",
         "showlegend": false,
         "type": "scatter",
         "x": [
          79.0061,
          79.0061
         ],
         "y": [
          0,
          590000
         ]
        },
        {
         "line": {
          "color": "green"
         },
         "mode": "lines",
         "name": "1-2-romulo (scan 11)",
         "showlegend": false,
         "type": "scatter",
         "x": [
          80.0344,
          80.0344
         ],
         "y": [
          0,
          11000000
         ]
        },
        {
         "line": {
          "color": "green"
         },
         "mode": "lines",
         "name": "1-2-romulo (scan 11)",
         "showlegend": false,
         "type": "scatter",
         "x": [
          80.0392,
          80.0392
         ],
         "y": [
          0,
          860000
         ]
        },
        {
         "line": {
          "color": "green"
         },
         "mode": "lines",
         "name": "1-2-romulo (scan 11)",
         "showlegend": false,
         "type": "scatter",
         "x": [
          80.5352,
          80.5352
         ],
         "y": [
          0,
          7700000
         ]
        },
        {
         "line": {
          "color": "green"
         },
         "mode": "lines",
         "name": "1-2-romulo (scan 11)",
         "showlegend": false,
         "type": "scatter",
         "x": [
          81.0339,
          81.0339
         ],
         "y": [
          0,
          5900000
         ]
        },
        {
         "line": {
          "color": "green"
         },
         "mode": "lines",
         "name": "1-2-romulo (scan 11)",
         "showlegend": false,
         "type": "scatter",
         "x": [
          82.0098,
          82.0098
         ],
         "y": [
          0,
          620000
         ]
        },
        {
         "line": {
          "color": "green"
         },
         "mode": "lines",
         "name": "1-2-romulo (scan 11)",
         "showlegend": false,
         "type": "scatter",
         "x": [
          82.0138,
          82.0138
         ],
         "y": [
          0,
          3500000
         ]
        },
        {
         "line": {
          "color": "green"
         },
         "mode": "lines",
         "name": "1-2-romulo (scan 11)",
         "showlegend": false,
         "type": "scatter",
         "x": [
          82.4113,
          82.4113
         ],
         "y": [
          0,
          550000
         ]
        },
        {
         "line": {
          "color": "green"
         },
         "mode": "lines",
         "name": "1-2-romulo (scan 11)",
         "showlegend": false,
         "type": "scatter",
         "x": [
          83.0149,
          83.0149
         ],
         "y": [
          0,
          790000
         ]
        },
        {
         "line": {
          "color": "green"
         },
         "mode": "lines",
         "name": "1-2-romulo (scan 11)",
         "showlegend": false,
         "type": "scatter",
         "x": [
          84.0116,
          84.0116
         ],
         "y": [
          0,
          1300000
         ]
        },
        {
         "line": {
          "color": "green"
         },
         "mode": "lines",
         "name": "1-2-romulo (scan 11)",
         "showlegend": false,
         "type": "scatter",
         "x": [
          84.1637,
          84.1637
         ],
         "y": [
          0,
          500000
         ]
        },
        {
         "line": {
          "color": "green"
         },
         "mode": "lines",
         "name": "1-2-romulo (scan 11)",
         "showlegend": false,
         "type": "scatter",
         "x": [
          89.0403,
          89.0403
         ],
         "y": [
          0,
          690000
         ]
        },
        {
         "line": {
          "color": "green"
         },
         "mode": "lines",
         "name": "1-2-romulo (scan 11)",
         "showlegend": false,
         "type": "scatter",
         "x": [
          90.0392,
          90.0392
         ],
         "y": [
          0,
          610000
         ]
        },
        {
         "line": {
          "color": "green"
         },
         "mode": "lines",
         "name": "1-2-romulo (scan 11)",
         "showlegend": false,
         "type": "scatter",
         "x": [
          100.0247,
          100.0247
         ],
         "y": [
          0,
          3000000
         ]
        },
        {
         "line": {
          "color": "green"
         },
         "mode": "lines",
         "name": "1-2-romulo (scan 11)",
         "showlegend": false,
         "type": "scatter",
         "x": [
          101.0256,
          101.0256
         ],
         "y": [
          0,
          1700000
         ]
        },
        {
         "line": {
          "color": "green"
         },
         "mode": "lines",
         "name": "1-2-romulo (scan 11)",
         "showlegend": false,
         "type": "scatter",
         "x": [
          102.0229,
          102.0229
         ],
         "y": [
          0,
          1900000
         ]
        },
        {
         "line": {
          "color": "green"
         },
         "mode": "lines",
         "name": "1-2-romulo (scan 11)",
         "showlegend": false,
         "type": "scatter",
         "x": [
          137.8308,
          137.8308
         ],
         "y": [
          0,
          560000
         ]
        },
        {
         "line": {
          "color": "green"
         },
         "mode": "lines",
         "name": "1-2-romulo (scan 11)",
         "type": "scatter",
         "x": [
          null
         ],
         "y": [
          null
         ]
        },
        {
         "line": {
          "color": "red"
         },
         "mode": "lines",
         "name": "2-1-romulo (scan 7)",
         "showlegend": false,
         "type": "scatter",
         "x": [
          50.5166,
          50.5166
         ],
         "y": [
          0,
          1100000
         ]
        },
        {
         "line": {
          "color": "red"
         },
         "mode": "lines",
         "name": "2-1-romulo (scan 7)",
         "showlegend": false,
         "type": "scatter",
         "x": [
          58.9982,
          58.9982
         ],
         "y": [
          0,
          1500000
         ]
        },
        {
         "line": {
          "color": "red"
         },
         "mode": "lines",
         "name": "2-1-romulo (scan 7)",
         "showlegend": false,
         "type": "scatter",
         "x": [
          59.5218,
          59.5218
         ],
         "y": [
          0,
          7200000
         ]
        },
        {
         "line": {
          "color": "red"
         },
         "mode": "lines",
         "name": "2-1-romulo (scan 7)",
         "showlegend": false,
         "type": "scatter",
         "x": [
          60.0222,
          60.0222
         ],
         "y": [
          0,
          2400000
         ]
        },
        {
         "line": {
          "color": "red"
         },
         "mode": "lines",
         "name": "2-1-romulo (scan 7)",
         "showlegend": false,
         "type": "scatter",
         "x": [
          60.5206,
          60.5206
         ],
         "y": [
          0,
          3000000
         ]
        },
        {
         "line": {
          "color": "red"
         },
         "mode": "lines",
         "name": "2-1-romulo (scan 7)",
         "showlegend": false,
         "type": "scatter",
         "x": [
          68.5268,
          68.5268
         ],
         "y": [
          0,
          3600000
         ]
        },
        {
         "line": {
          "color": "red"
         },
         "mode": "lines",
         "name": "2-1-romulo (scan 7)",
         "showlegend": false,
         "type": "scatter",
         "x": [
          69.0272,
          69.0272
         ],
         "y": [
          0,
          1800000
         ]
        },
        {
         "line": {
          "color": "red"
         },
         "mode": "lines",
         "name": "2-1-romulo (scan 7)",
         "showlegend": false,
         "type": "scatter",
         "x": [
          69.5254,
          69.5254
         ],
         "y": [
          0,
          1900000
         ]
        },
        {
         "line": {
          "color": "red"
         },
         "mode": "lines",
         "name": "2-1-romulo (scan 7)",
         "showlegend": false,
         "type": "scatter",
         "x": [
          70.4163,
          70.4163
         ],
         "y": [
          0,
          720000
         ]
        },
        {
         "line": {
          "color": "red"
         },
         "mode": "lines",
         "name": "2-1-romulo (scan 7)",
         "showlegend": false,
         "type": "scatter",
         "x": [
          71.0295,
          71.0295
         ],
         "y": [
          0,
          19000000
         ]
        },
        {
         "line": {
          "color": "red"
         },
         "mode": "lines",
         "name": "2-1-romulo (scan 7)",
         "showlegend": false,
         "type": "scatter",
         "x": [
          71.53,
          71.53
         ],
         "y": [
          0,
          7500000
         ]
        },
        {
         "line": {
          "color": "red"
         },
         "mode": "lines",
         "name": "2-1-romulo (scan 7)",
         "showlegend": false,
         "type": "scatter",
         "x": [
          72.0284,
          72.0284
         ],
         "y": [
          0,
          8700000
         ]
        },
        {
         "line": {
          "color": "red"
         },
         "mode": "lines",
         "name": "2-1-romulo (scan 7)",
         "showlegend": false,
         "type": "scatter",
         "x": [
          72.0319,
          72.0319
         ],
         "y": [
          0,
          1600000
         ]
        },
        {
         "line": {
          "color": "red"
         },
         "mode": "lines",
         "name": "2-1-romulo (scan 7)",
         "showlegend": false,
         "type": "scatter",
         "x": [
          75.04,
          75.04
         ],
         "y": [
          0,
          630000
         ]
        },
        {
         "line": {
          "color": "red"
         },
         "mode": "lines",
         "name": "2-1-romulo (scan 7)",
         "showlegend": false,
         "type": "scatter",
         "x": [
          80.0347,
          80.0347
         ],
         "y": [
          0,
          8800000
         ]
        },
        {
         "line": {
          "color": "red"
         },
         "mode": "lines",
         "name": "2-1-romulo (scan 7)",
         "showlegend": false,
         "type": "scatter",
         "x": [
          80.5355,
          80.5355
         ],
         "y": [
          0,
          2900000
         ]
        },
        {
         "line": {
          "color": "red"
         },
         "mode": "lines",
         "name": "2-1-romulo (scan 7)",
         "showlegend": false,
         "type": "scatter",
         "x": [
          81.0333,
          81.0333
         ],
         "y": [
          0,
          4200000
         ]
        },
        {
         "line": {
          "color": "red"
         },
         "mode": "lines",
         "name": "2-1-romulo (scan 7)",
         "showlegend": false,
         "type": "scatter",
         "x": [
          82.0142,
          82.0142
         ],
         "y": [
          0,
          1500000
         ]
        },
        {
         "line": {
          "color": "red"
         },
         "mode": "lines",
         "name": "2-1-romulo (scan 7)",
         "showlegend": false,
         "type": "scatter",
         "x": [
          91.6323,
          91.6323
         ],
         "y": [
          0,
          850000
         ]
        },
        {
         "line": {
          "color": "red"
         },
         "mode": "lines",
         "name": "2-1-romulo (scan 7)",
         "showlegend": false,
         "type": "scatter",
         "x": [
          100.0249,
          100.0249
         ],
         "y": [
          0,
          2400000
         ]
        },
        {
         "line": {
          "color": "red"
         },
         "mode": "lines",
         "name": "2-1-romulo (scan 7)",
         "showlegend": false,
         "type": "scatter",
         "x": [
          101.0249,
          101.0249
         ],
         "y": [
          0,
          990000
         ]
        },
        {
         "line": {
          "color": "red"
         },
         "mode": "lines",
         "name": "2-1-romulo (scan 7)",
         "showlegend": false,
         "type": "scatter",
         "x": [
          108.0896,
          108.0896
         ],
         "y": [
          0,
          730000
         ]
        },
        {
         "line": {
          "color": "red"
         },
         "mode": "lines",
         "name": "2-1-romulo (scan 7)",
         "showlegend": false,
         "type": "scatter",
         "x": [
          111.763,
          111.763
         ],
         "y": [
          0,
          750000
         ]
        },
        {
         "line": {
          "color": "red"
         },
         "mode": "lines",
         "name": "2-1-romulo (scan 7)",
         "showlegend": false,
         "type": "scatter",
         "x": [
          118.0353,
          118.0353
         ],
         "y": [
          0,
          770000
         ]
        },
        {
         "line": {
          "color": "red"
         },
         "mode": "lines",
         "name": "2-1-romulo (scan 7)",
         "showlegend": false,
         "type": "scatter",
         "x": [
          119.7556,
          119.7556
         ],
         "y": [
          0,
          930000
         ]
        },
        {
         "line": {
          "color": "red"
         },
         "mode": "lines",
         "name": "2-1-romulo (scan 7)",
         "showlegend": false,
         "type": "scatter",
         "x": [
          171.625,
          171.625
         ],
         "y": [
          0,
          870000
         ]
        },
        {
         "line": {
          "color": "red"
         },
         "mode": "lines",
         "name": "2-1-romulo (scan 7)",
         "type": "scatter",
         "x": [
          null
         ],
         "y": [
          null
         ]
        },
        {
         "line": {
          "color": "cyan"
         },
         "mode": "lines",
         "name": "2-2-romulo (scan 18)",
         "showlegend": false,
         "type": "scatter",
         "x": [
          58.9982,
          58.9982
         ],
         "y": [
          0,
          580000
         ]
        },
        {
         "line": {
          "color": "cyan"
         },
         "mode": "lines",
         "name": "2-2-romulo (scan 18)",
         "showlegend": false,
         "type": "scatter",
         "x": [
          59.5218,
          59.5218
         ],
         "y": [
          0,
          1800000
         ]
        },
        {
         "line": {
          "color": "cyan"
         },
         "mode": "lines",
         "name": "2-2-romulo (scan 18)",
         "showlegend": false,
         "type": "scatter",
         "x": [
          60.0223,
          60.0223
         ],
         "y": [
          0,
          1700000
         ]
        },
        {
         "line": {
          "color": "cyan"
         },
         "mode": "lines",
         "name": "2-2-romulo (scan 18)",
         "showlegend": false,
         "type": "scatter",
         "x": [
          60.5202,
          60.5202
         ],
         "y": [
          0,
          1900000
         ]
        },
        {
         "line": {
          "color": "cyan"
         },
         "mode": "lines",
         "name": "2-2-romulo (scan 18)",
         "showlegend": false,
         "type": "scatter",
         "x": [
          61.3959,
          61.3959
         ],
         "y": [
          0,
          410000
         ]
        },
        {
         "line": {
          "color": "cyan"
         },
         "mode": "lines",
         "name": "2-2-romulo (scan 18)",
         "showlegend": false,
         "type": "scatter",
         "x": [
          63.4241,
          63.4241
         ],
         "y": [
          0,
          350000
         ]
        },
        {
         "line": {
          "color": "cyan"
         },
         "mode": "lines",
         "name": "2-2-romulo (scan 18)",
         "showlegend": false,
         "type": "scatter",
         "x": [
          65.7781,
          65.7781
         ],
         "y": [
          0,
          370000
         ]
        },
        {
         "line": {
          "color": "cyan"
         },
         "mode": "lines",
         "name": "2-2-romulo (scan 18)",
         "showlegend": false,
         "type": "scatter",
         "x": [
          68.5268,
          68.5268
         ],
         "y": [
          0,
          780000
         ]
        },
        {
         "line": {
          "color": "cyan"
         },
         "mode": "lines",
         "name": "2-2-romulo (scan 18)",
         "showlegend": false,
         "type": "scatter",
         "x": [
          69.0272,
          69.0272
         ],
         "y": [
          0,
          550000
         ]
        },
        {
         "line": {
          "color": "cyan"
         },
         "mode": "lines",
         "name": "2-2-romulo (scan 18)",
         "showlegend": false,
         "type": "scatter",
         "x": [
          69.5254,
          69.5254
         ],
         "y": [
          0,
          640000
         ]
        },
        {
         "line": {
          "color": "cyan"
         },
         "mode": "lines",
         "name": "2-2-romulo (scan 18)",
         "showlegend": false,
         "type": "scatter",
         "x": [
          71.0296,
          71.0296
         ],
         "y": [
          0,
          4100000
         ]
        },
        {
         "line": {
          "color": "cyan"
         },
         "mode": "lines",
         "name": "2-2-romulo (scan 18)",
         "showlegend": false,
         "type": "scatter",
         "x": [
          71.5301,
          71.5301
         ],
         "y": [
          0,
          4100000
         ]
        },
        {
         "line": {
          "color": "cyan"
         },
         "mode": "lines",
         "name": "2-2-romulo (scan 18)",
         "showlegend": false,
         "type": "scatter",
         "x": [
          72.0284,
          72.0284
         ],
         "y": [
          0,
          4800000
         ]
        },
        {
         "line": {
          "color": "cyan"
         },
         "mode": "lines",
         "name": "2-2-romulo (scan 18)",
         "showlegend": false,
         "type": "scatter",
         "x": [
          72.0319,
          72.0319
         ],
         "y": [
          0,
          600000
         ]
        },
        {
         "line": {
          "color": "cyan"
         },
         "mode": "lines",
         "name": "2-2-romulo (scan 18)",
         "showlegend": false,
         "type": "scatter",
         "x": [
          80.0347,
          80.0347
         ],
         "y": [
          0,
          2800000
         ]
        },
        {
         "line": {
          "color": "cyan"
         },
         "mode": "lines",
         "name": "2-2-romulo (scan 18)",
         "showlegend": false,
         "type": "scatter",
         "x": [
          80.5355,
          80.5355
         ],
         "y": [
          0,
          1700000
         ]
        },
        {
         "line": {
          "color": "cyan"
         },
         "mode": "lines",
         "name": "2-2-romulo (scan 18)",
         "showlegend": false,
         "type": "scatter",
         "x": [
          81.0334,
          81.0334
         ],
         "y": [
          0,
          2000000
         ]
        },
        {
         "line": {
          "color": "cyan"
         },
         "mode": "lines",
         "name": "2-2-romulo (scan 18)",
         "showlegend": false,
         "type": "scatter",
         "x": [
          81.3986,
          81.3986
         ],
         "y": [
          0,
          440000
         ]
        },
        {
         "line": {
          "color": "cyan"
         },
         "mode": "lines",
         "name": "2-2-romulo (scan 18)",
         "showlegend": false,
         "type": "scatter",
         "x": [
          82.0143,
          82.0143
         ],
         "y": [
          0,
          570000
         ]
        },
        {
         "line": {
          "color": "cyan"
         },
         "mode": "lines",
         "name": "2-2-romulo (scan 18)",
         "showlegend": false,
         "type": "scatter",
         "x": [
          89.4942,
          89.4942
         ],
         "y": [
          0,
          430000
         ]
        },
        {
         "line": {
          "color": "cyan"
         },
         "mode": "lines",
         "name": "2-2-romulo (scan 18)",
         "showlegend": false,
         "type": "scatter",
         "x": [
          100.0241,
          100.0241
         ],
         "y": [
          0,
          800000
         ]
        },
        {
         "line": {
          "color": "cyan"
         },
         "mode": "lines",
         "name": "2-2-romulo (scan 18)",
         "showlegend": false,
         "type": "scatter",
         "x": [
          102.0224,
          102.0224
         ],
         "y": [
          0,
          740000
         ]
        },
        {
         "line": {
          "color": "cyan"
         },
         "mode": "lines",
         "name": "2-2-romulo (scan 18)",
         "showlegend": false,
         "type": "scatter",
         "x": [
          104.2232,
          104.2232
         ],
         "y": [
          0,
          430000
         ]
        },
        {
         "line": {
          "color": "cyan"
         },
         "mode": "lines",
         "name": "2-2-romulo (scan 18)",
         "showlegend": false,
         "type": "scatter",
         "x": [
          120.0321,
          120.0321
         ],
         "y": [
          0,
          600000
         ]
        },
        {
         "line": {
          "color": "cyan"
         },
         "mode": "lines",
         "name": "2-2-romulo (scan 18)",
         "showlegend": false,
         "type": "scatter",
         "x": [
          120.102,
          120.102
         ],
         "y": [
          0,
          380000
         ]
        },
        {
         "line": {
          "color": "cyan"
         },
         "mode": "lines",
         "name": "2-2-romulo (scan 18)",
         "showlegend": false,
         "type": "scatter",
         "x": [
          143.8374,
          143.8374
         ],
         "y": [
          0,
          450000
         ]
        },
        {
         "line": {
          "color": "cyan"
         },
         "mode": "lines",
         "name": "2-2-romulo (scan 18)",
         "type": "scatter",
         "x": [
          null
         ],
         "y": [
          null
         ]
        },
        {
         "line": {
          "color": "magenta"
         },
         "mode": "lines",
         "name": "2-2-romulo (scan 37)",
         "showlegend": false,
         "type": "scatter",
         "x": [
          50.5164,
          50.5164
         ],
         "y": [
          0,
          2100000
         ]
        },
        {
         "line": {
          "color": "magenta"
         },
         "mode": "lines",
         "name": "2-2-romulo (scan 37)",
         "showlegend": false,
         "type": "scatter",
         "x": [
          51.0165,
          51.0165
         ],
         "y": [
          0,
          1300000
         ]
        },
        {
         "line": {
          "color": "magenta"
         },
         "mode": "lines",
         "name": "2-2-romulo (scan 37)",
         "showlegend": false,
         "type": "scatter",
         "x": [
          51.2705,
          51.2705
         ],
         "y": [
          0,
          970000
         ]
        },
        {
         "line": {
          "color": "magenta"
         },
         "mode": "lines",
         "name": "2-2-romulo (scan 37)",
         "showlegend": false,
         "type": "scatter",
         "x": [
          51.3674,
          51.3674
         ],
         "y": [
          0,
          950000
         ]
        },
        {
         "line": {
          "color": "magenta"
         },
         "mode": "lines",
         "name": "2-2-romulo (scan 37)",
         "showlegend": false,
         "type": "scatter",
         "x": [
          51.5154,
          51.5154
         ],
         "y": [
          0,
          1300000
         ]
        },
        {
         "line": {
          "color": "magenta"
         },
         "mode": "lines",
         "name": "2-2-romulo (scan 37)",
         "showlegend": false,
         "type": "scatter",
         "x": [
          58.9983,
          58.9983
         ],
         "y": [
          0,
          4400000
         ]
        },
        {
         "line": {
          "color": "magenta"
         },
         "mode": "lines",
         "name": "2-2-romulo (scan 37)",
         "showlegend": false,
         "type": "scatter",
         "x": [
          59.5218,
          59.5218
         ],
         "y": [
          0,
          18000000
         ]
        },
        {
         "line": {
          "color": "magenta"
         },
         "mode": "lines",
         "name": "2-2-romulo (scan 37)",
         "showlegend": false,
         "type": "scatter",
         "x": [
          59.999,
          59.999
         ],
         "y": [
          0,
          2000000
         ]
        },
        {
         "line": {
          "color": "magenta"
         },
         "mode": "lines",
         "name": "2-2-romulo (scan 37)",
         "showlegend": false,
         "type": "scatter",
         "x": [
          60.0218,
          60.0218
         ],
         "y": [
          0,
          9500000
         ]
        },
        {
         "line": {
          "color": "magenta"
         },
         "mode": "lines",
         "name": "2-2-romulo (scan 37)",
         "showlegend": false,
         "type": "scatter",
         "x": [
          60.1757,
          60.1757
         ],
         "y": [
          0,
          970000
         ]
        },
        {
         "line": {
          "color": "magenta"
         },
         "mode": "lines",
         "name": "2-2-romulo (scan 37)",
         "showlegend": false,
         "type": "scatter",
         "x": [
          60.5203,
          60.5203
         ],
         "y": [
          0,
          13000000
         ]
        },
        {
         "line": {
          "color": "magenta"
         },
         "mode": "lines",
         "name": "2-2-romulo (scan 37)",
         "showlegend": false,
         "type": "scatter",
         "x": [
          60.996,
          60.996
         ],
         "y": [
          0,
          1300000
         ]
        },
        {
         "line": {
          "color": "magenta"
         },
         "mode": "lines",
         "name": "2-2-romulo (scan 37)",
         "showlegend": false,
         "type": "scatter",
         "x": [
          65.0267,
          65.0267
         ],
         "y": [
          0,
          950000
         ]
        },
        {
         "line": {
          "color": "magenta"
         },
         "mode": "lines",
         "name": "2-2-romulo (scan 37)",
         "showlegend": false,
         "type": "scatter",
         "x": [
          68.4495,
          68.4495
         ],
         "y": [
          0,
          1100000
         ]
        },
        {
         "line": {
          "color": "magenta"
         },
         "mode": "lines",
         "name": "2-2-romulo (scan 37)",
         "showlegend": false,
         "type": "scatter",
         "x": [
          68.527,
          68.527
         ],
         "y": [
          0,
          7800000
         ]
        },
        {
         "line": {
          "color": "magenta"
         },
         "mode": "lines",
         "name": "2-2-romulo (scan 37)",
         "showlegend": false,
         "type": "scatter",
         "x": [
          69.0273,
          69.0273
         ],
         "y": [
          0,
          5100000
         ]
        },
        {
         "line": {
          "color": "magenta"
         },
         "mode": "lines",
         "name": "2-2-romulo (scan 37)",
         "showlegend": false,
         "type": "scatter",
         "x": [
          69.5255,
          69.5255
         ],
         "y": [
          0,
          5100000
         ]
        },
        {
         "line": {
          "color": "magenta"
         },
         "mode": "lines",
         "name": "2-2-romulo (scan 37)",
         "showlegend": false,
         "type": "scatter",
         "x": [
          71.0297,
          71.0297
         ],
         "y": [
          0,
          45000000
         ]
        },
        {
         "line": {
          "color": "magenta"
         },
         "mode": "lines",
         "name": "2-2-romulo (scan 37)",
         "showlegend": false,
         "type": "scatter",
         "x": [
          71.5302,
          71.5302
         ],
         "y": [
          0,
          20000000
         ]
        },
        {
         "line": {
          "color": "magenta"
         },
         "mode": "lines",
         "name": "2-2-romulo (scan 37)",
         "showlegend": false,
         "type": "scatter",
         "x": [
          72.0285,
          72.0285
         ],
         "y": [
          0,
          30000000
         ]
        },
        {
         "line": {
          "color": "magenta"
         },
         "mode": "lines",
         "name": "2-2-romulo (scan 37)",
         "showlegend": false,
         "type": "scatter",
         "x": [
          72.0314,
          72.0314
         ],
         "y": [
          0,
          1600000
         ]
        },
        {
         "line": {
          "color": "magenta"
         },
         "mode": "lines",
         "name": "2-2-romulo (scan 37)",
         "showlegend": false,
         "type": "scatter",
         "x": [
          72.5298,
          72.5298
         ],
         "y": [
          0,
          1600000
         ]
        },
        {
         "line": {
          "color": "magenta"
         },
         "mode": "lines",
         "name": "2-2-romulo (scan 37)",
         "showlegend": false,
         "type": "scatter",
         "x": [
          80.0348,
          80.0348
         ],
         "y": [
          0,
          31000000
         ]
        },
        {
         "line": {
          "color": "magenta"
         },
         "mode": "lines",
         "name": "2-2-romulo (scan 37)",
         "showlegend": false,
         "type": "scatter",
         "x": [
          80.5356,
          80.5356
         ],
         "y": [
          0,
          14000000
         ]
        },
        {
         "line": {
          "color": "magenta"
         },
         "mode": "lines",
         "name": "2-2-romulo (scan 37)",
         "showlegend": false,
         "type": "scatter",
         "x": [
          81.0335,
          81.0335
         ],
         "y": [
          0,
          14000000
         ]
        },
        {
         "line": {
          "color": "magenta"
         },
         "mode": "lines",
         "name": "2-2-romulo (scan 37)",
         "showlegend": false,
         "type": "scatter",
         "x": [
          81.5347,
          81.5347
         ],
         "y": [
          0,
          1800000
         ]
        },
        {
         "line": {
          "color": "magenta"
         },
         "mode": "lines",
         "name": "2-2-romulo (scan 37)",
         "showlegend": false,
         "type": "scatter",
         "x": [
          82.0144,
          82.0144
         ],
         "y": [
          0,
          3300000
         ]
        },
        {
         "line": {
          "color": "magenta"
         },
         "mode": "lines",
         "name": "2-2-romulo (scan 37)",
         "showlegend": false,
         "type": "scatter",
         "x": [
          83.0146,
          83.0146
         ],
         "y": [
          0,
          1300000
         ]
        },
        {
         "line": {
          "color": "magenta"
         },
         "mode": "lines",
         "name": "2-2-romulo (scan 37)",
         "showlegend": false,
         "type": "scatter",
         "x": [
          84.0121,
          84.0121
         ],
         "y": [
          0,
          2200000
         ]
        },
        {
         "line": {
          "color": "magenta"
         },
         "mode": "lines",
         "name": "2-2-romulo (scan 37)",
         "showlegend": false,
         "type": "scatter",
         "x": [
          100.0244,
          100.0244
         ],
         "y": [
          0,
          7400000
         ]
        },
        {
         "line": {
          "color": "magenta"
         },
         "mode": "lines",
         "name": "2-2-romulo (scan 37)",
         "showlegend": false,
         "type": "scatter",
         "x": [
          101.0251,
          101.0251
         ],
         "y": [
          0,
          1500000
         ]
        },
        {
         "line": {
          "color": "magenta"
         },
         "mode": "lines",
         "name": "2-2-romulo (scan 37)",
         "showlegend": false,
         "type": "scatter",
         "x": [
          102.0225,
          102.0225
         ],
         "y": [
          0,
          1900000
         ]
        },
        {
         "line": {
          "color": "magenta"
         },
         "mode": "lines",
         "name": "2-2-romulo (scan 37)",
         "showlegend": false,
         "type": "scatter",
         "x": [
          120.7413,
          120.7413
         ],
         "y": [
          0,
          1200000
         ]
        },
        {
         "line": {
          "color": "magenta"
         },
         "mode": "lines",
         "name": "2-2-romulo (scan 37)",
         "showlegend": false,
         "type": "scatter",
         "x": [
          171.8538,
          171.8538
         ],
         "y": [
          0,
          1300000
         ]
        },
        {
         "line": {
          "color": "magenta"
         },
         "mode": "lines",
         "name": "2-2-romulo (scan 37)",
         "showlegend": false,
         "type": "scatter",
         "x": [
          173.5089,
          173.5089
         ],
         "y": [
          0,
          1200000
         ]
        },
        {
         "line": {
          "color": "magenta"
         },
         "mode": "lines",
         "name": "2-2-romulo (scan 37)",
         "type": "scatter",
         "x": [
          null
         ],
         "y": [
          null
         ]
        }
       ],
       "layout": {
        "autosize": true,
        "legend": {
         "title": {
          "text": "Spectra"
         }
        },
        "template": {
         "data": {
          "bar": [
           {
            "error_x": {
             "color": "#2a3f5f"
            },
            "error_y": {
             "color": "#2a3f5f"
            },
            "marker": {
             "line": {
              "color": "#E5ECF6",
              "width": 0.5
             },
             "pattern": {
              "fillmode": "overlay",
              "size": 10,
              "solidity": 0.2
             }
            },
            "type": "bar"
           }
          ],
          "barpolar": [
           {
            "marker": {
             "line": {
              "color": "#E5ECF6",
              "width": 0.5
             },
             "pattern": {
              "fillmode": "overlay",
              "size": 10,
              "solidity": 0.2
             }
            },
            "type": "barpolar"
           }
          ],
          "carpet": [
           {
            "aaxis": {
             "endlinecolor": "#2a3f5f",
             "gridcolor": "white",
             "linecolor": "white",
             "minorgridcolor": "white",
             "startlinecolor": "#2a3f5f"
            },
            "baxis": {
             "endlinecolor": "#2a3f5f",
             "gridcolor": "white",
             "linecolor": "white",
             "minorgridcolor": "white",
             "startlinecolor": "#2a3f5f"
            },
            "type": "carpet"
           }
          ],
          "choropleth": [
           {
            "colorbar": {
             "outlinewidth": 0,
             "ticks": ""
            },
            "type": "choropleth"
           }
          ],
          "contour": [
           {
            "colorbar": {
             "outlinewidth": 0,
             "ticks": ""
            },
            "colorscale": [
             [
              0,
              "#0d0887"
             ],
             [
              0.1111111111111111,
              "#46039f"
             ],
             [
              0.2222222222222222,
              "#7201a8"
             ],
             [
              0.3333333333333333,
              "#9c179e"
             ],
             [
              0.4444444444444444,
              "#bd3786"
             ],
             [
              0.5555555555555556,
              "#d8576b"
             ],
             [
              0.6666666666666666,
              "#ed7953"
             ],
             [
              0.7777777777777778,
              "#fb9f3a"
             ],
             [
              0.8888888888888888,
              "#fdca26"
             ],
             [
              1,
              "#f0f921"
             ]
            ],
            "type": "contour"
           }
          ],
          "contourcarpet": [
           {
            "colorbar": {
             "outlinewidth": 0,
             "ticks": ""
            },
            "type": "contourcarpet"
           }
          ],
          "heatmap": [
           {
            "colorbar": {
             "outlinewidth": 0,
             "ticks": ""
            },
            "colorscale": [
             [
              0,
              "#0d0887"
             ],
             [
              0.1111111111111111,
              "#46039f"
             ],
             [
              0.2222222222222222,
              "#7201a8"
             ],
             [
              0.3333333333333333,
              "#9c179e"
             ],
             [
              0.4444444444444444,
              "#bd3786"
             ],
             [
              0.5555555555555556,
              "#d8576b"
             ],
             [
              0.6666666666666666,
              "#ed7953"
             ],
             [
              0.7777777777777778,
              "#fb9f3a"
             ],
             [
              0.8888888888888888,
              "#fdca26"
             ],
             [
              1,
              "#f0f921"
             ]
            ],
            "type": "heatmap"
           }
          ],
          "histogram": [
           {
            "marker": {
             "pattern": {
              "fillmode": "overlay",
              "size": 10,
              "solidity": 0.2
             }
            },
            "type": "histogram"
           }
          ],
          "histogram2d": [
           {
            "colorbar": {
             "outlinewidth": 0,
             "ticks": ""
            },
            "colorscale": [
             [
              0,
              "#0d0887"
             ],
             [
              0.1111111111111111,
              "#46039f"
             ],
             [
              0.2222222222222222,
              "#7201a8"
             ],
             [
              0.3333333333333333,
              "#9c179e"
             ],
             [
              0.4444444444444444,
              "#bd3786"
             ],
             [
              0.5555555555555556,
              "#d8576b"
             ],
             [
              0.6666666666666666,
              "#ed7953"
             ],
             [
              0.7777777777777778,
              "#fb9f3a"
             ],
             [
              0.8888888888888888,
              "#fdca26"
             ],
             [
              1,
              "#f0f921"
             ]
            ],
            "type": "histogram2d"
           }
          ],
          "histogram2dcontour": [
           {
            "colorbar": {
             "outlinewidth": 0,
             "ticks": ""
            },
            "colorscale": [
             [
              0,
              "#0d0887"
             ],
             [
              0.1111111111111111,
              "#46039f"
             ],
             [
              0.2222222222222222,
              "#7201a8"
             ],
             [
              0.3333333333333333,
              "#9c179e"
             ],
             [
              0.4444444444444444,
              "#bd3786"
             ],
             [
              0.5555555555555556,
              "#d8576b"
             ],
             [
              0.6666666666666666,
              "#ed7953"
             ],
             [
              0.7777777777777778,
              "#fb9f3a"
             ],
             [
              0.8888888888888888,
              "#fdca26"
             ],
             [
              1,
              "#f0f921"
             ]
            ],
            "type": "histogram2dcontour"
           }
          ],
          "mesh3d": [
           {
            "colorbar": {
             "outlinewidth": 0,
             "ticks": ""
            },
            "type": "mesh3d"
           }
          ],
          "parcoords": [
           {
            "line": {
             "colorbar": {
              "outlinewidth": 0,
              "ticks": ""
             }
            },
            "type": "parcoords"
           }
          ],
          "pie": [
           {
            "automargin": true,
            "type": "pie"
           }
          ],
          "scatter": [
           {
            "fillpattern": {
             "fillmode": "overlay",
             "size": 10,
             "solidity": 0.2
            },
            "type": "scatter"
           }
          ],
          "scatter3d": [
           {
            "line": {
             "colorbar": {
              "outlinewidth": 0,
              "ticks": ""
             }
            },
            "marker": {
             "colorbar": {
              "outlinewidth": 0,
              "ticks": ""
             }
            },
            "type": "scatter3d"
           }
          ],
          "scattercarpet": [
           {
            "marker": {
             "colorbar": {
              "outlinewidth": 0,
              "ticks": ""
             }
            },
            "type": "scattercarpet"
           }
          ],
          "scattergeo": [
           {
            "marker": {
             "colorbar": {
              "outlinewidth": 0,
              "ticks": ""
             }
            },
            "type": "scattergeo"
           }
          ],
          "scattergl": [
           {
            "marker": {
             "colorbar": {
              "outlinewidth": 0,
              "ticks": ""
             }
            },
            "type": "scattergl"
           }
          ],
          "scattermap": [
           {
            "marker": {
             "colorbar": {
              "outlinewidth": 0,
              "ticks": ""
             }
            },
            "type": "scattermap"
           }
          ],
          "scattermapbox": [
           {
            "marker": {
             "colorbar": {
              "outlinewidth": 0,
              "ticks": ""
             }
            },
            "type": "scattermapbox"
           }
          ],
          "scatterpolar": [
           {
            "marker": {
             "colorbar": {
              "outlinewidth": 0,
              "ticks": ""
             }
            },
            "type": "scatterpolar"
           }
          ],
          "scatterpolargl": [
           {
            "marker": {
             "colorbar": {
              "outlinewidth": 0,
              "ticks": ""
             }
            },
            "type": "scatterpolargl"
           }
          ],
          "scatterternary": [
           {
            "marker": {
             "colorbar": {
              "outlinewidth": 0,
              "ticks": ""
             }
            },
            "type": "scatterternary"
           }
          ],
          "surface": [
           {
            "colorbar": {
             "outlinewidth": 0,
             "ticks": ""
            },
            "colorscale": [
             [
              0,
              "#0d0887"
             ],
             [
              0.1111111111111111,
              "#46039f"
             ],
             [
              0.2222222222222222,
              "#7201a8"
             ],
             [
              0.3333333333333333,
              "#9c179e"
             ],
             [
              0.4444444444444444,
              "#bd3786"
             ],
             [
              0.5555555555555556,
              "#d8576b"
             ],
             [
              0.6666666666666666,
              "#ed7953"
             ],
             [
              0.7777777777777778,
              "#fb9f3a"
             ],
             [
              0.8888888888888888,
              "#fdca26"
             ],
             [
              1,
              "#f0f921"
             ]
            ],
            "type": "surface"
           }
          ],
          "table": [
           {
            "cells": {
             "fill": {
              "color": "#EBF0F8"
             },
             "line": {
              "color": "white"
             }
            },
            "header": {
             "fill": {
              "color": "#C8D4E3"
             },
             "line": {
              "color": "white"
             }
            },
            "type": "table"
           }
          ]
         },
         "layout": {
          "annotationdefaults": {
           "arrowcolor": "#2a3f5f",
           "arrowhead": 0,
           "arrowwidth": 1
          },
          "autotypenumbers": "strict",
          "coloraxis": {
           "colorbar": {
            "outlinewidth": 0,
            "ticks": ""
           }
          },
          "colorscale": {
           "diverging": [
            [
             0,
             "#8e0152"
            ],
            [
             0.1,
             "#c51b7d"
            ],
            [
             0.2,
             "#de77ae"
            ],
            [
             0.3,
             "#f1b6da"
            ],
            [
             0.4,
             "#fde0ef"
            ],
            [
             0.5,
             "#f7f7f7"
            ],
            [
             0.6,
             "#e6f5d0"
            ],
            [
             0.7,
             "#b8e186"
            ],
            [
             0.8,
             "#7fbc41"
            ],
            [
             0.9,
             "#4d9221"
            ],
            [
             1,
             "#276419"
            ]
           ],
           "sequential": [
            [
             0,
             "#0d0887"
            ],
            [
             0.1111111111111111,
             "#46039f"
            ],
            [
             0.2222222222222222,
             "#7201a8"
            ],
            [
             0.3333333333333333,
             "#9c179e"
            ],
            [
             0.4444444444444444,
             "#bd3786"
            ],
            [
             0.5555555555555556,
             "#d8576b"
            ],
            [
             0.6666666666666666,
             "#ed7953"
            ],
            [
             0.7777777777777778,
             "#fb9f3a"
            ],
            [
             0.8888888888888888,
             "#fdca26"
            ],
            [
             1,
             "#f0f921"
            ]
           ],
           "sequentialminus": [
            [
             0,
             "#0d0887"
            ],
            [
             0.1111111111111111,
             "#46039f"
            ],
            [
             0.2222222222222222,
             "#7201a8"
            ],
            [
             0.3333333333333333,
             "#9c179e"
            ],
            [
             0.4444444444444444,
             "#bd3786"
            ],
            [
             0.5555555555555556,
             "#d8576b"
            ],
            [
             0.6666666666666666,
             "#ed7953"
            ],
            [
             0.7777777777777778,
             "#fb9f3a"
            ],
            [
             0.8888888888888888,
             "#fdca26"
            ],
            [
             1,
             "#f0f921"
            ]
           ]
          },
          "colorway": [
           "#636efa",
           "#EF553B",
           "#00cc96",
           "#ab63fa",
           "#FFA15A",
           "#19d3f3",
           "#FF6692",
           "#B6E880",
           "#FF97FF",
           "#FECB52"
          ],
          "font": {
           "color": "#2a3f5f"
          },
          "geo": {
           "bgcolor": "white",
           "lakecolor": "white",
           "landcolor": "#E5ECF6",
           "showlakes": true,
           "showland": true,
           "subunitcolor": "white"
          },
          "hoverlabel": {
           "align": "left"
          },
          "hovermode": "closest",
          "mapbox": {
           "style": "light"
          },
          "paper_bgcolor": "white",
          "plot_bgcolor": "#E5ECF6",
          "polar": {
           "angularaxis": {
            "gridcolor": "white",
            "linecolor": "white",
            "ticks": ""
           },
           "bgcolor": "#E5ECF6",
           "radialaxis": {
            "gridcolor": "white",
            "linecolor": "white",
            "ticks": ""
           }
          },
          "scene": {
           "xaxis": {
            "backgroundcolor": "#E5ECF6",
            "gridcolor": "white",
            "gridwidth": 2,
            "linecolor": "white",
            "showbackground": true,
            "ticks": "",
            "zerolinecolor": "white"
           },
           "yaxis": {
            "backgroundcolor": "#E5ECF6",
            "gridcolor": "white",
            "gridwidth": 2,
            "linecolor": "white",
            "showbackground": true,
            "ticks": "",
            "zerolinecolor": "white"
           },
           "zaxis": {
            "backgroundcolor": "#E5ECF6",
            "gridcolor": "white",
            "gridwidth": 2,
            "linecolor": "white",
            "showbackground": true,
            "ticks": "",
            "zerolinecolor": "white"
           }
          },
          "shapedefaults": {
           "line": {
            "color": "#2a3f5f"
           }
          },
          "ternary": {
           "aaxis": {
            "gridcolor": "white",
            "linecolor": "white",
            "ticks": ""
           },
           "baxis": {
            "gridcolor": "white",
            "linecolor": "white",
            "ticks": ""
           },
           "bgcolor": "#E5ECF6",
           "caxis": {
            "gridcolor": "white",
            "linecolor": "white",
            "ticks": ""
           }
          },
          "title": {
           "x": 0.05
          },
          "xaxis": {
           "automargin": true,
           "gridcolor": "white",
           "linecolor": "white",
           "ticks": "",
           "title": {
            "standoff": 15
           },
           "zerolinecolor": "white",
           "zerolinewidth": 2
          },
          "yaxis": {
           "automargin": true,
           "gridcolor": "white",
           "linecolor": "white",
           "ticks": "",
           "title": {
            "standoff": 15
           },
           "zerolinecolor": "white",
           "zerolinewidth": 2
          }
         }
        },
        "title": {
         "text": "MS Spectra for Aligned Feature: 2_PHerb1_1-1-romulo"
        },
        "xaxis": {
         "autorange": true,
         "range": [
          50.5164,
          173.5089
         ],
         "title": {
          "text": "m/z"
         },
         "type": "linear"
        },
        "yaxis": {
         "autorange": true,
         "range": [
          -2500000,
          47500000
         ],
         "title": {
          "text": "Intensity"
         },
         "type": "linear"
        }
       }
      },
      "image/png": "[encoded data removed]"
     },
     "metadata": {},
     "output_type": "display_data"
    }
   ],
   "source": [
    "# Plot MS spectra for a specific feature\n",
    "feature_batch = '2_PHerb1_1-1-romulo'\n",
    "plot_ms_spectra(MSfiltered_aligned_features_df, feature_batch, spectra, project_prefix)"
   ]
  },
  {
   "cell_type": "code",
   "execution_count": 16,
   "id": "515b8ef4-cfb4-4392-b006-c385a1c988d9",
   "metadata": {},
   "outputs": [
    {
     "data": {
      "application/vnd.plotly.v1+json": {
       "config": {
        "plotlyServerURL": "https://plot.ly"
       },
       "data": [
        {
         "line": {
          "color": "blue"
         },
         "mode": "lines",
         "name": "1-1-romulo (scan 1029)",
         "showlegend": false,
         "type": "scatter",
         "x": [
          58.946,
          58.946
         ],
         "y": [
          0,
          7300
         ]
        },
        {
         "line": {
          "color": "blue"
         },
         "mode": "lines",
         "name": "1-1-romulo (scan 1029)",
         "showlegend": false,
         "type": "scatter",
         "x": [
          61.0246,
          61.0246
         ],
         "y": [
          0,
          7700
         ]
        },
        {
         "line": {
          "color": "blue"
         },
         "mode": "lines",
         "name": "1-1-romulo (scan 1029)",
         "showlegend": false,
         "type": "scatter",
         "x": [
          65.9349,
          65.9349
         ],
         "y": [
          0,
          7800
         ]
        },
        {
         "line": {
          "color": "blue"
         },
         "mode": "lines",
         "name": "1-1-romulo (scan 1029)",
         "showlegend": false,
         "type": "scatter",
         "x": [
          81.0705,
          81.0705
         ],
         "y": [
          0,
          24000
         ]
        },
        {
         "line": {
          "color": "blue"
         },
         "mode": "lines",
         "name": "1-1-romulo (scan 1029)",
         "showlegend": false,
         "type": "scatter",
         "x": [
          93.0706,
          93.0706
         ],
         "y": [
          0,
          19000
         ]
        },
        {
         "line": {
          "color": "blue"
         },
         "mode": "lines",
         "name": "1-1-romulo (scan 1029)",
         "showlegend": false,
         "type": "scatter",
         "x": [
          95.0861,
          95.0861
         ],
         "y": [
          0,
          28000
         ]
        },
        {
         "line": {
          "color": "blue"
         },
         "mode": "lines",
         "name": "1-1-romulo (scan 1029)",
         "showlegend": false,
         "type": "scatter",
         "x": [
          95.8087,
          95.8087
         ],
         "y": [
          0,
          8300
         ]
        },
        {
         "line": {
          "color": "blue"
         },
         "mode": "lines",
         "name": "1-1-romulo (scan 1029)",
         "showlegend": false,
         "type": "scatter",
         "x": [
          101.0699,
          101.0699
         ],
         "y": [
          0,
          8500
         ]
        },
        {
         "line": {
          "color": "blue"
         },
         "mode": "lines",
         "name": "1-1-romulo (scan 1029)",
         "showlegend": false,
         "type": "scatter",
         "x": [
          107.0859,
          107.0859
         ],
         "y": [
          0,
          41000
         ]
        },
        {
         "line": {
          "color": "blue"
         },
         "mode": "lines",
         "name": "1-1-romulo (scan 1029)",
         "showlegend": false,
         "type": "scatter",
         "x": [
          109.1015,
          109.1015
         ],
         "y": [
          0,
          38000
         ]
        },
        {
         "line": {
          "color": "blue"
         },
         "mode": "lines",
         "name": "1-1-romulo (scan 1029)",
         "showlegend": false,
         "type": "scatter",
         "x": [
          119.0856,
          119.0856
         ],
         "y": [
          0,
          13000
         ]
        },
        {
         "line": {
          "color": "blue"
         },
         "mode": "lines",
         "name": "1-1-romulo (scan 1029)",
         "showlegend": false,
         "type": "scatter",
         "x": [
          120.3365,
          120.3365
         ],
         "y": [
          0,
          8900
         ]
        },
        {
         "line": {
          "color": "blue"
         },
         "mode": "lines",
         "name": "1-1-romulo (scan 1029)",
         "showlegend": false,
         "type": "scatter",
         "x": [
          121.1014,
          121.1014
         ],
         "y": [
          0,
          14000
         ]
        },
        {
         "line": {
          "color": "blue"
         },
         "mode": "lines",
         "name": "1-1-romulo (scan 1029)",
         "showlegend": false,
         "type": "scatter",
         "x": [
          123.1169,
          123.1169
         ],
         "y": [
          0,
          38000
         ]
        },
        {
         "line": {
          "color": "blue"
         },
         "mode": "lines",
         "name": "1-1-romulo (scan 1029)",
         "showlegend": false,
         "type": "scatter",
         "x": [
          133.1016,
          133.1016
         ],
         "y": [
          0,
          13000
         ]
        },
        {
         "line": {
          "color": "blue"
         },
         "mode": "lines",
         "name": "1-1-romulo (scan 1029)",
         "showlegend": false,
         "type": "scatter",
         "x": [
          135.0808,
          135.0808
         ],
         "y": [
          0,
          9100
         ]
        },
        {
         "line": {
          "color": "blue"
         },
         "mode": "lines",
         "name": "1-1-romulo (scan 1029)",
         "showlegend": false,
         "type": "scatter",
         "x": [
          135.1166,
          135.1166
         ],
         "y": [
          0,
          14000
         ]
        },
        {
         "line": {
          "color": "blue"
         },
         "mode": "lines",
         "name": "1-1-romulo (scan 1029)",
         "showlegend": false,
         "type": "scatter",
         "x": [
          145.1016,
          145.1016
         ],
         "y": [
          0,
          20000
         ]
        },
        {
         "line": {
          "color": "blue"
         },
         "mode": "lines",
         "name": "1-1-romulo (scan 1029)",
         "showlegend": false,
         "type": "scatter",
         "x": [
          147.1183,
          147.1183
         ],
         "y": [
          0,
          36000
         ]
        },
        {
         "line": {
          "color": "blue"
         },
         "mode": "lines",
         "name": "1-1-romulo (scan 1029)",
         "showlegend": false,
         "type": "scatter",
         "x": [
          149.0965,
          149.0965
         ],
         "y": [
          0,
          50000
         ]
        },
        {
         "line": {
          "color": "blue"
         },
         "mode": "lines",
         "name": "1-1-romulo (scan 1029)",
         "showlegend": false,
         "type": "scatter",
         "x": [
          153.0908,
          153.0908
         ],
         "y": [
          0,
          21000
         ]
        },
        {
         "line": {
          "color": "blue"
         },
         "mode": "lines",
         "name": "1-1-romulo (scan 1029)",
         "showlegend": false,
         "type": "scatter",
         "x": [
          159.1181,
          159.1181
         ],
         "y": [
          0,
          24000
         ]
        },
        {
         "line": {
          "color": "blue"
         },
         "mode": "lines",
         "name": "1-1-romulo (scan 1029)",
         "showlegend": false,
         "type": "scatter",
         "x": [
          159.9648,
          159.9648
         ],
         "y": [
          0,
          9400
         ]
        },
        {
         "line": {
          "color": "blue"
         },
         "mode": "lines",
         "name": "1-1-romulo (scan 1029)",
         "showlegend": false,
         "type": "scatter",
         "x": [
          161.0971,
          161.0971
         ],
         "y": [
          0,
          15000
         ]
        },
        {
         "line": {
          "color": "blue"
         },
         "mode": "lines",
         "name": "1-1-romulo (scan 1029)",
         "showlegend": false,
         "type": "scatter",
         "x": [
          161.1317,
          161.1317
         ],
         "y": [
          0,
          62000
         ]
        },
        {
         "line": {
          "color": "blue"
         },
         "mode": "lines",
         "name": "1-1-romulo (scan 1029)",
         "showlegend": false,
         "type": "scatter",
         "x": [
          163.1132,
          163.1132
         ],
         "y": [
          0,
          72000
         ]
        },
        {
         "line": {
          "color": "blue"
         },
         "mode": "lines",
         "name": "1-1-romulo (scan 1029)",
         "showlegend": false,
         "type": "scatter",
         "x": [
          167.1073,
          167.1073
         ],
         "y": [
          0,
          17000
         ]
        },
        {
         "line": {
          "color": "blue"
         },
         "mode": "lines",
         "name": "1-1-romulo (scan 1029)",
         "showlegend": false,
         "type": "scatter",
         "x": [
          171.118,
          171.118
         ],
         "y": [
          0,
          15000
         ]
        },
        {
         "line": {
          "color": "blue"
         },
         "mode": "lines",
         "name": "1-1-romulo (scan 1029)",
         "showlegend": false,
         "type": "scatter",
         "x": [
          173.1336,
          173.1336
         ],
         "y": [
          0,
          18000
         ]
        },
        {
         "line": {
          "color": "blue"
         },
         "mode": "lines",
         "name": "1-1-romulo (scan 1029)",
         "showlegend": false,
         "type": "scatter",
         "x": [
          175.1122,
          175.1122
         ],
         "y": [
          0,
          21000
         ]
        },
        {
         "line": {
          "color": "blue"
         },
         "mode": "lines",
         "name": "1-1-romulo (scan 1029)",
         "showlegend": false,
         "type": "scatter",
         "x": [
          183.1174,
          183.1174
         ],
         "y": [
          0,
          13000
         ]
        },
        {
         "line": {
          "color": "blue"
         },
         "mode": "lines",
         "name": "1-1-romulo (scan 1029)",
         "showlegend": false,
         "type": "scatter",
         "x": [
          185.1339,
          185.1339
         ],
         "y": [
          0,
          18000
         ]
        },
        {
         "line": {
          "color": "blue"
         },
         "mode": "lines",
         "name": "1-1-romulo (scan 1029)",
         "showlegend": false,
         "type": "scatter",
         "x": [
          187.1135,
          187.1135
         ],
         "y": [
          0,
          8400
         ]
        },
        {
         "line": {
          "color": "blue"
         },
         "mode": "lines",
         "name": "1-1-romulo (scan 1029)",
         "showlegend": false,
         "type": "scatter",
         "x": [
          189.1275,
          189.1275
         ],
         "y": [
          0,
          180000
         ]
        },
        {
         "line": {
          "color": "blue"
         },
         "mode": "lines",
         "name": "1-1-romulo (scan 1029)",
         "showlegend": false,
         "type": "scatter",
         "x": [
          197.1331,
          197.1331
         ],
         "y": [
          0,
          53000
         ]
        },
        {
         "line": {
          "color": "blue"
         },
         "mode": "lines",
         "name": "1-1-romulo (scan 1029)",
         "showlegend": false,
         "type": "scatter",
         "x": [
          201.1288,
          201.1288
         ],
         "y": [
          0,
          21000
         ]
        },
        {
         "line": {
          "color": "blue"
         },
         "mode": "lines",
         "name": "1-1-romulo (scan 1029)",
         "showlegend": false,
         "type": "scatter",
         "x": [
          211.149,
          211.149
         ],
         "y": [
          0,
          25000
         ]
        },
        {
         "line": {
          "color": "blue"
         },
         "mode": "lines",
         "name": "1-1-romulo (scan 1029)",
         "showlegend": false,
         "type": "scatter",
         "x": [
          213.1655,
          213.1655
         ],
         "y": [
          0,
          21000
         ]
        },
        {
         "line": {
          "color": "blue"
         },
         "mode": "lines",
         "name": "1-1-romulo (scan 1029)",
         "showlegend": false,
         "type": "scatter",
         "x": [
          215.1449,
          215.1449
         ],
         "y": [
          0,
          98000
         ]
        },
        {
         "line": {
          "color": "blue"
         },
         "mode": "lines",
         "name": "1-1-romulo (scan 1029)",
         "showlegend": false,
         "type": "scatter",
         "x": [
          225.1642,
          225.1642
         ],
         "y": [
          0,
          24000
         ]
        },
        {
         "line": {
          "color": "blue"
         },
         "mode": "lines",
         "name": "1-1-romulo (scan 1029)",
         "showlegend": false,
         "type": "scatter",
         "x": [
          227.1805,
          227.1805
         ],
         "y": [
          0,
          13000
         ]
        },
        {
         "line": {
          "color": "blue"
         },
         "mode": "lines",
         "name": "1-1-romulo (scan 1029)",
         "showlegend": false,
         "type": "scatter",
         "x": [
          229.1615,
          229.1615
         ],
         "y": [
          0,
          27000
         ]
        },
        {
         "line": {
          "color": "blue"
         },
         "mode": "lines",
         "name": "1-1-romulo (scan 1029)",
         "showlegend": false,
         "type": "scatter",
         "x": [
          229.1977,
          229.1977
         ],
         "y": [
          0,
          26000
         ]
        },
        {
         "line": {
          "color": "blue"
         },
         "mode": "lines",
         "name": "1-1-romulo (scan 1029)",
         "showlegend": false,
         "type": "scatter",
         "x": [
          243.2098,
          243.2098
         ],
         "y": [
          0,
          54000
         ]
        },
        {
         "line": {
          "color": "blue"
         },
         "mode": "lines",
         "name": "1-1-romulo (scan 1029)",
         "showlegend": false,
         "type": "scatter",
         "x": [
          247.1349,
          247.1349
         ],
         "y": [
          0,
          12000
         ]
        },
        {
         "line": {
          "color": "blue"
         },
         "mode": "lines",
         "name": "1-1-romulo (scan 1029)",
         "showlegend": false,
         "type": "scatter",
         "x": [
          247.7181,
          247.7181
         ],
         "y": [
          0,
          9300
         ]
        },
        {
         "line": {
          "color": "blue"
         },
         "mode": "lines",
         "name": "1-1-romulo (scan 1029)",
         "showlegend": false,
         "type": "scatter",
         "x": [
          253.1948,
          253.1948
         ],
         "y": [
          0,
          250000
         ]
        },
        {
         "line": {
          "color": "blue"
         },
         "mode": "lines",
         "name": "1-1-romulo (scan 1029)",
         "showlegend": false,
         "type": "scatter",
         "x": [
          253.2218,
          253.2218
         ],
         "y": [
          0,
          16000
         ]
        },
        {
         "line": {
          "color": "blue"
         },
         "mode": "lines",
         "name": "1-1-romulo (scan 1029)",
         "showlegend": false,
         "type": "scatter",
         "x": [
          254.1992,
          254.1992
         ],
         "y": [
          0,
          28000
         ]
        },
        {
         "line": {
          "color": "blue"
         },
         "mode": "lines",
         "name": "1-1-romulo (scan 1029)",
         "showlegend": false,
         "type": "scatter",
         "x": [
          257.1538,
          257.1538
         ],
         "y": [
          0,
          14000
         ]
        },
        {
         "line": {
          "color": "blue"
         },
         "mode": "lines",
         "name": "1-1-romulo (scan 1029)",
         "showlegend": false,
         "type": "scatter",
         "x": [
          271.2055,
          271.2055
         ],
         "y": [
          0,
          440000
         ]
        },
        {
         "line": {
          "color": "blue"
         },
         "mode": "lines",
         "name": "1-1-romulo (scan 1029)",
         "showlegend": false,
         "type": "scatter",
         "x": [
          272.2084,
          272.2084
         ],
         "y": [
          0,
          18000
         ]
        },
        {
         "line": {
          "color": "blue"
         },
         "mode": "lines",
         "name": "1-1-romulo (scan 1029)",
         "showlegend": false,
         "type": "scatter",
         "x": [
          275.1628,
          275.1628
         ],
         "y": [
          0,
          13000
         ]
        },
        {
         "line": {
          "color": "blue"
         },
         "mode": "lines",
         "name": "1-1-romulo (scan 1029)",
         "showlegend": false,
         "type": "scatter",
         "x": [
          313.2153,
          313.2153
         ],
         "y": [
          0,
          37000
         ]
        },
        {
         "line": {
          "color": "blue"
         },
         "mode": "lines",
         "name": "1-1-romulo (scan 1029)",
         "showlegend": false,
         "type": "scatter",
         "x": [
          314.5285,
          314.5285
         ],
         "y": [
          0,
          9400
         ]
        },
        {
         "line": {
          "color": "blue"
         },
         "mode": "lines",
         "name": "1-1-romulo (scan 1029)",
         "showlegend": false,
         "type": "scatter",
         "x": [
          316.0951,
          316.0951
         ],
         "y": [
          0,
          9000
         ]
        },
        {
         "line": {
          "color": "blue"
         },
         "mode": "lines",
         "name": "1-1-romulo (scan 1029)",
         "showlegend": false,
         "type": "scatter",
         "x": [
          331.2275,
          331.2275
         ],
         "y": [
          0,
          340000
         ]
        },
        {
         "line": {
          "color": "blue"
         },
         "mode": "lines",
         "name": "1-1-romulo (scan 1029)",
         "showlegend": false,
         "type": "scatter",
         "x": [
          332.2304,
          332.2304
         ],
         "y": [
          0,
          17000
         ]
        },
        {
         "line": {
          "color": "blue"
         },
         "mode": "lines",
         "name": "1-1-romulo (scan 1029)",
         "type": "scatter",
         "x": [
          null
         ],
         "y": [
          null
         ]
        },
        {
         "line": {
          "color": "green"
         },
         "mode": "lines",
         "name": "1-1-romulo (scan 1040)",
         "showlegend": false,
         "type": "scatter",
         "x": [
          51.1937,
          51.1937
         ],
         "y": [
          0,
          11000
         ]
        },
        {
         "line": {
          "color": "green"
         },
         "mode": "lines",
         "name": "1-1-romulo (scan 1040)",
         "showlegend": false,
         "type": "scatter",
         "x": [
          53.5095,
          53.5095
         ],
         "y": [
          0,
          13000
         ]
        },
        {
         "line": {
          "color": "green"
         },
         "mode": "lines",
         "name": "1-1-romulo (scan 1040)",
         "showlegend": false,
         "type": "scatter",
         "x": [
          61.3815,
          61.3815
         ],
         "y": [
          0,
          13000
         ]
        },
        {
         "line": {
          "color": "green"
         },
         "mode": "lines",
         "name": "1-1-romulo (scan 1040)",
         "showlegend": false,
         "type": "scatter",
         "x": [
          62.5829,
          62.5829
         ],
         "y": [
          0,
          13000
         ]
        },
        {
         "line": {
          "color": "green"
         },
         "mode": "lines",
         "name": "1-1-romulo (scan 1040)",
         "showlegend": false,
         "type": "scatter",
         "x": [
          66.6976,
          66.6976
         ],
         "y": [
          0,
          14000
         ]
        },
        {
         "line": {
          "color": "green"
         },
         "mode": "lines",
         "name": "1-1-romulo (scan 1040)",
         "showlegend": false,
         "type": "scatter",
         "x": [
          70.5525,
          70.5525
         ],
         "y": [
          0,
          13000
         ]
        },
        {
         "line": {
          "color": "green"
         },
         "mode": "lines",
         "name": "1-1-romulo (scan 1040)",
         "showlegend": false,
         "type": "scatter",
         "x": [
          93.0323,
          93.0323
         ],
         "y": [
          0,
          20000
         ]
        },
        {
         "line": {
          "color": "green"
         },
         "mode": "lines",
         "name": "1-1-romulo (scan 1040)",
         "showlegend": false,
         "type": "scatter",
         "x": [
          96.0046,
          96.0046
         ],
         "y": [
          0,
          14000
         ]
        },
        {
         "line": {
          "color": "green"
         },
         "mode": "lines",
         "name": "1-1-romulo (scan 1040)",
         "showlegend": false,
         "type": "scatter",
         "x": [
          98.9321,
          98.9321
         ],
         "y": [
          0,
          15000
         ]
        },
        {
         "line": {
          "color": "green"
         },
         "mode": "lines",
         "name": "1-1-romulo (scan 1040)",
         "showlegend": false,
         "type": "scatter",
         "x": [
          109.1014,
          109.1014
         ],
         "y": [
          0,
          350000
         ]
        },
        {
         "line": {
          "color": "green"
         },
         "mode": "lines",
         "name": "1-1-romulo (scan 1040)",
         "showlegend": false,
         "type": "scatter",
         "x": [
          110.4927,
          110.4927
         ],
         "y": [
          0,
          15000
         ]
        },
        {
         "line": {
          "color": "green"
         },
         "mode": "lines",
         "name": "1-1-romulo (scan 1040)",
         "showlegend": false,
         "type": "scatter",
         "x": [
          149.0965,
          149.0965
         ],
         "y": [
          0,
          120000
         ]
        },
        {
         "line": {
          "color": "green"
         },
         "mode": "lines",
         "name": "1-1-romulo (scan 1040)",
         "showlegend": false,
         "type": "scatter",
         "x": [
          173.1336,
          173.1336
         ],
         "y": [
          0,
          17000
         ]
        },
        {
         "line": {
          "color": "green"
         },
         "mode": "lines",
         "name": "1-1-romulo (scan 1040)",
         "showlegend": false,
         "type": "scatter",
         "x": [
          187.1136,
          187.1136
         ],
         "y": [
          0,
          87000
         ]
        },
        {
         "line": {
          "color": "green"
         },
         "mode": "lines",
         "name": "1-1-romulo (scan 1040)",
         "showlegend": false,
         "type": "scatter",
         "x": [
          188.1157,
          188.1157
         ],
         "y": [
          0,
          140000
         ]
        },
        {
         "line": {
          "color": "green"
         },
         "mode": "lines",
         "name": "1-1-romulo (scan 1040)",
         "showlegend": false,
         "type": "scatter",
         "x": [
          189.1172,
          189.1172
         ],
         "y": [
          0,
          87000
         ]
        },
        {
         "line": {
          "color": "green"
         },
         "mode": "lines",
         "name": "1-1-romulo (scan 1040)",
         "showlegend": false,
         "type": "scatter",
         "x": [
          191.1417,
          191.1417
         ],
         "y": [
          0,
          20000
         ]
        },
        {
         "line": {
          "color": "green"
         },
         "mode": "lines",
         "name": "1-1-romulo (scan 1040)",
         "showlegend": false,
         "type": "scatter",
         "x": [
          215.1419,
          215.1419
         ],
         "y": [
          0,
          25000
         ]
        },
        {
         "line": {
          "color": "green"
         },
         "mode": "lines",
         "name": "1-1-romulo (scan 1040)",
         "showlegend": false,
         "type": "scatter",
         "x": [
          229.1582,
          229.1582
         ],
         "y": [
          0,
          23000
         ]
        },
        {
         "line": {
          "color": "green"
         },
         "mode": "lines",
         "name": "1-1-romulo (scan 1040)",
         "showlegend": false,
         "type": "scatter",
         "x": [
          243.2101,
          243.2101
         ],
         "y": [
          0,
          54000
         ]
        },
        {
         "line": {
          "color": "green"
         },
         "mode": "lines",
         "name": "1-1-romulo (scan 1040)",
         "showlegend": false,
         "type": "scatter",
         "x": [
          253.1951,
          253.1951
         ],
         "y": [
          0,
          27000
         ]
        },
        {
         "line": {
          "color": "green"
         },
         "mode": "lines",
         "name": "1-1-romulo (scan 1040)",
         "showlegend": false,
         "type": "scatter",
         "x": [
          255.2132,
          255.2132
         ],
         "y": [
          0,
          39000
         ]
        },
        {
         "line": {
          "color": "green"
         },
         "mode": "lines",
         "name": "1-1-romulo (scan 1040)",
         "showlegend": false,
         "type": "scatter",
         "x": [
          271.206,
          271.206
         ],
         "y": [
          0,
          1900000
         ]
        },
        {
         "line": {
          "color": "green"
         },
         "mode": "lines",
         "name": "1-1-romulo (scan 1040)",
         "showlegend": false,
         "type": "scatter",
         "x": [
          272.2084,
          272.2084
         ],
         "y": [
          0,
          51000
         ]
        },
        {
         "line": {
          "color": "green"
         },
         "mode": "lines",
         "name": "1-1-romulo (scan 1040)",
         "showlegend": false,
         "type": "scatter",
         "x": [
          299.2033,
          299.2033
         ],
         "y": [
          0,
          140000
         ]
        },
        {
         "line": {
          "color": "green"
         },
         "mode": "lines",
         "name": "1-1-romulo (scan 1040)",
         "showlegend": false,
         "type": "scatter",
         "x": [
          331.2327,
          331.2327
         ],
         "y": [
          0,
          130000
         ]
        },
        {
         "line": {
          "color": "green"
         },
         "mode": "lines",
         "name": "1-1-romulo (scan 1040)",
         "type": "scatter",
         "x": [
          null
         ],
         "y": [
          null
         ]
        },
        {
         "line": {
          "color": "red"
         },
         "mode": "lines",
         "name": "1-2-romulo (scan 618)",
         "showlegend": false,
         "type": "scatter",
         "x": [
          56.6135,
          56.6135
         ],
         "y": [
          0,
          21000
         ]
        },
        {
         "line": {
          "color": "red"
         },
         "mode": "lines",
         "name": "1-2-romulo (scan 618)",
         "showlegend": false,
         "type": "scatter",
         "x": [
          69.3123,
          69.3123
         ],
         "y": [
          0,
          21000
         ]
        },
        {
         "line": {
          "color": "red"
         },
         "mode": "lines",
         "name": "1-2-romulo (scan 618)",
         "showlegend": false,
         "type": "scatter",
         "x": [
          81.0705,
          81.0705
         ],
         "y": [
          0,
          54000
         ]
        },
        {
         "line": {
          "color": "red"
         },
         "mode": "lines",
         "name": "1-2-romulo (scan 618)",
         "showlegend": false,
         "type": "scatter",
         "x": [
          87.4553,
          87.4553
         ],
         "y": [
          0,
          25000
         ]
        },
        {
         "line": {
          "color": "red"
         },
         "mode": "lines",
         "name": "1-2-romulo (scan 618)",
         "showlegend": false,
         "type": "scatter",
         "x": [
          93.0697,
          93.0697
         ],
         "y": [
          0,
          72000
         ]
        },
        {
         "line": {
          "color": "red"
         },
         "mode": "lines",
         "name": "1-2-romulo (scan 618)",
         "showlegend": false,
         "type": "scatter",
         "x": [
          95.0861,
          95.0861
         ],
         "y": [
          0,
          25000
         ]
        },
        {
         "line": {
          "color": "red"
         },
         "mode": "lines",
         "name": "1-2-romulo (scan 618)",
         "showlegend": false,
         "type": "scatter",
         "x": [
          97.941,
          97.941
         ],
         "y": [
          0,
          24000
         ]
        },
        {
         "line": {
          "color": "red"
         },
         "mode": "lines",
         "name": "1-2-romulo (scan 618)",
         "showlegend": false,
         "type": "scatter",
         "x": [
          107.086,
          107.086
         ],
         "y": [
          0,
          47000
         ]
        },
        {
         "line": {
          "color": "red"
         },
         "mode": "lines",
         "name": "1-2-romulo (scan 618)",
         "showlegend": false,
         "type": "scatter",
         "x": [
          109.1015,
          109.1015
         ],
         "y": [
          0,
          35000
         ]
        },
        {
         "line": {
          "color": "red"
         },
         "mode": "lines",
         "name": "1-2-romulo (scan 618)",
         "showlegend": false,
         "type": "scatter",
         "x": [
          119.0856,
          119.0856
         ],
         "y": [
          0,
          30000
         ]
        },
        {
         "line": {
          "color": "red"
         },
         "mode": "lines",
         "name": "1-2-romulo (scan 618)",
         "showlegend": false,
         "type": "scatter",
         "x": [
          121.066,
          121.066
         ],
         "y": [
          0,
          39000
         ]
        },
        {
         "line": {
          "color": "red"
         },
         "mode": "lines",
         "name": "1-2-romulo (scan 618)",
         "showlegend": false,
         "type": "scatter",
         "x": [
          123.117,
          123.117
         ],
         "y": [
          0,
          59000
         ]
        },
        {
         "line": {
          "color": "red"
         },
         "mode": "lines",
         "name": "1-2-romulo (scan 618)",
         "showlegend": false,
         "type": "scatter",
         "x": [
          133.1016,
          133.1016
         ],
         "y": [
          0,
          32000
         ]
        },
        {
         "line": {
          "color": "red"
         },
         "mode": "lines",
         "name": "1-2-romulo (scan 618)",
         "showlegend": false,
         "type": "scatter",
         "x": [
          135.1166,
          135.1166
         ],
         "y": [
          0,
          27000
         ]
        },
        {
         "line": {
          "color": "red"
         },
         "mode": "lines",
         "name": "1-2-romulo (scan 618)",
         "showlegend": false,
         "type": "scatter",
         "x": [
          137.7112,
          137.7112
         ],
         "y": [
          0,
          26000
         ]
        },
        {
         "line": {
          "color": "red"
         },
         "mode": "lines",
         "name": "1-2-romulo (scan 618)",
         "showlegend": false,
         "type": "scatter",
         "x": [
          142.2194,
          142.2194
         ],
         "y": [
          0,
          25000
         ]
        },
        {
         "line": {
          "color": "red"
         },
         "mode": "lines",
         "name": "1-2-romulo (scan 618)",
         "showlegend": false,
         "type": "scatter",
         "x": [
          145.1017,
          145.1017
         ],
         "y": [
          0,
          33000
         ]
        },
        {
         "line": {
          "color": "red"
         },
         "mode": "lines",
         "name": "1-2-romulo (scan 618)",
         "showlegend": false,
         "type": "scatter",
         "x": [
          146.7518,
          146.7518
         ],
         "y": [
          0,
          26000
         ]
        },
        {
         "line": {
          "color": "red"
         },
         "mode": "lines",
         "name": "1-2-romulo (scan 618)",
         "showlegend": false,
         "type": "scatter",
         "x": [
          147.1184,
          147.1184
         ],
         "y": [
          0,
          61000
         ]
        },
        {
         "line": {
          "color": "red"
         },
         "mode": "lines",
         "name": "1-2-romulo (scan 618)",
         "showlegend": false,
         "type": "scatter",
         "x": [
          149.0962,
          149.0962
         ],
         "y": [
          0,
          71000
         ]
        },
        {
         "line": {
          "color": "red"
         },
         "mode": "lines",
         "name": "1-2-romulo (scan 618)",
         "showlegend": false,
         "type": "scatter",
         "x": [
          159.1181,
          159.1181
         ],
         "y": [
          0,
          35000
         ]
        },
        {
         "line": {
          "color": "red"
         },
         "mode": "lines",
         "name": "1-2-romulo (scan 618)",
         "showlegend": false,
         "type": "scatter",
         "x": [
          161.1321,
          161.1321
         ],
         "y": [
          0,
          110000
         ]
        },
        {
         "line": {
          "color": "red"
         },
         "mode": "lines",
         "name": "1-2-romulo (scan 618)",
         "showlegend": false,
         "type": "scatter",
         "x": [
          163.0995,
          163.0995
         ],
         "y": [
          0,
          27000
         ]
        },
        {
         "line": {
          "color": "red"
         },
         "mode": "lines",
         "name": "1-2-romulo (scan 618)",
         "showlegend": false,
         "type": "scatter",
         "x": [
          163.1113,
          163.1113
         ],
         "y": [
          0,
          140000
         ]
        },
        {
         "line": {
          "color": "red"
         },
         "mode": "lines",
         "name": "1-2-romulo (scan 618)",
         "showlegend": false,
         "type": "scatter",
         "x": [
          171.1181,
          171.1181
         ],
         "y": [
          0,
          38000
         ]
        },
        {
         "line": {
          "color": "red"
         },
         "mode": "lines",
         "name": "1-2-romulo (scan 618)",
         "showlegend": false,
         "type": "scatter",
         "x": [
          173.1336,
          173.1336
         ],
         "y": [
          0,
          28000
         ]
        },
        {
         "line": {
          "color": "red"
         },
         "mode": "lines",
         "name": "1-2-romulo (scan 618)",
         "showlegend": false,
         "type": "scatter",
         "x": [
          175.1123,
          175.1123
         ],
         "y": [
          0,
          38000
         ]
        },
        {
         "line": {
          "color": "red"
         },
         "mode": "lines",
         "name": "1-2-romulo (scan 618)",
         "showlegend": false,
         "type": "scatter",
         "x": [
          175.7691,
          175.7691
         ],
         "y": [
          0,
          26000
         ]
        },
        {
         "line": {
          "color": "red"
         },
         "mode": "lines",
         "name": "1-2-romulo (scan 618)",
         "showlegend": false,
         "type": "scatter",
         "x": [
          189.1275,
          189.1275
         ],
         "y": [
          0,
          270000
         ]
        },
        {
         "line": {
          "color": "red"
         },
         "mode": "lines",
         "name": "1-2-romulo (scan 618)",
         "showlegend": false,
         "type": "scatter",
         "x": [
          192.1635,
          192.1635
         ],
         "y": [
          0,
          35000
         ]
        },
        {
         "line": {
          "color": "red"
         },
         "mode": "lines",
         "name": "1-2-romulo (scan 618)",
         "showlegend": false,
         "type": "scatter",
         "x": [
          197.134,
          197.134
         ],
         "y": [
          0,
          63000
         ]
        },
        {
         "line": {
          "color": "red"
         },
         "mode": "lines",
         "name": "1-2-romulo (scan 618)",
         "showlegend": false,
         "type": "scatter",
         "x": [
          211.1491,
          211.1491
         ],
         "y": [
          0,
          50000
         ]
        },
        {
         "line": {
          "color": "red"
         },
         "mode": "lines",
         "name": "1-2-romulo (scan 618)",
         "showlegend": false,
         "type": "scatter",
         "x": [
          215.1448,
          215.1448
         ],
         "y": [
          0,
          240000
         ]
        },
        {
         "line": {
          "color": "red"
         },
         "mode": "lines",
         "name": "1-2-romulo (scan 618)",
         "showlegend": false,
         "type": "scatter",
         "x": [
          220.4924,
          220.4924
         ],
         "y": [
          0,
          27000
         ]
        },
        {
         "line": {
          "color": "red"
         },
         "mode": "lines",
         "name": "1-2-romulo (scan 618)",
         "showlegend": false,
         "type": "scatter",
         "x": [
          229.1582,
          229.1582
         ],
         "y": [
          0,
          50000
         ]
        },
        {
         "line": {
          "color": "red"
         },
         "mode": "lines",
         "name": "1-2-romulo (scan 618)",
         "showlegend": false,
         "type": "scatter",
         "x": [
          243.2101,
          243.2101
         ],
         "y": [
          0,
          81000
         ]
        },
        {
         "line": {
          "color": "red"
         },
         "mode": "lines",
         "name": "1-2-romulo (scan 618)",
         "showlegend": false,
         "type": "scatter",
         "x": [
          253.1949,
          253.1949
         ],
         "y": [
          0,
          360000
         ]
        },
        {
         "line": {
          "color": "red"
         },
         "mode": "lines",
         "name": "1-2-romulo (scan 618)",
         "showlegend": false,
         "type": "scatter",
         "x": [
          256.1827,
          256.1827
         ],
         "y": [
          0,
          52000
         ]
        },
        {
         "line": {
          "color": "red"
         },
         "mode": "lines",
         "name": "1-2-romulo (scan 618)",
         "showlegend": false,
         "type": "scatter",
         "x": [
          271.2056,
          271.2056
         ],
         "y": [
          0,
          690000
         ]
        },
        {
         "line": {
          "color": "red"
         },
         "mode": "lines",
         "name": "1-2-romulo (scan 618)",
         "showlegend": false,
         "type": "scatter",
         "x": [
          277.7306,
          277.7306
         ],
         "y": [
          0,
          30000
         ]
        },
        {
         "line": {
          "color": "red"
         },
         "mode": "lines",
         "name": "1-2-romulo (scan 618)",
         "showlegend": false,
         "type": "scatter",
         "x": [
          331.2277,
          331.2277
         ],
         "y": [
          0,
          650000
         ]
        },
        {
         "line": {
          "color": "red"
         },
         "mode": "lines",
         "name": "1-2-romulo (scan 618)",
         "showlegend": false,
         "type": "scatter",
         "x": [
          332.2304,
          332.2304
         ],
         "y": [
          0,
          46000
         ]
        },
        {
         "line": {
          "color": "red"
         },
         "mode": "lines",
         "name": "1-2-romulo (scan 618)",
         "type": "scatter",
         "x": [
          null
         ],
         "y": [
          null
         ]
        }
       ],
       "layout": {
        "autosize": true,
        "legend": {
         "title": {
          "text": "Spectra"
         }
        },
        "template": {
         "data": {
          "bar": [
           {
            "error_x": {
             "color": "#2a3f5f"
            },
            "error_y": {
             "color": "#2a3f5f"
            },
            "marker": {
             "line": {
              "color": "#E5ECF6",
              "width": 0.5
             },
             "pattern": {
              "fillmode": "overlay",
              "size": 10,
              "solidity": 0.2
             }
            },
            "type": "bar"
           }
          ],
          "barpolar": [
           {
            "marker": {
             "line": {
              "color": "#E5ECF6",
              "width": 0.5
             },
             "pattern": {
              "fillmode": "overlay",
              "size": 10,
              "solidity": 0.2
             }
            },
            "type": "barpolar"
           }
          ],
          "carpet": [
           {
            "aaxis": {
             "endlinecolor": "#2a3f5f",
             "gridcolor": "white",
             "linecolor": "white",
             "minorgridcolor": "white",
             "startlinecolor": "#2a3f5f"
            },
            "baxis": {
             "endlinecolor": "#2a3f5f",
             "gridcolor": "white",
             "linecolor": "white",
             "minorgridcolor": "white",
             "startlinecolor": "#2a3f5f"
            },
            "type": "carpet"
           }
          ],
          "choropleth": [
           {
            "colorbar": {
             "outlinewidth": 0,
             "ticks": ""
            },
            "type": "choropleth"
           }
          ],
          "contour": [
           {
            "colorbar": {
             "outlinewidth": 0,
             "ticks": ""
            },
            "colorscale": [
             [
              0,
              "#0d0887"
             ],
             [
              0.1111111111111111,
              "#46039f"
             ],
             [
              0.2222222222222222,
              "#7201a8"
             ],
             [
              0.3333333333333333,
              "#9c179e"
             ],
             [
              0.4444444444444444,
              "#bd3786"
             ],
             [
              0.5555555555555556,
              "#d8576b"
             ],
             [
              0.6666666666666666,
              "#ed7953"
             ],
             [
              0.7777777777777778,
              "#fb9f3a"
             ],
             [
              0.8888888888888888,
              "#fdca26"
             ],
             [
              1,
              "#f0f921"
             ]
            ],
            "type": "contour"
           }
          ],
          "contourcarpet": [
           {
            "colorbar": {
             "outlinewidth": 0,
             "ticks": ""
            },
            "type": "contourcarpet"
           }
          ],
          "heatmap": [
           {
            "colorbar": {
             "outlinewidth": 0,
             "ticks": ""
            },
            "colorscale": [
             [
              0,
              "#0d0887"
             ],
             [
              0.1111111111111111,
              "#46039f"
             ],
             [
              0.2222222222222222,
              "#7201a8"
             ],
             [
              0.3333333333333333,
              "#9c179e"
             ],
             [
              0.4444444444444444,
              "#bd3786"
             ],
             [
              0.5555555555555556,
              "#d8576b"
             ],
             [
              0.6666666666666666,
              "#ed7953"
             ],
             [
              0.7777777777777778,
              "#fb9f3a"
             ],
             [
              0.8888888888888888,
              "#fdca26"
             ],
             [
              1,
              "#f0f921"
             ]
            ],
            "type": "heatmap"
           }
          ],
          "histogram": [
           {
            "marker": {
             "pattern": {
              "fillmode": "overlay",
              "size": 10,
              "solidity": 0.2
             }
            },
            "type": "histogram"
           }
          ],
          "histogram2d": [
           {
            "colorbar": {
             "outlinewidth": 0,
             "ticks": ""
            },
            "colorscale": [
             [
              0,
              "#0d0887"
             ],
             [
              0.1111111111111111,
              "#46039f"
             ],
             [
              0.2222222222222222,
              "#7201a8"
             ],
             [
              0.3333333333333333,
              "#9c179e"
             ],
             [
              0.4444444444444444,
              "#bd3786"
             ],
             [
              0.5555555555555556,
              "#d8576b"
             ],
             [
              0.6666666666666666,
              "#ed7953"
             ],
             [
              0.7777777777777778,
              "#fb9f3a"
             ],
             [
              0.8888888888888888,
              "#fdca26"
             ],
             [
              1,
              "#f0f921"
             ]
            ],
            "type": "histogram2d"
           }
          ],
          "histogram2dcontour": [
           {
            "colorbar": {
             "outlinewidth": 0,
             "ticks": ""
            },
            "colorscale": [
             [
              0,
              "#0d0887"
             ],
             [
              0.1111111111111111,
              "#46039f"
             ],
             [
              0.2222222222222222,
              "#7201a8"
             ],
             [
              0.3333333333333333,
              "#9c179e"
             ],
             [
              0.4444444444444444,
              "#bd3786"
             ],
             [
              0.5555555555555556,
              "#d8576b"
             ],
             [
              0.6666666666666666,
              "#ed7953"
             ],
             [
              0.7777777777777778,
              "#fb9f3a"
             ],
             [
              0.8888888888888888,
              "#fdca26"
             ],
             [
              1,
              "#f0f921"
             ]
            ],
            "type": "histogram2dcontour"
           }
          ],
          "mesh3d": [
           {
            "colorbar": {
             "outlinewidth": 0,
             "ticks": ""
            },
            "type": "mesh3d"
           }
          ],
          "parcoords": [
           {
            "line": {
             "colorbar": {
              "outlinewidth": 0,
              "ticks": ""
             }
            },
            "type": "parcoords"
           }
          ],
          "pie": [
           {
            "automargin": true,
            "type": "pie"
           }
          ],
          "scatter": [
           {
            "fillpattern": {
             "fillmode": "overlay",
             "size": 10,
             "solidity": 0.2
            },
            "type": "scatter"
           }
          ],
          "scatter3d": [
           {
            "line": {
             "colorbar": {
              "outlinewidth": 0,
              "ticks": ""
             }
            },
            "marker": {
             "colorbar": {
              "outlinewidth": 0,
              "ticks": ""
             }
            },
            "type": "scatter3d"
           }
          ],
          "scattercarpet": [
           {
            "marker": {
             "colorbar": {
              "outlinewidth": 0,
              "ticks": ""
             }
            },
            "type": "scattercarpet"
           }
          ],
          "scattergeo": [
           {
            "marker": {
             "colorbar": {
              "outlinewidth": 0,
              "ticks": ""
             }
            },
            "type": "scattergeo"
           }
          ],
          "scattergl": [
           {
            "marker": {
             "colorbar": {
              "outlinewidth": 0,
              "ticks": ""
             }
            },
            "type": "scattergl"
           }
          ],
          "scattermap": [
           {
            "marker": {
             "colorbar": {
              "outlinewidth": 0,
              "ticks": ""
             }
            },
            "type": "scattermap"
           }
          ],
          "scattermapbox": [
           {
            "marker": {
             "colorbar": {
              "outlinewidth": 0,
              "ticks": ""
             }
            },
            "type": "scattermapbox"
           }
          ],
          "scatterpolar": [
           {
            "marker": {
             "colorbar": {
              "outlinewidth": 0,
              "ticks": ""
             }
            },
            "type": "scatterpolar"
           }
          ],
          "scatterpolargl": [
           {
            "marker": {
             "colorbar": {
              "outlinewidth": 0,
              "ticks": ""
             }
            },
            "type": "scatterpolargl"
           }
          ],
          "scatterternary": [
           {
            "marker": {
             "colorbar": {
              "outlinewidth": 0,
              "ticks": ""
             }
            },
            "type": "scatterternary"
           }
          ],
          "surface": [
           {
            "colorbar": {
             "outlinewidth": 0,
             "ticks": ""
            },
            "colorscale": [
             [
              0,
              "#0d0887"
             ],
             [
              0.1111111111111111,
              "#46039f"
             ],
             [
              0.2222222222222222,
              "#7201a8"
             ],
             [
              0.3333333333333333,
              "#9c179e"
             ],
             [
              0.4444444444444444,
              "#bd3786"
             ],
             [
              0.5555555555555556,
              "#d8576b"
             ],
             [
              0.6666666666666666,
              "#ed7953"
             ],
             [
              0.7777777777777778,
              "#fb9f3a"
             ],
             [
              0.8888888888888888,
              "#fdca26"
             ],
             [
              1,
              "#f0f921"
             ]
            ],
            "type": "surface"
           }
          ],
          "table": [
           {
            "cells": {
             "fill": {
              "color": "#EBF0F8"
             },
             "line": {
              "color": "white"
             }
            },
            "header": {
             "fill": {
              "color": "#C8D4E3"
             },
             "line": {
              "color": "white"
             }
            },
            "type": "table"
           }
          ]
         },
         "layout": {
          "annotationdefaults": {
           "arrowcolor": "#2a3f5f",
           "arrowhead": 0,
           "arrowwidth": 1
          },
          "autotypenumbers": "strict",
          "coloraxis": {
           "colorbar": {
            "outlinewidth": 0,
            "ticks": ""
           }
          },
          "colorscale": {
           "diverging": [
            [
             0,
             "#8e0152"
            ],
            [
             0.1,
             "#c51b7d"
            ],
            [
             0.2,
             "#de77ae"
            ],
            [
             0.3,
             "#f1b6da"
            ],
            [
             0.4,
             "#fde0ef"
            ],
            [
             0.5,
             "#f7f7f7"
            ],
            [
             0.6,
             "#e6f5d0"
            ],
            [
             0.7,
             "#b8e186"
            ],
            [
             0.8,
             "#7fbc41"
            ],
            [
             0.9,
             "#4d9221"
            ],
            [
             1,
             "#276419"
            ]
           ],
           "sequential": [
            [
             0,
             "#0d0887"
            ],
            [
             0.1111111111111111,
             "#46039f"
            ],
            [
             0.2222222222222222,
             "#7201a8"
            ],
            [
             0.3333333333333333,
             "#9c179e"
            ],
            [
             0.4444444444444444,
             "#bd3786"
            ],
            [
             0.5555555555555556,
             "#d8576b"
            ],
            [
             0.6666666666666666,
             "#ed7953"
            ],
            [
             0.7777777777777778,
             "#fb9f3a"
            ],
            [
             0.8888888888888888,
             "#fdca26"
            ],
            [
             1,
             "#f0f921"
            ]
           ],
           "sequentialminus": [
            [
             0,
             "#0d0887"
            ],
            [
             0.1111111111111111,
             "#46039f"
            ],
            [
             0.2222222222222222,
             "#7201a8"
            ],
            [
             0.3333333333333333,
             "#9c179e"
            ],
            [
             0.4444444444444444,
             "#bd3786"
            ],
            [
             0.5555555555555556,
             "#d8576b"
            ],
            [
             0.6666666666666666,
             "#ed7953"
            ],
            [
             0.7777777777777778,
             "#fb9f3a"
            ],
            [
             0.8888888888888888,
             "#fdca26"
            ],
            [
             1,
             "#f0f921"
            ]
           ]
          },
          "colorway": [
           "#636efa",
           "#EF553B",
           "#00cc96",
           "#ab63fa",
           "#FFA15A",
           "#19d3f3",
           "#FF6692",
           "#B6E880",
           "#FF97FF",
           "#FECB52"
          ],
          "font": {
           "color": "#2a3f5f"
          },
          "geo": {
           "bgcolor": "white",
           "lakecolor": "white",
           "landcolor": "#E5ECF6",
           "showlakes": true,
           "showland": true,
           "subunitcolor": "white"
          },
          "hoverlabel": {
           "align": "left"
          },
          "hovermode": "closest",
          "mapbox": {
           "style": "light"
          },
          "paper_bgcolor": "white",
          "plot_bgcolor": "#E5ECF6",
          "polar": {
           "angularaxis": {
            "gridcolor": "white",
            "linecolor": "white",
            "ticks": ""
           },
           "bgcolor": "#E5ECF6",
           "radialaxis": {
            "gridcolor": "white",
            "linecolor": "white",
            "ticks": ""
           }
          },
          "scene": {
           "xaxis": {
            "backgroundcolor": "#E5ECF6",
            "gridcolor": "white",
            "gridwidth": 2,
            "linecolor": "white",
            "showbackground": true,
            "ticks": "",
            "zerolinecolor": "white"
           },
           "yaxis": {
            "backgroundcolor": "#E5ECF6",
            "gridcolor": "white",
            "gridwidth": 2,
            "linecolor": "white",
            "showbackground": true,
            "ticks": "",
            "zerolinecolor": "white"
           },
           "zaxis": {
            "backgroundcolor": "#E5ECF6",
            "gridcolor": "white",
            "gridwidth": 2,
            "linecolor": "white",
            "showbackground": true,
            "ticks": "",
            "zerolinecolor": "white"
           }
          },
          "shapedefaults": {
           "line": {
            "color": "#2a3f5f"
           }
          },
          "ternary": {
           "aaxis": {
            "gridcolor": "white",
            "linecolor": "white",
            "ticks": ""
           },
           "baxis": {
            "gridcolor": "white",
            "linecolor": "white",
            "ticks": ""
           },
           "bgcolor": "#E5ECF6",
           "caxis": {
            "gridcolor": "white",
            "linecolor": "white",
            "ticks": ""
           }
          },
          "title": {
           "x": 0.05
          },
          "xaxis": {
           "automargin": true,
           "gridcolor": "white",
           "linecolor": "white",
           "ticks": "",
           "title": {
            "standoff": 15
           },
           "zerolinecolor": "white",
           "zerolinewidth": 2
          },
          "yaxis": {
           "automargin": true,
           "gridcolor": "white",
           "linecolor": "white",
           "ticks": "",
           "title": {
            "standoff": 15
           },
           "zerolinecolor": "white",
           "zerolinewidth": 2
          }
         }
        },
        "title": {
         "text": "MS Spectra for Aligned Feature: 1029_PHerb1_1-1-romulo"
        },
        "xaxis": {
         "autorange": true,
         "range": [
          51.1937,
          332.2304
         ],
         "title": {
          "text": "m/z"
         },
         "type": "linear"
        },
        "yaxis": {
         "autorange": true,
         "range": [
          -105555.55555555556,
          2005555.5555555555
         ],
         "title": {
          "text": "Intensity"
         },
         "type": "linear"
        }
       }
      },
      "image/png": "[encoded data removed]"
     },
     "metadata": {},
     "output_type": "display_data"
    }
   ],
   "source": [
    "# Plot random MS spectra\n",
    "plot_random_ms_spectra(MSfiltered_aligned_features_df, spectra, project_prefix)\n"
   ]
  },
  {
   "cell_type": "markdown",
   "id": "70409645-bab0-4072-97c0-d04c9256a38b",
   "metadata": {},
   "source": [
    "---\n",
    "#### Organize dataset"
   ]
  },
  {
   "cell_type": "code",
   "execution_count": 17,
   "id": "e1b5498b-60cc-43c7-a773-4aa4bbaaae49",
   "metadata": {},
   "outputs": [
    {
     "name": "stdout",
     "output_type": "stream",
     "text": [
      "Modified combined file saved at: C:\\Users\\PC Lab\\Edison_Lab@UGA Dropbox\\Ricardo Borges\\Projeto_herbarium\\Andrew Lab\\Projeto herbário\\MSMS - Amostras\\Projeto_alinhamento\\Processamento_romulo\\batches\\combined_results\\classification.csv\n"
     ]
    },
    {
     "data": {
      "text/html": [
       "<div>\n",
       "<style scoped>\n",
       "    .dataframe tbody tr th:only-of-type {\n",
       "        vertical-align: middle;\n",
       "    }\n",
       "\n",
       "    .dataframe tbody tr th {\n",
       "        vertical-align: top;\n",
       "    }\n",
       "\n",
       "    .dataframe thead th {\n",
       "        text-align: right;\n",
       "    }\n",
       "</style>\n",
       "<table border=\"1\" class=\"dataframe\">\n",
       "  <thead>\n",
       "    <tr style=\"text-align: right;\">\n",
       "      <th></th>\n",
       "      <th>feature_info</th>\n",
       "      <th>PHerb1_1-1-romulo_Filename</th>\n",
       "      <th>PHerb1_1-1-romulo_6.mzML</th>\n",
       "      <th>PHerb1_1-1-romulo_16.mzML</th>\n",
       "      <th>PHerb1_1-1-romulo_12.mzML</th>\n",
       "      <th>PHerb1_1-1-romulo_13.mzML</th>\n",
       "      <th>PHerb1_1-1-romulo_3.mzML</th>\n",
       "      <th>PHerb1_1-1-romulo_20.mzML</th>\n",
       "      <th>PHerb1_1-1-romulo_15.mzML</th>\n",
       "      <th>PHerb1_1-1-romulo_10.mzML</th>\n",
       "      <th>...</th>\n",
       "      <th>PHerb1_2-2-romulo_125.mzML</th>\n",
       "      <th>PHerb1_2-2-romulo_MPCQExt_20231025090714.mzML</th>\n",
       "      <th>PHerb1_2-2-romulo_127.mzML</th>\n",
       "      <th>PHerb1_2-2-romulo_122.mzML</th>\n",
       "      <th>PHerb1_2-2-romulo_109.mzML</th>\n",
       "      <th>PHerb1_2-2-romulo_CQExt_20231027161607.mzML</th>\n",
       "      <th>PHerb1_2-2-romulo_MPCQExt_20231025030633.mzML</th>\n",
       "      <th>PHerb1_2-2-romulo_CQExt_20231027134303.mzML</th>\n",
       "      <th>PHerb1_2-2-romulo_CQExt_20231027105901.mzML</th>\n",
       "      <th>PHerb1_2-2-romulo_MPCQExt_20231027110958.mzML</th>\n",
       "    </tr>\n",
       "  </thead>\n",
       "  <tbody>\n",
       "    <tr>\n",
       "      <th>0</th>\n",
       "      <td>group</td>\n",
       "      <td>group</td>\n",
       "      <td>Paepalanthus flaccidus_FLONA</td>\n",
       "      <td>Paepalanthus flaccidus_FLONA</td>\n",
       "      <td>Paepalanthus flaccidus_FLONA</td>\n",
       "      <td>Paepalanthus flaccidus_FLONA</td>\n",
       "      <td>Paepalanthus flaccidus_FLONA</td>\n",
       "      <td>Paepalanthus flaccidus_CHAPOR</td>\n",
       "      <td>Paepalanthus flaccidus_FLONA</td>\n",
       "      <td>Paepalanthus flaccidus_FLONA</td>\n",
       "      <td>...</td>\n",
       "      <td>Paepalanthus trichophyllus_CHAes</td>\n",
       "      <td>MPCQExt</td>\n",
       "      <td>Paepalanthus trichophyllus_CHAes</td>\n",
       "      <td>Paepalanthus trichophyllus_CHAes</td>\n",
       "      <td>Paepalanthus trichophyllus_CHACRU</td>\n",
       "      <td>CQExt</td>\n",
       "      <td>MPCQExt</td>\n",
       "      <td>CQExt</td>\n",
       "      <td>CQExt</td>\n",
       "      <td>MPCQExt</td>\n",
       "    </tr>\n",
       "  </tbody>\n",
       "</table>\n",
       "<p>1 rows × 153 columns</p>\n",
       "</div>"
      ],
      "text/plain": [
       "  feature_info PHerb1_1-1-romulo_Filename      PHerb1_1-1-romulo_6.mzML  \\\n",
       "0        group                      group  Paepalanthus flaccidus_FLONA   \n",
       "\n",
       "      PHerb1_1-1-romulo_16.mzML     PHerb1_1-1-romulo_12.mzML  \\\n",
       "0  Paepalanthus flaccidus_FLONA  Paepalanthus flaccidus_FLONA   \n",
       "\n",
       "      PHerb1_1-1-romulo_13.mzML      PHerb1_1-1-romulo_3.mzML  \\\n",
       "0  Paepalanthus flaccidus_FLONA  Paepalanthus flaccidus_FLONA   \n",
       "\n",
       "       PHerb1_1-1-romulo_20.mzML     PHerb1_1-1-romulo_15.mzML  \\\n",
       "0  Paepalanthus flaccidus_CHAPOR  Paepalanthus flaccidus_FLONA   \n",
       "\n",
       "      PHerb1_1-1-romulo_10.mzML  ...        PHerb1_2-2-romulo_125.mzML  \\\n",
       "0  Paepalanthus flaccidus_FLONA  ...  Paepalanthus trichophyllus_CHAes   \n",
       "\n",
       "  PHerb1_2-2-romulo_MPCQExt_20231025090714.mzML  \\\n",
       "0                                       MPCQExt   \n",
       "\n",
       "         PHerb1_2-2-romulo_127.mzML        PHerb1_2-2-romulo_122.mzML  \\\n",
       "0  Paepalanthus trichophyllus_CHAes  Paepalanthus trichophyllus_CHAes   \n",
       "\n",
       "          PHerb1_2-2-romulo_109.mzML  \\\n",
       "0  Paepalanthus trichophyllus_CHACRU   \n",
       "\n",
       "  PHerb1_2-2-romulo_CQExt_20231027161607.mzML  \\\n",
       "0                                       CQExt   \n",
       "\n",
       "  PHerb1_2-2-romulo_MPCQExt_20231025030633.mzML  \\\n",
       "0                                       MPCQExt   \n",
       "\n",
       "  PHerb1_2-2-romulo_CQExt_20231027134303.mzML  \\\n",
       "0                                       CQExt   \n",
       "\n",
       "  PHerb1_2-2-romulo_CQExt_20231027105901.mzML  \\\n",
       "0                                       CQExt   \n",
       "\n",
       "  PHerb1_2-2-romulo_MPCQExt_20231027110958.mzML  \n",
       "0                                       MPCQExt  \n",
       "\n",
       "[1 rows x 153 columns]"
      ]
     },
     "metadata": {},
     "output_type": "display_data"
    }
   ],
   "source": [
    "# Initialize a dictionary to store the combined classification row\n",
    "classification_row = {'feature_info': 'group'}\n",
    "\n",
    "# Loop through each file to process them\n",
    "for file in file_paths:\n",
    "    df = pd.read_csv(file)\n",
    "    \n",
    "    # Get the batch identifier from the filename\n",
    "    filename = os.path.basename(file).replace('_MetaboAnalyst.csv', '')\n",
    "    \n",
    "    # Get the first row\n",
    "    first_row = df.iloc[0].copy()\n",
    "    \n",
    "    # Append the batch identifier to each value in the first row\n",
    "    for col in first_row.index:\n",
    "        if col not in ['row ID', 'label']:  # Exclude non-sample columns\n",
    "            classification_row[f\"{filename}_{col}\"] = first_row[col]\n",
    "\n",
    "# Convert the combined row dictionary to a DataFrame with a single row\n",
    "classification_combined = pd.DataFrame([classification_row])\n",
    "\n",
    "# Replace NaN values with 0\n",
    "classification_combined.fillna(0, inplace=True)\n",
    "\n",
    "# Create the subdirectory if it doesn't exist\n",
    "output_dir = os.path.join(directory_path, 'combined_results')\n",
    "if not os.path.exists(output_dir):\n",
    "    os.makedirs(output_dir)\n",
    "\n",
    "# Save the modified DataFrame to the new subdirectory\n",
    "output_file_path = os.path.join(output_dir, 'classification.csv')\n",
    "classification_combined.to_csv(output_file_path, index=False)\n",
    "\n",
    "print(f\"Modified combined file saved at: {output_file_path}\")\n",
    "\n",
    "# Display the combined classification DataFrame\n",
    "display(classification_combined)"
   ]
  },
  {
   "cell_type": "code",
   "execution_count": 18,
   "id": "5c2d98da-8046-4537-9144-8aabed82decc",
   "metadata": {},
   "outputs": [],
   "source": [
    "# Identify the sample columns to keep\n",
    "sample_columns = [col for col in MSfiltered_aligned_features_df.columns if col.endswith('.mzML') or col.endswith('.mzXML')]\n",
    "\n",
    "# Create a new DataFrame with the concatenated 'scan_number', 'mz_value', 'rt_value' column and the sample columns\n",
    "filtered_df = MSfiltered_aligned_features_df[sample_columns].copy()\n",
    "filtered_df['feature_info'] = MSfiltered_aligned_features_df.apply(lambda row: f\"{int(row['scan_number'])}_{row['mz_value']}_{row['rt_value']}\", axis=1)\n",
    "\n",
    "# Reorder columns to have 'feature_info' first\n",
    "filtered_df = filtered_df[['feature_info'] + sample_columns]\n",
    "\n",
    "# Replace all NaN values with zeros\n",
    "filtered_df.fillna(0, inplace=True)\n",
    "\n",
    "# Create the subdirectory if it doesn't exist\n",
    "output_dir = os.path.join(directory_path, 'alignment_info_df')\n",
    "if not os.path.exists(output_dir):\n",
    "    os.makedirs(output_dir)\n",
    "\n",
    "# Save the new DataFrame to a CSV file\n",
    "output_file_path = os.path.join(output_dir, 'filtered_aligned_features.csv')\n",
    "filtered_df.to_csv(output_file_path, index=False)\n",
    "\n",
    "# Display the filtered DataFrame\n",
    "pd.set_option(\"max_colwidth\", None)\n",
    "#display(filtered_df)"
   ]
  },
  {
   "cell_type": "code",
   "execution_count": 20,
   "id": "2b68e649-0caf-462b-aa91-d7e4bd8f88d2",
   "metadata": {},
   "outputs": [
    {
     "name": "stdout",
     "output_type": "stream",
     "text": [
      "Modified combined file saved at: C:\\Users\\PC Lab\\Edison_Lab@UGA Dropbox\\Ricardo Borges\\Projeto_herbarium\\Andrew Lab\\Projeto herbário\\MSMS - Amostras\\Projeto_alinhamento\\Processamento_romulo\\batches\\combined_results\\filtered_aligned_features_with_classification_MetaboAnalyst.csv\n"
     ]
    },
    {
     "data": {
      "text/html": [
       "<div>\n",
       "<style scoped>\n",
       "    .dataframe tbody tr th:only-of-type {\n",
       "        vertical-align: middle;\n",
       "    }\n",
       "\n",
       "    .dataframe tbody tr th {\n",
       "        vertical-align: top;\n",
       "    }\n",
       "\n",
       "    .dataframe thead th {\n",
       "        text-align: right;\n",
       "    }\n",
       "</style>\n",
       "<table border=\"1\" class=\"dataframe\">\n",
       "  <thead>\n",
       "    <tr style=\"text-align: right;\">\n",
       "      <th></th>\n",
       "      <th>feature_info</th>\n",
       "      <th>df_PHerb1_1-1-romulo_6.mzML</th>\n",
       "      <th>df_PHerb1_1-1-romulo_16.mzML</th>\n",
       "      <th>df_PHerb1_1-1-romulo_12.mzML</th>\n",
       "      <th>df_PHerb1_1-1-romulo_13.mzML</th>\n",
       "      <th>df_PHerb1_1-1-romulo_3.mzML</th>\n",
       "      <th>df_PHerb1_1-1-romulo_20.mzML</th>\n",
       "      <th>df_PHerb1_1-1-romulo_15.mzML</th>\n",
       "      <th>df_PHerb1_1-1-romulo_10.mzML</th>\n",
       "      <th>df_PHerb1_1-1-romulo_39.mzML</th>\n",
       "      <th>...</th>\n",
       "      <th>df_PHerb1_2-2-romulo_125.mzML</th>\n",
       "      <th>df_PHerb1_2-2-romulo_MPCQExt_20231025090714.mzML</th>\n",
       "      <th>df_PHerb1_2-2-romulo_127.mzML</th>\n",
       "      <th>df_PHerb1_2-2-romulo_122.mzML</th>\n",
       "      <th>df_PHerb1_2-2-romulo_109.mzML</th>\n",
       "      <th>df_PHerb1_2-2-romulo_CQExt_20231027161607.mzML</th>\n",
       "      <th>df_PHerb1_2-2-romulo_MPCQExt_20231025030633.mzML</th>\n",
       "      <th>df_PHerb1_2-2-romulo_CQExt_20231027134303.mzML</th>\n",
       "      <th>df_PHerb1_2-2-romulo_CQExt_20231027105901.mzML</th>\n",
       "      <th>df_PHerb1_2-2-romulo_MPCQExt_20231027110958.mzML</th>\n",
       "    </tr>\n",
       "  </thead>\n",
       "  <tbody>\n",
       "    <tr>\n",
       "      <th>0</th>\n",
       "      <td>group</td>\n",
       "      <td>Paepalanthus flaccidus_FLONA</td>\n",
       "      <td>Paepalanthus flaccidus_FLONA</td>\n",
       "      <td>Paepalanthus flaccidus_FLONA</td>\n",
       "      <td>Paepalanthus flaccidus_FLONA</td>\n",
       "      <td>Paepalanthus flaccidus_FLONA</td>\n",
       "      <td>Paepalanthus flaccidus_CHAPOR</td>\n",
       "      <td>Paepalanthus flaccidus_FLONA</td>\n",
       "      <td>Paepalanthus flaccidus_FLONA</td>\n",
       "      <td>Paepalanthus flaccidus_BABY</td>\n",
       "      <td>...</td>\n",
       "      <td>Paepalanthus trichophyllus_CHAes</td>\n",
       "      <td>MPCQExt</td>\n",
       "      <td>Paepalanthus trichophyllus_CHAes</td>\n",
       "      <td>Paepalanthus trichophyllus_CHAes</td>\n",
       "      <td>Paepalanthus trichophyllus_CHACRU</td>\n",
       "      <td>CQExt</td>\n",
       "      <td>MPCQExt</td>\n",
       "      <td>CQExt</td>\n",
       "      <td>CQExt</td>\n",
       "      <td>MPCQExt</td>\n",
       "    </tr>\n",
       "    <tr>\n",
       "      <th>1</th>\n",
       "      <td>2_83.5361_0.21</td>\n",
       "      <td>0</td>\n",
       "      <td>665364.5625</td>\n",
       "      <td>0</td>\n",
       "      <td>438936.5</td>\n",
       "      <td>532140.125</td>\n",
       "      <td>0</td>\n",
       "      <td>0</td>\n",
       "      <td>0</td>\n",
       "      <td>0</td>\n",
       "      <td>...</td>\n",
       "      <td>0</td>\n",
       "      <td>0</td>\n",
       "      <td>0</td>\n",
       "      <td>0</td>\n",
       "      <td>0</td>\n",
       "      <td>0</td>\n",
       "      <td>0</td>\n",
       "      <td>0</td>\n",
       "      <td>0</td>\n",
       "      <td>0</td>\n",
       "    </tr>\n",
       "    <tr>\n",
       "      <th>2</th>\n",
       "      <td>3_153.0331_0.21</td>\n",
       "      <td>0</td>\n",
       "      <td>0</td>\n",
       "      <td>0</td>\n",
       "      <td>0</td>\n",
       "      <td>0</td>\n",
       "      <td>0</td>\n",
       "      <td>0</td>\n",
       "      <td>0</td>\n",
       "      <td>0</td>\n",
       "      <td>...</td>\n",
       "      <td>0</td>\n",
       "      <td>0</td>\n",
       "      <td>0</td>\n",
       "      <td>0</td>\n",
       "      <td>0</td>\n",
       "      <td>0</td>\n",
       "      <td>0</td>\n",
       "      <td>0</td>\n",
       "      <td>0</td>\n",
       "      <td>2333383.5</td>\n",
       "    </tr>\n",
       "    <tr>\n",
       "      <th>3</th>\n",
       "      <td>4_241.9999_0.21</td>\n",
       "      <td>644490.8125</td>\n",
       "      <td>1089360.125</td>\n",
       "      <td>0</td>\n",
       "      <td>1040891.9375</td>\n",
       "      <td>1098392.75</td>\n",
       "      <td>0</td>\n",
       "      <td>0</td>\n",
       "      <td>0</td>\n",
       "      <td>0</td>\n",
       "      <td>...</td>\n",
       "      <td>0</td>\n",
       "      <td>0</td>\n",
       "      <td>0</td>\n",
       "      <td>0</td>\n",
       "      <td>0</td>\n",
       "      <td>0</td>\n",
       "      <td>0</td>\n",
       "      <td>0</td>\n",
       "      <td>0</td>\n",
       "      <td>0</td>\n",
       "    </tr>\n",
       "    <tr>\n",
       "      <th>4</th>\n",
       "      <td>5_130.0174_0.21</td>\n",
       "      <td>0</td>\n",
       "      <td>343931.6875</td>\n",
       "      <td>0</td>\n",
       "      <td>0</td>\n",
       "      <td>353365.28125</td>\n",
       "      <td>0</td>\n",
       "      <td>0</td>\n",
       "      <td>0</td>\n",
       "      <td>0</td>\n",
       "      <td>...</td>\n",
       "      <td>0</td>\n",
       "      <td>0</td>\n",
       "      <td>0</td>\n",
       "      <td>0</td>\n",
       "      <td>0</td>\n",
       "      <td>0</td>\n",
       "      <td>0</td>\n",
       "      <td>0</td>\n",
       "      <td>0</td>\n",
       "      <td>0</td>\n",
       "    </tr>\n",
       "    <tr>\n",
       "      <th>...</th>\n",
       "      <td>...</td>\n",
       "      <td>...</td>\n",
       "      <td>...</td>\n",
       "      <td>...</td>\n",
       "      <td>...</td>\n",
       "      <td>...</td>\n",
       "      <td>...</td>\n",
       "      <td>...</td>\n",
       "      <td>...</td>\n",
       "      <td>...</td>\n",
       "      <td>...</td>\n",
       "      <td>...</td>\n",
       "      <td>...</td>\n",
       "      <td>...</td>\n",
       "      <td>...</td>\n",
       "      <td>...</td>\n",
       "      <td>...</td>\n",
       "      <td>...</td>\n",
       "      <td>...</td>\n",
       "      <td>...</td>\n",
       "      <td>...</td>\n",
       "    </tr>\n",
       "    <tr>\n",
       "      <th>628</th>\n",
       "      <td>425_251.164_2.68</td>\n",
       "      <td>0</td>\n",
       "      <td>0</td>\n",
       "      <td>0</td>\n",
       "      <td>0</td>\n",
       "      <td>0</td>\n",
       "      <td>0</td>\n",
       "      <td>0</td>\n",
       "      <td>0</td>\n",
       "      <td>0</td>\n",
       "      <td>...</td>\n",
       "      <td>0</td>\n",
       "      <td>0</td>\n",
       "      <td>0</td>\n",
       "      <td>0</td>\n",
       "      <td>0</td>\n",
       "      <td>0</td>\n",
       "      <td>0</td>\n",
       "      <td>0</td>\n",
       "      <td>0</td>\n",
       "      <td>0</td>\n",
       "    </tr>\n",
       "    <tr>\n",
       "      <th>629</th>\n",
       "      <td>504_209.1546_3.53</td>\n",
       "      <td>0</td>\n",
       "      <td>0</td>\n",
       "      <td>0</td>\n",
       "      <td>0</td>\n",
       "      <td>0</td>\n",
       "      <td>0</td>\n",
       "      <td>0</td>\n",
       "      <td>0</td>\n",
       "      <td>0</td>\n",
       "      <td>...</td>\n",
       "      <td>0</td>\n",
       "      <td>0</td>\n",
       "      <td>0</td>\n",
       "      <td>0</td>\n",
       "      <td>686184.125</td>\n",
       "      <td>0</td>\n",
       "      <td>0</td>\n",
       "      <td>0</td>\n",
       "      <td>0</td>\n",
       "      <td>0</td>\n",
       "    </tr>\n",
       "    <tr>\n",
       "      <th>630</th>\n",
       "      <td>508_353.2306_3.59</td>\n",
       "      <td>0</td>\n",
       "      <td>0</td>\n",
       "      <td>0</td>\n",
       "      <td>0</td>\n",
       "      <td>0</td>\n",
       "      <td>0</td>\n",
       "      <td>0</td>\n",
       "      <td>0</td>\n",
       "      <td>0</td>\n",
       "      <td>...</td>\n",
       "      <td>0</td>\n",
       "      <td>0</td>\n",
       "      <td>0</td>\n",
       "      <td>0</td>\n",
       "      <td>1730002.875</td>\n",
       "      <td>0</td>\n",
       "      <td>0</td>\n",
       "      <td>0</td>\n",
       "      <td>0</td>\n",
       "      <td>0</td>\n",
       "    </tr>\n",
       "    <tr>\n",
       "      <th>631</th>\n",
       "      <td>584_279.1587_4.74</td>\n",
       "      <td>0</td>\n",
       "      <td>0</td>\n",
       "      <td>0</td>\n",
       "      <td>0</td>\n",
       "      <td>0</td>\n",
       "      <td>0</td>\n",
       "      <td>0</td>\n",
       "      <td>0</td>\n",
       "      <td>0</td>\n",
       "      <td>...</td>\n",
       "      <td>0</td>\n",
       "      <td>0</td>\n",
       "      <td>0</td>\n",
       "      <td>0</td>\n",
       "      <td>2976240.25</td>\n",
       "      <td>0</td>\n",
       "      <td>0</td>\n",
       "      <td>0</td>\n",
       "      <td>0</td>\n",
       "      <td>0</td>\n",
       "    </tr>\n",
       "    <tr>\n",
       "      <th>632</th>\n",
       "      <td>773_107.0608_7.7</td>\n",
       "      <td>0</td>\n",
       "      <td>0</td>\n",
       "      <td>0</td>\n",
       "      <td>0</td>\n",
       "      <td>0</td>\n",
       "      <td>0</td>\n",
       "      <td>0</td>\n",
       "      <td>0</td>\n",
       "      <td>0</td>\n",
       "      <td>...</td>\n",
       "      <td>0</td>\n",
       "      <td>0</td>\n",
       "      <td>0</td>\n",
       "      <td>0</td>\n",
       "      <td>0</td>\n",
       "      <td>0</td>\n",
       "      <td>0</td>\n",
       "      <td>442521.28125</td>\n",
       "      <td>0</td>\n",
       "      <td>0</td>\n",
       "    </tr>\n",
       "  </tbody>\n",
       "</table>\n",
       "<p>633 rows × 149 columns</p>\n",
       "</div>"
      ],
      "text/plain": [
       "          feature_info   df_PHerb1_1-1-romulo_6.mzML  \\\n",
       "0                group  Paepalanthus flaccidus_FLONA   \n",
       "1       2_83.5361_0.21                             0   \n",
       "2      3_153.0331_0.21                             0   \n",
       "3      4_241.9999_0.21                   644490.8125   \n",
       "4      5_130.0174_0.21                             0   \n",
       "..                 ...                           ...   \n",
       "628   425_251.164_2.68                             0   \n",
       "629  504_209.1546_3.53                             0   \n",
       "630  508_353.2306_3.59                             0   \n",
       "631  584_279.1587_4.74                             0   \n",
       "632   773_107.0608_7.7                             0   \n",
       "\n",
       "     df_PHerb1_1-1-romulo_16.mzML  df_PHerb1_1-1-romulo_12.mzML  \\\n",
       "0    Paepalanthus flaccidus_FLONA  Paepalanthus flaccidus_FLONA   \n",
       "1                     665364.5625                             0   \n",
       "2                               0                             0   \n",
       "3                     1089360.125                             0   \n",
       "4                     343931.6875                             0   \n",
       "..                            ...                           ...   \n",
       "628                             0                             0   \n",
       "629                             0                             0   \n",
       "630                             0                             0   \n",
       "631                             0                             0   \n",
       "632                             0                             0   \n",
       "\n",
       "     df_PHerb1_1-1-romulo_13.mzML   df_PHerb1_1-1-romulo_3.mzML  \\\n",
       "0    Paepalanthus flaccidus_FLONA  Paepalanthus flaccidus_FLONA   \n",
       "1                        438936.5                    532140.125   \n",
       "2                               0                             0   \n",
       "3                    1040891.9375                    1098392.75   \n",
       "4                               0                  353365.28125   \n",
       "..                            ...                           ...   \n",
       "628                             0                             0   \n",
       "629                             0                             0   \n",
       "630                             0                             0   \n",
       "631                             0                             0   \n",
       "632                             0                             0   \n",
       "\n",
       "      df_PHerb1_1-1-romulo_20.mzML  df_PHerb1_1-1-romulo_15.mzML  \\\n",
       "0    Paepalanthus flaccidus_CHAPOR  Paepalanthus flaccidus_FLONA   \n",
       "1                                0                             0   \n",
       "2                                0                             0   \n",
       "3                                0                             0   \n",
       "4                                0                             0   \n",
       "..                             ...                           ...   \n",
       "628                              0                             0   \n",
       "629                              0                             0   \n",
       "630                              0                             0   \n",
       "631                              0                             0   \n",
       "632                              0                             0   \n",
       "\n",
       "     df_PHerb1_1-1-romulo_10.mzML df_PHerb1_1-1-romulo_39.mzML  ...  \\\n",
       "0    Paepalanthus flaccidus_FLONA  Paepalanthus flaccidus_BABY  ...   \n",
       "1                               0                            0  ...   \n",
       "2                               0                            0  ...   \n",
       "3                               0                            0  ...   \n",
       "4                               0                            0  ...   \n",
       "..                            ...                          ...  ...   \n",
       "628                             0                            0  ...   \n",
       "629                             0                            0  ...   \n",
       "630                             0                            0  ...   \n",
       "631                             0                            0  ...   \n",
       "632                             0                            0  ...   \n",
       "\n",
       "        df_PHerb1_2-2-romulo_125.mzML  \\\n",
       "0    Paepalanthus trichophyllus_CHAes   \n",
       "1                                   0   \n",
       "2                                   0   \n",
       "3                                   0   \n",
       "4                                   0   \n",
       "..                                ...   \n",
       "628                                 0   \n",
       "629                                 0   \n",
       "630                                 0   \n",
       "631                                 0   \n",
       "632                                 0   \n",
       "\n",
       "    df_PHerb1_2-2-romulo_MPCQExt_20231025090714.mzML  \\\n",
       "0                                            MPCQExt   \n",
       "1                                                  0   \n",
       "2                                                  0   \n",
       "3                                                  0   \n",
       "4                                                  0   \n",
       "..                                               ...   \n",
       "628                                                0   \n",
       "629                                                0   \n",
       "630                                                0   \n",
       "631                                                0   \n",
       "632                                                0   \n",
       "\n",
       "        df_PHerb1_2-2-romulo_127.mzML     df_PHerb1_2-2-romulo_122.mzML  \\\n",
       "0    Paepalanthus trichophyllus_CHAes  Paepalanthus trichophyllus_CHAes   \n",
       "1                                   0                                 0   \n",
       "2                                   0                                 0   \n",
       "3                                   0                                 0   \n",
       "4                                   0                                 0   \n",
       "..                                ...                               ...   \n",
       "628                                 0                                 0   \n",
       "629                                 0                                 0   \n",
       "630                                 0                                 0   \n",
       "631                                 0                                 0   \n",
       "632                                 0                                 0   \n",
       "\n",
       "         df_PHerb1_2-2-romulo_109.mzML  \\\n",
       "0    Paepalanthus trichophyllus_CHACRU   \n",
       "1                                    0   \n",
       "2                                    0   \n",
       "3                                    0   \n",
       "4                                    0   \n",
       "..                                 ...   \n",
       "628                                  0   \n",
       "629                         686184.125   \n",
       "630                        1730002.875   \n",
       "631                         2976240.25   \n",
       "632                                  0   \n",
       "\n",
       "    df_PHerb1_2-2-romulo_CQExt_20231027161607.mzML  \\\n",
       "0                                            CQExt   \n",
       "1                                                0   \n",
       "2                                                0   \n",
       "3                                                0   \n",
       "4                                                0   \n",
       "..                                             ...   \n",
       "628                                              0   \n",
       "629                                              0   \n",
       "630                                              0   \n",
       "631                                              0   \n",
       "632                                              0   \n",
       "\n",
       "    df_PHerb1_2-2-romulo_MPCQExt_20231025030633.mzML  \\\n",
       "0                                            MPCQExt   \n",
       "1                                                  0   \n",
       "2                                                  0   \n",
       "3                                                  0   \n",
       "4                                                  0   \n",
       "..                                               ...   \n",
       "628                                                0   \n",
       "629                                                0   \n",
       "630                                                0   \n",
       "631                                                0   \n",
       "632                                                0   \n",
       "\n",
       "    df_PHerb1_2-2-romulo_CQExt_20231027134303.mzML  \\\n",
       "0                                            CQExt   \n",
       "1                                                0   \n",
       "2                                                0   \n",
       "3                                                0   \n",
       "4                                                0   \n",
       "..                                             ...   \n",
       "628                                              0   \n",
       "629                                              0   \n",
       "630                                              0   \n",
       "631                                              0   \n",
       "632                                   442521.28125   \n",
       "\n",
       "    df_PHerb1_2-2-romulo_CQExt_20231027105901.mzML  \\\n",
       "0                                            CQExt   \n",
       "1                                                0   \n",
       "2                                                0   \n",
       "3                                                0   \n",
       "4                                                0   \n",
       "..                                             ...   \n",
       "628                                              0   \n",
       "629                                              0   \n",
       "630                                              0   \n",
       "631                                              0   \n",
       "632                                              0   \n",
       "\n",
       "    df_PHerb1_2-2-romulo_MPCQExt_20231027110958.mzML  \n",
       "0                                            MPCQExt  \n",
       "1                                                  0  \n",
       "2                                          2333383.5  \n",
       "3                                                  0  \n",
       "4                                                  0  \n",
       "..                                               ...  \n",
       "628                                                0  \n",
       "629                                                0  \n",
       "630                                                0  \n",
       "631                                                0  \n",
       "632                                                0  \n",
       "\n",
       "[633 rows x 149 columns]"
      ]
     },
     "metadata": {},
     "output_type": "display_data"
    }
   ],
   "source": [
    "# Identify the sample columns to keep\n",
    "sample_columns = [col for col in MSfiltered_aligned_features_df.columns if col.endswith('.mzML') or col.endswith('.mzXML')]\n",
    "\n",
    "# Create a new DataFrame with the concatenated 'scan_number', 'mz_value', 'rt_value' column and the sample columns\n",
    "filtered_df = MSfiltered_aligned_features_df[sample_columns].copy()\n",
    "filtered_df['feature_info'] = MSfiltered_aligned_features_df.apply(lambda row: f\"{int(row['scan_number'])}_{row['mz_value']}_{row['rt_value']}\", axis=1)\n",
    "\n",
    "# Reorder columns to have 'feature_info' first\n",
    "filtered_df = filtered_df[['feature_info'] + sample_columns]\n",
    "\n",
    "# Replace all NaN values with zeros\n",
    "filtered_df.fillna(0, inplace=True)\n",
    "\n",
    "# Initialize a dictionary to store the combined classification row\n",
    "classification_row = {'feature_info': 'group'}\n",
    "\n",
    "# Loop through each file to process them\n",
    "for file in file_paths:\n",
    "    df = pd.read_csv(file)\n",
    "    \n",
    "    # Get the batch identifier from the filename\n",
    "    filename = os.path.basename(file).replace('_MetaboAnalyst.csv', '')\n",
    "    \n",
    "    # Get the first row\n",
    "    first_row = df.iloc[0].copy()\n",
    "    \n",
    "    # Append the batch identifier to each value in the first row\n",
    "    for col in first_row.index:\n",
    "        if col not in ['row ID', 'label']:  # Exclude non-sample columns\n",
    "            classification_row[f\"{filename}_{col}\"] = first_row[col]\n",
    "\n",
    "# Create a classification row based on the sample columns of filtered_df\n",
    "classification_data = {'feature_info': 'group'}\n",
    "for col in sample_columns:\n",
    "    for key in classification_row.keys():\n",
    "        if key in col:\n",
    "            classification_data[col] = classification_row[key]\n",
    "\n",
    "# Convert the combined classification dictionary to a DataFrame with a single row\n",
    "classification_df = pd.DataFrame([classification_data])\n",
    "\n",
    "# Replace NaN values with zeros\n",
    "classification_df.fillna(0, inplace=True)\n",
    "\n",
    "# Combine classification_df as the first row of filtered_df\n",
    "final_alignment_df = pd.concat([classification_df, filtered_df], ignore_index=True)\n",
    "\n",
    "# Create the subdirectory if it doesn't exist\n",
    "output_dir = os.path.join(directory_path, 'combined_results')\n",
    "if not os.path.exists(output_dir):\n",
    "    os.makedirs(output_dir)\n",
    "\n",
    "# Save the modified DataFrame to the new subdirectory\n",
    "output_file_path = os.path.join(output_dir, 'filtered_aligned_features_with_classification_MetaboAnalyst.csv')\n",
    "final_alignment_df.to_csv(output_file_path, index=False)\n",
    "\n",
    "print(f\"Modified combined file saved at: {output_file_path}\")\n",
    "\n",
    "# Display the final DataFrame\n",
    "pd.set_option(\"max_colwidth\", None)\n",
    "display(final_alignment_df)"
   ]
  }
 ],
 "metadata": {
  "kernelspec": {
   "display_name": "Python 3 (ipykernel)",
   "language": "python",
   "name": "python3"
  },
  "language_info": {
   "codemirror_mode": {
    "name": "ipython",
    "version": 3
   },
   "file_extension": ".py",
   "mimetype": "text/x-python",
   "name": "python",
   "nbconvert_exporter": "python",
   "pygments_lexer": "ipython3",
   "version": "3.11.6"
  }
 },
 "nbformat": 4,
 "nbformat_minor": 5
}
